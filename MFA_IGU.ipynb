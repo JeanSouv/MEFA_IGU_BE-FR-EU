{
 "cells": [
  {
   "cell_type": "code",
   "execution_count": null,
   "metadata": {},
   "outputs": [],
   "source": [
    "import os\n",
    "import re\n",
    "import sys\n",
    "\n",
    "import pathlib\n",
    "from pathlib import Path\n",
    "\n",
    "import sqlite3\n",
    "\n",
    "import pandas as pd\n",
    "import numpy as np\n",
    "\n",
    "from scipy import stats\n",
    "\n",
    "import math\n",
    "\n",
    "import matplotlib as mpl\n",
    "import matplotlib.pyplot as plt\n",
    "\n",
    "import seaborn as sns\n",
    "\n",
    "import pickle\n",
    "import xlrd\n",
    "import pylab"
   ]
  },
  {
   "cell_type": "code",
   "execution_count": null,
   "metadata": {},
   "outputs": [],
   "source": [
    "# Helper (support)\n",
    "from support import input_helper"
   ]
  },
  {
   "cell_type": "code",
   "execution_count": null,
   "metadata": {},
   "outputs": [],
   "source": [
    "# Directory with IGU datasets:\n",
    "ROOT_DIR = \"RawData\"\n",
    "\n",
    "# Specify path to dynamic stock model and to datafile, relative\n",
    "MainPath = os.path.join('odym', 'modules')\n",
    "DataPath = os.path.join('docs', 'files')\n",
    "sys.path.insert(0, MainPath)  # add ODYM module directory to system path\n",
    "\n",
    "# add ODYM module directory to system path, absolute\n",
    "sys.path.insert(0, os.path.join(os.getcwd(), 'odym', 'modules'))\n",
    "sys.path.insert(0, os.path.join(os.getcwd(), 'docs', 'files'))\n",
    "\n",
    "# Define path to save figures:\n",
    "path_img = (\n",
    "    r'C:\\Users\\souvi\\Documents\\These\\90_Presentations & Writting\\50_Papers\\2021_12_MEFA of IGU\\IMG'\n",
    ")"
   ]
  },
  {
   "cell_type": "code",
   "execution_count": null,
   "metadata": {},
   "outputs": [],
   "source": [
    "import ODYM_Classes as msc  # import the ODYM class file\n",
    "import ODYM_Functions as msf  # import the ODYM function file\n",
    "import dynamic_stock_model as dsm  # import the dynamic stock model library"
   ]
  },
  {
   "cell_type": "code",
   "execution_count": null,
   "metadata": {},
   "outputs": [],
   "source": [
    "# Define size of figure:\n",
    "mpl.rcParams['figure.figsize'] = (16, 10)"
   ]
  },
  {
   "cell_type": "code",
   "execution_count": null,
   "metadata": {},
   "outputs": [],
   "source": [
    "# Define seaborn main parameters:\n",
    "sns.set_style(\"ticks\")\n",
    "sns.color_palette(\"colorblind\")\n",
    "sns.set_context(\"paper\", font_scale=1.5,\n",
    "                rc={\"axes.titlesize\": 15, \"lines.linewidth\": 1.2,\n",
    "                    \"legend.fontsize\": 10, \"legend.title_fontsize\": 10})"
   ]
  },
  {
   "cell_type": "code",
   "execution_count": null,
   "metadata": {},
   "outputs": [],
   "source": [
    "pd.set_option('precision', 2)"
   ]
  },
  {
   "cell_type": "code",
   "execution_count": null,
   "metadata": {},
   "outputs": [],
   "source": [
    "# A custom formatter function which divide by 1000 an axis:\n",
    "def yfmt1000(x, pos): \n",
    "    s = f'{x/1000:,.1f}'\n",
    "    return s\n",
    "\n",
    "# W/ classes for tick-locating and -formatting:\n",
    "import matplotlib.ticker as tkr\n",
    "\n",
    "# A formatter function:\n",
    "y_1000 = tkr.FuncFormatter(yfmt1000)\n",
    "\n",
    "# To divide the y-axis by 1000 when needed:\n",
    "# ax.yaxis.set_major_formatter(y_1000)"
   ]
  },
  {
   "cell_type": "code",
   "execution_count": null,
   "metadata": {},
   "outputs": [],
   "source": [
    "# A function used to define the thickness of x and y axis:\n",
    "def style_ax(ax):\n",
    "    for axis in ['top', 'bottom', 'left', 'right']:\n",
    "        ax.spines[axis].set_linewidth(0.5)\n",
    "        ax.tick_params(width=0.5)\n",
    "        ax.set_xlabel(None)\n",
    "    return ax"
   ]
  },
  {
   "cell_type": "code",
   "execution_count": null,
   "metadata": {},
   "outputs": [],
   "source": [
    "# A keyword to export figures, or not:\n",
    "export = False"
   ]
  },
  {
   "cell_type": "markdown",
   "metadata": {},
   "source": [
    "# Upload Datasets"
   ]
  },
  {
   "cell_type": "code",
   "execution_count": null,
   "metadata": {},
   "outputs": [],
   "source": [
    "be_data = input_helper.get_data(\n",
    "    'BE_IGU_RawData_VPython.xlsx', directory=ROOT_DIR)\n",
    "fr_data = input_helper.get_data(\n",
    "    'FR_IGU_RawData_VPython.xlsx', directory=ROOT_DIR)\n",
    "eu_data = input_helper.get_data(\n",
    "    'eu_igu_RawData_VPython.xlsx', directory=ROOT_DIR)"
   ]
  },
  {
   "cell_type": "code",
   "execution_count": null,
   "metadata": {},
   "outputs": [],
   "source": [
    "print(\"be_data, sheet names = \\n {}\\n\".format(be_data.sheet_names))\n",
    "print(\"fr_data, sheet names = \\n {}\\n\".format(fr_data.sheet_names))\n",
    "print(\"eu_data, sheet names = \\n {}\\n\".format(eu_data.sheet_names))"
   ]
  },
  {
   "cell_type": "markdown",
   "metadata": {},
   "source": [
    "# Material, Energy and Carbon Intensity in the Flat Glass Industry"
   ]
  },
  {
   "cell_type": "markdown",
   "metadata": {},
   "source": [
    "See: Souviron and Khan. (Forthcoming). \"The Materiality of Transparency: An Environmental Analysis of the Architectural Flat Glass Industry since 1945 in Europe, France and Belgium\". Resources, Conservation and Recycling."
   ]
  },
  {
   "cell_type": "markdown",
   "metadata": {},
   "source": [
    "## Material intensity since 1945"
   ]
  },
  {
   "cell_type": "code",
   "execution_count": null,
   "metadata": {},
   "outputs": [],
   "source": [
    "# Create a DataFrame for material intensity:\n",
    "mat_intensity = fr_data.parse('RawMat_Intensity').set_index('year')\n",
    "\n",
    "mat_intensity['cullet, kg/kg'] = (mat_intensity['internal cullet, kg/kg']\n",
    "                                  + mat_intensity['external cullet, kg/kg'])"
   ]
  },
  {
   "cell_type": "code",
   "execution_count": null,
   "metadata": {},
   "outputs": [],
   "source": [
    "# List of raw materials:\n",
    "materials = ['sand', 'cullet', 'sodium carbonate',\n",
    "             'limestone', 'dolomite', 'feldspar']"
   ]
  },
  {
   "cell_type": "code",
   "execution_count": null,
   "metadata": {},
   "outputs": [],
   "source": [
    "# Plot raw materials intensity since 1945:\n",
    "fig, axes = plt.subplots(nrows=2, ncols=3,\n",
    "                         sharex=True, sharey=True,\n",
    "                         figsize=(16, 5))\n",
    "\n",
    "for i, (ax, mat) in enumerate(zip(axes.flatten(), materials)):\n",
    "    ax.set_title(mat)\n",
    "    (mat_intensity[f\"{mat}, kg/kg\"]\n",
    "     .interpolate(method='pchip', limit_direction='forward')\n",
    "     .plot(ax=ax)\n",
    "     )\n",
    "\n",
    "ax.set_xlim(1950, 2020)\n",
    "ax.set_ylim(0, 1)\n",
    "\n",
    "fig.suptitle(\"Material intensity, per raw material [kg/kg]\", y=1.05)\n",
    "fig.subplots_adjust(hspace=0.4)\n",
    "\n",
    "sns.despine(offset=5)\n",
    "plt.show()"
   ]
  },
  {
   "cell_type": "code",
   "execution_count": null,
   "metadata": {},
   "outputs": [],
   "source": [
    "fig, axes = plt.subplots(nrows=2, ncols=3,\n",
    "                         sharex=True, sharey=True,\n",
    "                         figsize=(16, 5))\n",
    "\n",
    "for i, (ax, mat) in enumerate(zip(axes.flatten(), materials)):\n",
    "    ax.set_title(mat)\n",
    "    (mat_intensity[f\"{mat}, kg/kg\"]\n",
    "     .interpolate(method='pchip', limit_direction='forward')\n",
    "     .rolling(5, center=True).mean()\n",
    "     .plot(ax=ax))\n",
    "\n",
    "ax.set_xlim(1950, 2020)\n",
    "ax.set_ylim(0, 1)\n",
    "\n",
    "fig.suptitle(\"Material intensity, per raw material, 5-y rolled [kg/kg]\",\n",
    "             y=1.05)\n",
    "fig.subplots_adjust(hspace=0.4)\n",
    "\n",
    "sns.despine(offset=5)\n",
    "plt.show()"
   ]
  },
  {
   "cell_type": "code",
   "execution_count": null,
   "metadata": {},
   "outputs": [],
   "source": [
    "# Estimate the material intensity (sum of the intenisities per material):\n",
    "mat_intensity['Total raw materials, kg/kg'] = 0\n",
    "\n",
    "for mat in materials:\n",
    "    mat_intensity['Total raw materials, kg/kg'] = (\n",
    "        mat_intensity[f\"{mat}, kg/kg\"]\n",
    "        + mat_intensity['Total raw materials, kg/kg']\n",
    "    )"
   ]
  },
  {
   "cell_type": "code",
   "execution_count": null,
   "metadata": {},
   "outputs": [],
   "source": [
    "# Plot the material intensity:\n",
    "fig, ax = plt.subplots(figsize=(8, 5))\n",
    "\n",
    "sns.lineplot(data=mat_intensity,\n",
    "             x=mat_intensity.index,\n",
    "             y=(mat_intensity['Total raw materials, kg/kg']\n",
    "                .interpolate(method='pchip', limit_direction='forward')),\n",
    "             ax=ax)\n",
    "\n",
    "ax.set_xlim(1940, 2020)\n",
    "ax.set_ylim(0, 2)\n",
    "\n",
    "fig.suptitle(\"Total intensity of raw materials [kg/kg]\")\n",
    "\n",
    "sns.despine(offset=5)\n",
    "plt.show()"
   ]
  },
  {
   "cell_type": "code",
   "execution_count": null,
   "metadata": {},
   "outputs": [],
   "source": [
    "# Plot a 5-y rolled material intensity:\n",
    "fig, ax = plt.subplots(figsize=(8, 5))\n",
    "\n",
    "sns.lineplot(data=mat_intensity,\n",
    "             x=mat_intensity.index,\n",
    "             y=(mat_intensity['Total raw materials, kg/kg']\n",
    "                .interpolate(method='pchip', limit_direction='forward')\n",
    "                 .rolling(5, center=True).mean()),\n",
    "             ax=ax)\n",
    "\n",
    "ax.set_xlim(1940, 2020)\n",
    "ax.set_ylim(0, 2)\n",
    "\n",
    "fig.suptitle(\"Total intensity of raw materials, 5-y. rolled [kg/kg]\")\n",
    "\n",
    "sns.despine(offset=5)\n",
    "plt.show()"
   ]
  },
  {
   "cell_type": "code",
   "execution_count": null,
   "metadata": {},
   "outputs": [],
   "source": [
    "matwocullet = ['sand', 'sodium carbonate', 'limestone',\n",
    "               'dolomite', 'feldspar']"
   ]
  },
  {
   "cell_type": "code",
   "execution_count": null,
   "metadata": {},
   "outputs": [],
   "source": [
    "# Estimate the material intensity without cullet:\n",
    "mat_intensity['Total raw mat w/o cullet, kg/kg'] = 0\n",
    "\n",
    "for mat in matwocullet:\n",
    "    mat_intensity['Total raw mat w/o cullet, kg/kg'] = (\n",
    "        mat_intensity[f\"{mat}, kg/kg\"]\n",
    "        + mat_intensity['Total raw mat w/o cullet, kg/kg']\n",
    "    )"
   ]
  },
  {
   "cell_type": "code",
   "execution_count": null,
   "metadata": {},
   "outputs": [],
   "source": [
    "# Plot a 5-y rolled material intensity:\n",
    "fig, ax = plt.subplots(figsize=(8, 5))\n",
    "\n",
    "sns.lineplot(data=mat_intensity,\n",
    "             x=mat_intensity.index,\n",
    "             y=(mat_intensity['Total raw mat w/o cullet, kg/kg']\n",
    "                .interpolate(method='pchip', limit_direction='forward')\n",
    "                 .rolling(5, center=True).mean()),\n",
    "             ax=ax, linestyle='--')\n",
    "\n",
    "sns.lineplot(data=mat_intensity,\n",
    "             x=mat_intensity.index,\n",
    "             y=(mat_intensity['Total raw materials, kg/kg']\n",
    "                .interpolate(method='pchip', limit_direction='forward')\n",
    "                 .rolling(5, center=True).mean()),\n",
    "             ax=ax)\n",
    "\n",
    "ax.set_xlim(1940, 2020)\n",
    "ax.set_ylim(0, 2)\n",
    "\n",
    "fig.suptitle(\"Total intensity of raw mat. w/o cullet, 5-y. rolled [kg/kg]\")\n",
    "\n",
    "sns.despine(offset=5)\n",
    "plt.show()"
   ]
  },
  {
   "cell_type": "markdown",
   "metadata": {},
   "source": [
    "## Energy Intensity since 1945"
   ]
  },
  {
   "cell_type": "code",
   "execution_count": null,
   "metadata": {},
   "outputs": [],
   "source": [
    "# Create a DataFrame for energy intensity:\n",
    "energy_intensity = fr_data.parse('Energy_Intensity').set_index('year')"
   ]
  },
  {
   "cell_type": "code",
   "execution_count": null,
   "metadata": {},
   "outputs": [],
   "source": [
    "energies = ['fuel oil', 'natural gas', 'electricity']"
   ]
  },
  {
   "cell_type": "code",
   "execution_count": null,
   "metadata": {},
   "outputs": [],
   "source": [
    "# Plot the intensity per type of energy:\n",
    "fig, axes = plt.subplots(nrows=1, ncols=3,\n",
    "                         sharex=True, sharey=True,\n",
    "                         figsize=(16, 4))\n",
    "\n",
    "for i, (ax, energy) in enumerate(zip(axes.flatten(), energies)):\n",
    "    ax.set_title(energy)\n",
    "    (energy_intensity[f\"{energy}, GJ/t\"]  # Interpolate:\n",
    "     .interpolate(method='pchip', limit_direction='forward')\n",
    "     .plot(ax=ax))\n",
    "\n",
    "ax.set_xlim(1950, 2010)\n",
    "ax.set_ylim(ymin=0)\n",
    "\n",
    "fig.suptitle(\"Intensity per type of energy [GJ/t]\", y=1.05)\n",
    "\n",
    "sns.despine(offset=5)\n",
    "plt.show()"
   ]
  },
  {
   "cell_type": "code",
   "execution_count": null,
   "metadata": {},
   "outputs": [],
   "source": [
    "# Estimate the energy intensity (sum of the intensities per type of energy):\n",
    "energy_intensity['Total energy, GJ/t'] = 0\n",
    "\n",
    "for energy in energies:\n",
    "    energy_intensity['Total energy, GJ/t'] = (\n",
    "        energy_intensity['Total energy, GJ/t']\n",
    "        + energy_intensity[f\"{energy}, GJ/t\"]\n",
    "    )"
   ]
  },
  {
   "cell_type": "code",
   "execution_count": null,
   "metadata": {},
   "outputs": [],
   "source": [
    "fossilfuels = ['fuel oil', 'natural gas']"
   ]
  },
  {
   "cell_type": "code",
   "execution_count": null,
   "metadata": {},
   "outputs": [],
   "source": [
    "# Estimate the energy intensity (sum of the intensities per type of energy):\n",
    "energy_intensity['Total energy w/o elec., GJ/t'] = 0\n",
    "\n",
    "for energy in fossilfuels:\n",
    "    energy_intensity['Total energy w/o elec., GJ/t'] = (\n",
    "        energy_intensity['Total energy w/o elec., GJ/t']\n",
    "        + energy_intensity[f\"{energy}, GJ/t\"]\n",
    "    )"
   ]
  },
  {
   "cell_type": "code",
   "execution_count": null,
   "metadata": {},
   "outputs": [],
   "source": [
    "# Plot the total energy intensity:\n",
    "fig, ax = plt.subplots(figsize=(8, 5))\n",
    "\n",
    "sns.lineplot(data=energy_intensity,\n",
    "             x=energy_intensity.index,\n",
    "             y=(energy_intensity['Total energy, GJ/t']\n",
    "                .interpolate(method='pchip', limit_direction='forward')),\n",
    "             ax=ax, linestyle='--')\n",
    "\n",
    "sns.lineplot(data=energy_intensity,\n",
    "             x=energy_intensity.index,\n",
    "             y=(energy_intensity['Total energy w/o elec., GJ/t']\n",
    "                .interpolate(method='pchip', limit_direction='forward')),\n",
    "             ax=ax)\n",
    "\n",
    "ax.set_xlim(1950, 2010)\n",
    "ax.set_ylim(0, 40)\n",
    "\n",
    "fig.suptitle(\"Total energy intensity, fossil fuels only [GJ/t]\")\n",
    "\n",
    "sns.despine(offset=5)\n",
    "plt.show()"
   ]
  },
  {
   "cell_type": "markdown",
   "metadata": {},
   "source": [
    "##  Carbon Intensity of the Flat Glass Production Process"
   ]
  },
  {
   "cell_type": "code",
   "execution_count": null,
   "metadata": {},
   "outputs": [],
   "source": [
    "# Create a DataFrame only with the CO2 emission data:\n",
    "emissions = fr_data.parse('emissions').set_index('year')\n",
    "\n",
    "co2_intensity = emissions[['CO2 glass ind, kg/t']].copy()\n",
    "co2_intensity.rename(columns={'CO2 glass ind, kg/t': 'CO2 [kg/t]'},\n",
    "                     inplace=True)\n",
    "\n",
    "co2_intensity.dropna()"
   ]
  },
  {
   "cell_type": "code",
   "execution_count": null,
   "metadata": {},
   "outputs": [],
   "source": [
    "# Interpolate co2 intensity accoring to a pchip method:\n",
    "co2_intensity['co2 interpolated [kg/t]'] = (\n",
    "    co2_intensity['CO2 [kg/t]'].interpolate('pchip')\n",
    ")"
   ]
  },
  {
   "cell_type": "code",
   "execution_count": null,
   "metadata": {},
   "outputs": [],
   "source": [
    "fig, ax = plt.subplots(figsize=(8, 5))\n",
    "\n",
    "sns.lineplot(data=co2_intensity, palette=\"GnBu\")\n",
    "\n",
    "ax.scatter(x=co2_intensity.index, y=co2_intensity['CO2 [kg/t]'],\n",
    "           s=20)\n",
    "\n",
    "ax.set_xlim(1945, 2020)\n",
    "ax.set_ylim(ymin=0)\n",
    "fig.suptitle(\"co2 intensity of the French flat glass industry [kgCO2/t]\")\n",
    "sns.despine(offset=5)\n",
    "plt.show()"
   ]
  },
  {
   "cell_type": "markdown",
   "metadata": {},
   "source": [
    "## Summary"
   ]
  },
  {
   "cell_type": "code",
   "execution_count": null,
   "metadata": {},
   "outputs": [],
   "source": [
    "# Plot the material instensity per raw material:\n",
    "fig, axes = plt.subplots(nrows=2, ncols=3,\n",
    "                         sharex=True, sharey=True,\n",
    "                         figsize=(16, 5))\n",
    "\n",
    "for i, (ax, mat) in enumerate(zip(axes.flatten(), materials)):\n",
    "    (mat_intensity[f\"{mat}, kg/kg\"]\n",
    "     .interpolate(method='pchip', limit_direction='forward')\n",
    "     .rolling(5, center=True).mean()\n",
    "     .plot(ax=ax, c='sandybrown', linewidth=2))\n",
    "\n",
    "    ax.scatter(x=mat_intensity.index, y=mat_intensity[f\"{mat}, kg/kg\"],\n",
    "               s=40, marker='x', c='grey')\n",
    "    plt.xticks(np.arange(1950, 2021, 10), rotation=45)\n",
    "\n",
    "    ax.set_title(f\" {mat}\", loc='left')\n",
    "    ax.grid(which='major', axis='y', linestyle=':', linewidth=1)\n",
    "    style_ax(ax)\n",
    "\n",
    "ax.set_xlim(1950, 2020)\n",
    "ax.set_ylim(0, 1)\n",
    "\n",
    "ax.minorticks_off()\n",
    "plt.xticks(np.arange(1950, 2021, 10))\n",
    "\n",
    "fig.suptitle(\"(a) Intensity per raw material [t/t]\", x=0.1, y=1, ha='left')\n",
    "fig.subplots_adjust(wspace=0.2, hspace=0.4)\n",
    "\n",
    "sns.despine(offset=5)\n",
    "\n",
    "if export:\n",
    "    # Save image:\n",
    "    fig.savefig(os.path.join(path_img, 'Fig4_Mat Intensity.png'),\n",
    "                dpi=600, bbox_inches='tight')\n",
    "    fig.savefig(os.path.join(path_img, 'Fig4_Mat Intensity.pdf'),\n",
    "                bbox_inches='tight')\n",
    "\n",
    "plt.show()"
   ]
  },
  {
   "cell_type": "code",
   "execution_count": null,
   "metadata": {},
   "outputs": [],
   "source": [
    "# Plot the energy intensity per source of energy:\n",
    "fig, axes = plt.subplots(nrows=1, ncols=3,\n",
    "                         sharex=True, sharey=True,\n",
    "                         figsize=(16, 2.5)\n",
    "                         )\n",
    "\n",
    "for i, (ax, energy) in enumerate(zip(axes.flatten(), energies)):\n",
    "    (energy_intensity[f\"{energy}, GJ/t\"]\n",
    "     .interpolate(method='pchip', limit_direction='forward')\n",
    "     .plot(ax=ax, color='steelblue', linewidth=2))\n",
    "\n",
    "    ax.scatter(x=energy_intensity.index, y=energy_intensity[f\"{energy}, GJ/t\"],\n",
    "               s=40, marker='x', c='grey')\n",
    "\n",
    "    ax.set_title(f\" {energy}\", loc='left')\n",
    "    ax.grid(which='major', axis='y', linestyle=':', linewidth=1)\n",
    "    style_ax(ax)\n",
    "\n",
    "ax.set_xlim(1950, 2020)\n",
    "ax.set_ylim(0, 40)\n",
    "\n",
    "fig.suptitle(\"(b) Intensity per energy source [GJ/t]\",\n",
    "             x=0.1, y=1.12, ha='left')\n",
    "fig.subplots_adjust(wspace=0.2)\n",
    "\n",
    "ax.minorticks_off()\n",
    "plt.xticks(np.arange(1950, 2021, 10))\n",
    "\n",
    "sns.despine(offset=5)\n",
    "\n",
    "if export:\n",
    "    # Save image:\n",
    "    fig.savefig(os.path.join(path_img, 'Fig4_Energy Intensity.png'),\n",
    "                dpi=600, bbox_inches='tight')\n",
    "    fig.savefig(os.path.join(path_img, 'Fig4_Energy Intensity.pdf'),\n",
    "                bbox_inches='tight')\n",
    "\n",
    "plt.show()"
   ]
  },
  {
   "cell_type": "code",
   "execution_count": null,
   "metadata": {},
   "outputs": [],
   "source": [
    "# Plot the intensity for energy, material and CO2 emissions:\n",
    "fig, axes = plt.subplots(nrows=1, ncols=3,\n",
    "                         sharex=True,\n",
    "                         figsize=(16, 2.5))\n",
    "\n",
    "# Material intensity\n",
    "ax = axes[0]\n",
    "(mat_intensity['Total raw materials, kg/kg']\n",
    " .interpolate(method='pchip', limit_direction='forward')\n",
    " .rolling(5, center=True).mean()\n",
    " .plot(ax=ax, c='firebrick', linestyle='--', linewidth=1.25)\n",
    " )\n",
    "\n",
    "(mat_intensity['Total raw mat w/o cullet, kg/kg']\n",
    " .interpolate(method='pchip', limit_direction='forward')\n",
    " .rolling(5, center=True).mean()\n",
    " .plot(ax=ax, c='firebrick', linestyle='-', linewidth=2)\n",
    " )\n",
    "\n",
    "ax.scatter(x=mat_intensity.index,\n",
    "           y=mat_intensity['Total raw mat w/o cullet, kg/kg'],\n",
    "           s=40, marker='x', c='grey')\n",
    "\n",
    "ax.set_title(\"Material intensity [t/t]\", loc='left')\n",
    "ax.grid(which='major', axis='y', linestyle=':', linewidth=1)\n",
    "style_ax(ax)\n",
    "ax.set_ylim(0, 2)\n",
    "ax.set_xlim(1950, 2020)\n",
    "\n",
    "# Energy intensity\n",
    "ax = axes[1]\n",
    "(energy_intensity['Total energy, GJ/t']\n",
    " .interpolate(method='pchip', limit_direction='forward')\n",
    " .rolling(5, center=True).mean()\n",
    " .plot(ax=ax, c='firebrick', linestyle='--', linewidth=1.25))\n",
    "\n",
    "(energy_intensity['Total energy w/o elec., GJ/t']\n",
    " .interpolate(method='pchip', limit_direction='forward')\n",
    " .rolling(5, center=True).mean()\n",
    " .plot(ax=ax, c='firebrick', linewidth=2))\n",
    "\n",
    "ax.scatter(x=energy_intensity.index,\n",
    "           y=energy_intensity['Total energy w/o elec., GJ/t'],\n",
    "           s=40, marker='x', c='grey')\n",
    "\n",
    "ax.set_title(\"Energy intensity [GJ/t]\", loc='left')\n",
    "ax.grid(which='major', axis='y', linestyle=':', linewidth=1)\n",
    "style_ax(ax)\n",
    "ax.set_ylim(0, 40)\n",
    "\n",
    "# Carbon dioxide intensity\n",
    "ax = axes[2]\n",
    "(co2_intensity['co2 interpolated [kg/t]'].rolling(5, center=True).mean()\n",
    " .plot(ax=ax, c='firebrick', linewidth=2))\n",
    "\n",
    "ax.scatter(x=co2_intensity.index, y=co2_intensity['CO2 [kg/t]'],\n",
    "           s=40, marker='x', c='grey')\n",
    "\n",
    "ax.set_title(\"co2 intensity [kgCO2/t]\", loc='left')\n",
    "ax.grid(which='major', axis='y', linestyle=':', linewidth=1)\n",
    "style_ax(ax)\n",
    "ax.set_ylim(0, 2500)\n",
    "\n",
    "ax.minorticks_off()\n",
    "plt.xticks(np.arange(1950, 2021, 10))\n",
    "\n",
    "fig.suptitle(\"(c) Intensity, total\", x=0.1, y=1.12, ha='left')\n",
    "fig.subplots_adjust(wspace=0.20)\n",
    "\n",
    "sns.despine(offset=5)\n",
    "\n",
    "if export:\n",
    "    # Save image:\n",
    "    plt.savefig(os.path.join(path_img, 'Fig4_TotalIntensity.png'),\n",
    "                dpi=600, bbox_inches='tight')\n",
    "    plt.savefig(os.path.join(path_img, 'Fig4_TotalIntensity.pdf'),\n",
    "                bbox_inches='tight')\n",
    "\n",
    "plt.show()"
   ]
  },
  {
   "cell_type": "markdown",
   "metadata": {},
   "source": [
    "# Flows of Insulating Glass Units in Europe"
   ]
  },
  {
   "cell_type": "markdown",
   "metadata": {},
   "source": [
    "## Creating a Dataframe for the Flows of IGU"
   ]
  },
  {
   "cell_type": "code",
   "execution_count": null,
   "metadata": {},
   "outputs": [],
   "source": [
    "# Data relating to IGU production:\n",
    "eu_prod = eu_data.parse('prod').set_index(['Nbr of countries', 'year'])"
   ]
  },
  {
   "cell_type": "code",
   "execution_count": null,
   "metadata": {},
   "outputs": [],
   "source": [
    "# Add import and export flows:\n",
    "eu_imp = eu_data.parse('import').set_index(['Nbr of countries', 'year'])\n",
    "eu_exp = eu_data.parse('export').set_index(['Nbr of countries', 'year'])"
   ]
  },
  {
   "cell_type": "code",
   "execution_count": null,
   "metadata": {},
   "outputs": [],
   "source": [
    "# Create a new DataFrame for European IGU flows:\n",
    "eu_igu = pd.concat([eu_prod['IGU, \"000 m²']/1000,\n",
    "                    eu_imp['IGU, \"000 m²']/1000,\n",
    "                    eu_exp['IGU, \"000 m²']/1000],\n",
    "                   axis=1, keys=[('Production', '[10^6 m²]'),\n",
    "                                 ('Import', '[10^6 m²]'),\n",
    "                                 ('Export', '[10^6 m²]')],\n",
    "                   names=['Info', 'Unit']).stack(dropna=False)\n",
    "\n",
    "eu_igu = eu_igu.unstack()"
   ]
  },
  {
   "cell_type": "code",
   "execution_count": null,
   "metadata": {},
   "outputs": [],
   "source": [
    "eu_igu.style"
   ]
  },
  {
   "cell_type": "code",
   "execution_count": null,
   "metadata": {},
   "outputs": [],
   "source": [
    "# Adding columns for data in [kt],\n",
    "# to be used later for material/energy/carbon intensity\n",
    "# 2500kg/m³ and in average 9mm thick\n",
    "\n",
    "eu_igu[('Production', '[kt]')] = eu_igu[('Production', '[10^6 m²]')] * 2.5 * 9\n",
    "eu_igu[('Import', '[kt]')] = eu_igu[('Import', '[10^6 m²]')] * 2.5 * 9\n",
    "eu_igu[('Export', '[kt]')] = eu_igu[('Export', '[10^6 m²]')] * 2.5 * 9\n",
    "\n",
    "eu_igu = eu_igu.sort_index(axis=1)"
   ]
  },
  {
   "cell_type": "code",
   "execution_count": null,
   "metadata": {},
   "outputs": [],
   "source": [
    "eu_igu"
   ]
  },
  {
   "cell_type": "markdown",
   "metadata": {},
   "source": [
    "## Production of Insulating Glass Units"
   ]
  },
  {
   "cell_type": "code",
   "execution_count": null,
   "metadata": {},
   "outputs": [],
   "source": [
    "# Plot the European production of flat glass\n",
    "fig, ax = plt.subplots()\n",
    "\n",
    "sns.scatterplot(data=eu_igu['Production'].reset_index(),\n",
    "                x='year', y='[10^6 m²]',\n",
    "                hue='Nbr of countries',\n",
    "                palette='colorblind',\n",
    "                ax=ax)\n",
    "\n",
    "sns.lineplot(data=eu_igu['Production'].reset_index(),\n",
    "             x='year', y='[10^6 m²]',\n",
    "             hue='Nbr of countries',\n",
    "             palette='colorblind',\n",
    "             ax=ax)\n",
    "\n",
    "ax.set_xlim(1950, 2020)\n",
    "ax.set_ylim(0, 160)\n",
    "\n",
    "ax.grid(which='major', axis='y', linestyle=':', linewidth=1)\n",
    "style_ax(ax)\n",
    "\n",
    "fig.suptitle('European production of IGU [million m²]', fontsize=13)\n",
    "sns.despine(offset=5)\n",
    "plt.show()"
   ]
  },
  {
   "cell_type": "code",
   "execution_count": null,
   "metadata": {},
   "outputs": [],
   "source": [
    "# Plot the European production of flat glass\n",
    "fig, ax = plt.subplots()\n",
    "\n",
    "sns.scatterplot(data=eu_igu['Production'].reset_index(),\n",
    "                x='year', y='[10^6 m²]',\n",
    "                hue='Nbr of countries',\n",
    "                palette='colorblind',\n",
    "                ax=ax)\n",
    "\n",
    "sns.lineplot(data=(eu_igu['Production']\n",
    "                   .interpolate(method='linear').reset_index()),\n",
    "             x='year', y='[10^6 m²]',\n",
    "             hue='Nbr of countries',\n",
    "             palette='colorblind',\n",
    "             ax=ax)\n",
    "\n",
    "ax.set_xlim(1950, 2020)\n",
    "ax.set_ylim(0, 160)\n",
    "\n",
    "ax.grid(which='major', axis='y', linestyle=':', linewidth=1)\n",
    "style_ax(ax)\n",
    "\n",
    "fig.suptitle('European production of IGU [million m²]', fontsize=13)\n",
    "sns.despine(offset=5)\n",
    "plt.show()"
   ]
  },
  {
   "cell_type": "markdown",
   "metadata": {},
   "source": [
    "## Consumption of Insulating Glass Units"
   ]
  },
  {
   "cell_type": "code",
   "execution_count": null,
   "metadata": {
    "scrolled": false
   },
   "outputs": [],
   "source": [
    "# Estimate the consumption of IGU in the EU:\n",
    "eu_igu = eu_igu.stack(dropna=False)\n",
    "\n",
    "eu_igu['Consumption'] = (eu_igu['Production']\n",
    "                         + eu_igu['Import']\n",
    "                         - eu_igu['Export']\n",
    "                         )\n",
    "\n",
    "eu_igu = eu_igu.unstack()"
   ]
  },
  {
   "cell_type": "code",
   "execution_count": null,
   "metadata": {},
   "outputs": [],
   "source": [
    "# Plot the European consumption of IGU:\n",
    "fig, ax = plt.subplots(figsize=(8, 5))\n",
    "\n",
    "sns.lineplot(data=eu_igu['Consumption'].reset_index(),\n",
    "             x='year', y='[10^6 m²]',\n",
    "             hue='Nbr of countries',\n",
    "             palette='colorblind',\n",
    "             ax=ax)\n",
    "\n",
    "ax.set_xlim(1950, 2020)\n",
    "ax.set_ylim(0, 160)\n",
    "\n",
    "fig.suptitle('European consumption of IGU [million m²]')\n",
    "sns.despine(offset=5)\n",
    "plt.show()"
   ]
  },
  {
   "cell_type": "markdown",
   "metadata": {},
   "source": [
    "## Summary"
   ]
  },
  {
   "cell_type": "code",
   "execution_count": null,
   "metadata": {},
   "outputs": [],
   "source": [
    "# Key dates for the changes in the MFA scope, i.e. EU enlargement:\n",
    "eu_kdates = {'EU6': 1972, 'EU10': 1980, 'EU12': 1986,\n",
    "             'EU15': 1995, 'EU27': 2003, 'EU28': 2012}"
   ]
  },
  {
   "cell_type": "code",
   "execution_count": null,
   "metadata": {},
   "outputs": [],
   "source": [
    "# Plot a synthesis of the results concerning European flows of IGU:\n",
    "data1 = ['Production', 'Consumption']\n",
    "data2 = ['Import', 'Export']\n",
    "\n",
    "fig, axes = plt.subplots(nrows=2, ncols=2,\n",
    "                         sharex=True, sharey=True,\n",
    "                         figsize=(16, 10))\n",
    "\n",
    "# Plot production and consumption:\n",
    "for col, data in enumerate(data1):\n",
    "    ax = axes[0][col]\n",
    "    sns.lineplot(data=eu_igu[f\"{data}\"].reset_index(),\n",
    "                 x='year', y=\"[10^6 m²]\",\n",
    "                 hue='Nbr of countries',\n",
    "                 palette='colorblind', linewidth=1.75,\n",
    "                 ax=ax)\n",
    "\n",
    "    # Plot lines highlighting changes in the scope, i.e., EU enlargement:\n",
    "    for y, x in eu_kdates.items():\n",
    "        ax.axvline(x=x, c='grey', linestyle=':', linewidth=0.75)\n",
    "        ax.text(x+0.5, 175, f\"{y}\", fontsize=13,\n",
    "                verticalalignment='top')\n",
    "\n",
    "    if col == 0:\n",
    "        # Plot data gathered from literature review:\n",
    "        sns.scatterplot(data=eu_igu[f\"{data}\"].reset_index(),\n",
    "                        x='year', y=\"[10^6 m²]\",\n",
    "                        hue='Nbr of countries',\n",
    "                        palette='colorblind',\n",
    "                        marker='.', s=100,\n",
    "                        ax=ax)\n",
    "\n",
    "    ax.get_legend().remove()\n",
    "    style_ax(ax)\n",
    "\n",
    "    ax.set_title(f\"{data}\", pad=30, loc='left')\n",
    "    #ax.grid(which='major', axis='y', linestyle=':', linewidth=1)\n",
    "    # ax.get_legend().remove()\n",
    "    ax.yaxis.label.set_visible(False)\n",
    "\n",
    "# Plot import and export below:\n",
    "for col, data in enumerate(data2):\n",
    "    ax = axes[1][col]\n",
    "    sns.lineplot(data=eu_igu[f\"{data}\"].reset_index(),\n",
    "                 x='year', y=\"[10^6 m²]\",\n",
    "                 hue='Nbr of countries',\n",
    "                 palette='colorblind', linewidth=1.75,\n",
    "                 ax=ax)\n",
    "\n",
    "    # Plot lines highlighting changes in the scope, i.e., EU enlargement:\n",
    "    for y, x in eu_kdates.items():\n",
    "        ax.axvline(x=x, c='grey', linestyle=':', linewidth=0.75)\n",
    "        ax.text(x+0.5, 175, f\"{y}\", fontsize=13,\n",
    "                verticalalignment='top')\n",
    "\n",
    "    style_ax(ax)\n",
    "\n",
    "    ax.set_title(f\"{data}\", pad=20, loc='left')\n",
    "    #ax.grid(which='major', axis='y', linestyle=':', linewidth=1)\n",
    "    ax.get_legend().remove()\n",
    "    ax.yaxis.label.set_visible(False)\n",
    "\n",
    "\n",
    "# Add legend:\n",
    "handles, labels = ax.get_legend_handles_labels()\n",
    "fig.legend(handles, labels, loc='upper right', ncol=2,\n",
    "           title='Nbr of countries:',\n",
    "           bbox_to_anchor=(0.83, 0.98))\n",
    "\n",
    "ax.set_xlim(1950, 2020)\n",
    "ax.set_ylim(0, 175)\n",
    "\n",
    "fig.suptitle(\"European flows of flat glass [10^6 m²]\", y=1.05)\n",
    "fig.subplots_adjust(wspace=0.25, hspace=0.35)\n",
    "\n",
    "sns.despine(offset=5)\n",
    "plt.show()\n",
    "\n",
    "if export:\n",
    "    # Save image:\n",
    "    fig.savefig(os.path.join(path_img, 'AppendixB_eu_iguFlows.png'),\n",
    "                dpi=600, bbox_inches='tight')\n",
    "    fig.savefig(os.path.join(path_img, 'AppendixB_eu_iguFlows.pdf'),\n",
    "                bbox_inches='tight')"
   ]
  },
  {
   "cell_type": "markdown",
   "metadata": {},
   "source": [
    "Hypothesis for missing data: EU production = EU consumption"
   ]
  },
  {
   "cell_type": "code",
   "execution_count": null,
   "metadata": {},
   "outputs": [],
   "source": [
    "eu_igu = eu_igu.stack(dropna=False)\n",
    "eu_igu['Estimated consumption'] = (eu_igu['Consumption']\n",
    "                                   .fillna(eu_igu['Production']))\n",
    "\n",
    "eu_igu = eu_igu.unstack()"
   ]
  },
  {
   "cell_type": "code",
   "execution_count": null,
   "metadata": {},
   "outputs": [],
   "source": [
    "# Plot two figures:\n",
    "fig, axes = plt.subplots(nrows=1, ncols=2,\n",
    "                         sharex=True, sharey=True,\n",
    "                         figsize=(16, 5))\n",
    "\n",
    "# Number of countries for trend curves:\n",
    "eu_list = [(6, 12), (15, 15), (27, 28)]\n",
    "\n",
    "for col, data in enumerate(['Production', 'Estimated consumption']):\n",
    "    for i, j in eu_list:\n",
    "        ax = axes[col]\n",
    "        # Plot the trend curve for flat glass production:\n",
    "        ax.plot(eu_igu.interpolate().rolling(5, center=True).mean().loc[i:j]\n",
    "                .reset_index(level='Nbr of countries')\n",
    "                .sort_values(by=['year'])\n",
    "                [(f\"{data}\", \"[10^6 m²]\")],\n",
    "                c='black', linestyle='--')\n",
    "\n",
    "        if col == 0:\n",
    "            # Plot data gathered from literature review:\n",
    "            sns.scatterplot(data=eu_igu[\"Production\"].reset_index(),\n",
    "                            x='year', y=\"[10^6 m²]\",\n",
    "                            hue='Nbr of countries',\n",
    "                            palette='colorblind',\n",
    "                            marker='.', s=100,\n",
    "                            ax=ax)\n",
    "        else:\n",
    "            # Plot data gathered from literature review:\n",
    "            sns.scatterplot(data=eu_igu[\"Consumption\"].reset_index(),\n",
    "                            x='year', y=\"[10^6 m²]\",\n",
    "                            hue='Nbr of countries',\n",
    "                            palette='colorblind',\n",
    "                            marker='.', s=100,\n",
    "                            ax=ax)\n",
    "            \n",
    "        # Plot lines highlighting changes in the scope, i.e., EU enlargement:\n",
    "        for y, x in eu_kdates.items():\n",
    "            ax.axvline(x=x, c='grey', linestyle=':', linewidth=0.75)\n",
    "            ax.text(x+0.5, 180, f\"{y}\", fontsize=14,\n",
    "                    verticalalignment='top')\n",
    "            \n",
    "        ax.get_legend().remove()\n",
    "        ax.set_title(f'IGU {data} [10^6 m²]', pad=30, loc='left')\n",
    "        ax.yaxis.label.set_visible(False)\n",
    "\n",
    "style_ax(ax)\n",
    "ax.set_xlim(1950, 2020)\n",
    "ax.set_ylim(0, 180)\n",
    "\n",
    "plt.suptitle('European production and consumption of IGU [10^6 m²]',\n",
    "             weight='light', y=1.2)\n",
    "\n",
    "fig.subplots_adjust(wspace=0.15)\n",
    "\n",
    "sns.despine(offset=10)\n",
    "plt.show()\n",
    "\n",
    "if export:\n",
    "    # Save image:\n",
    "    fig.savefig(os.path.join(path_img, 'Fig2_eu_iguProdConso.png'),\n",
    "                dpi=600, bbox_inches='tight')\n",
    "    fig.savefig(os.path.join(path_img, 'Fig2_eu_iguProdConso.pdf'),\n",
    "                bbox_inches='tight')"
   ]
  },
  {
   "cell_type": "markdown",
   "metadata": {},
   "source": [
    "# Flows of Insulating Glass Units in France and Belgium"
   ]
  },
  {
   "cell_type": "markdown",
   "metadata": {},
   "source": [
    "## Creating a Dataframe for the Flows of IGU"
   ]
  },
  {
   "cell_type": "code",
   "execution_count": null,
   "metadata": {},
   "outputs": [],
   "source": [
    "# Create a DataFrame only with production data:\n",
    "fr_prod = fr_data.parse('prod').set_index('year')\n",
    "be_prod = be_data.parse('prod').set_index('year')"
   ]
  },
  {
   "cell_type": "code",
   "execution_count": null,
   "metadata": {},
   "outputs": [],
   "source": [
    "# Create a DataFrame with import and export data:\n",
    "fr_imp = fr_data.parse('import').set_index('year')\n",
    "fr_exp = fr_data.parse('export').set_index('year')\n",
    "\n",
    "be_imp = be_data.parse('import').set_index('year')\n",
    "be_exp = be_data.parse('export').set_index('year')"
   ]
  },
  {
   "cell_type": "code",
   "execution_count": null,
   "metadata": {},
   "outputs": [],
   "source": [
    "# Create a DataFrame with import and export data:\n",
    "fr_pop = fr_data.parse('Population').set_index('year')\n",
    "be_pop = be_data.parse('Population').set_index('year')"
   ]
  },
  {
   "cell_type": "code",
   "execution_count": null,
   "metadata": {},
   "outputs": [],
   "source": [
    "# Create a unique DataFrame for French and Belgian population:\n",
    "be_fr_pop = pd.concat([fr_pop['Population, x1000'],\n",
    "                       be_pop['Population, x1000']],\n",
    "                      axis=1, keys=[('Population [x1000]', 'France'),\n",
    "                                    ('Population [x1000]', 'Belgium')],\n",
    "                      names=['Info', 'Country']).stack()\n",
    "\n",
    "be_fr_pop = be_fr_pop.unstack()"
   ]
  },
  {
   "cell_type": "code",
   "execution_count": null,
   "metadata": {},
   "outputs": [],
   "source": [
    "# Create a new DataFrame for Belgian and French IGU flows:\n",
    "be_fr_igu = (\n",
    "    pd.concat([fr_prod['IGU, kt'], be_prod['IGU, kt'],\n",
    "               fr_prod['IGU, \"000 m²']/1000, be_prod['IGU, \"000 m²']/1000,\n",
    "               fr_imp['IGU, kt'], be_imp['IGU, kt'],\n",
    "               fr_imp['IGU, \"000 m²']/1000, be_imp['IGU, \"000 m²']/1000,\n",
    "               fr_exp['IGU, kt'], be_exp['IGU, kt'],\n",
    "               fr_exp['IGU, \"000 m²']/1000, be_exp['IGU, \"000 m²']/1000],\n",
    "              axis=1,\n",
    "              keys=[('Production', '[kt]', 'France'),\n",
    "                    ('Production', '[kt]', 'Belgium'),\n",
    "                    ('Production', '[10^6 m²]', 'France'),\n",
    "                    ('Production', '[10^6 m²]', 'Belgium'),\n",
    "                    ('Import', '[kt]', 'France'),\n",
    "                    ('Import', '[kt]', 'Belgium'),\n",
    "                    ('Import', '[10^6 m²]', 'France'),\n",
    "                    ('Import', '[10^6 m²]', 'Belgium'),\n",
    "                    ('Export', '[kt]', 'France'),\n",
    "                    ('Export', '[kt]', 'Belgium'),\n",
    "                    ('Export', '[10^6 m²]', 'France'),\n",
    "                    ('Export', '[10^6 m²]', 'Belgium')],\n",
    "              names=['Info', 'Unit', 'Country'])).stack(level=- 1,\n",
    "                                                        dropna=False)\n",
    "\n",
    "be_fr_igu = be_fr_igu.unstack()"
   ]
  },
  {
   "cell_type": "code",
   "execution_count": null,
   "metadata": {},
   "outputs": [],
   "source": [
    "be_fr_igu"
   ]
  },
  {
   "cell_type": "markdown",
   "metadata": {},
   "source": [
    "## Production of Insulating Glass Units"
   ]
  },
  {
   "cell_type": "code",
   "execution_count": null,
   "metadata": {},
   "outputs": [],
   "source": [
    "countries = ['Belgium', 'France']"
   ]
  },
  {
   "cell_type": "code",
   "execution_count": null,
   "metadata": {},
   "outputs": [],
   "source": [
    "# Plot the BE and FR production of IGU:\n",
    "fig, axes = plt.subplots(nrows=1, ncols=2,\n",
    "                         figsize=(16, 5),\n",
    "                         sharex=True, sharey=True)\n",
    "\n",
    "for i, (ax, country) in enumerate(zip(axes.flatten(), countries)):\n",
    "    ax.plot(be_fr_igu.index,\n",
    "            be_fr_igu[('Production', '[10^6 m²]')][country])\n",
    "\n",
    "    ax.set_title(country, pad=20)\n",
    "    ax.grid(which='major', axis='y', linestyle=':', linewidth=1)\n",
    "\n",
    "ax.set_xlim(1950, 2020)\n",
    "ax.set_ylim(0, 18)\n",
    "\n",
    "fig.suptitle('IGU production [10^6 m²/y]', y=1.1)\n",
    "sns.despine(offset=5)\n",
    "plt.show()"
   ]
  },
  {
   "cell_type": "code",
   "execution_count": null,
   "metadata": {},
   "outputs": [],
   "source": [
    "# Plot a moving average for IGU production:\n",
    "fig, axes = plt.subplots(nrows=1, ncols=2,\n",
    "                         figsize=(16, 5),\n",
    "                         sharex=True, sharey=True)\n",
    "\n",
    "for i, (ax, country) in enumerate(zip(axes.flatten(), countries)):\n",
    "    ax.plot(be_fr_igu.index,\n",
    "            be_fr_igu[('Production', '[10^6 m²]')][country]\n",
    "            # Linear interpolation for IGU production:\n",
    "            .interpolate(method=\"linear\", limit_area='inside')\n",
    "            # Rolling IGU production according to a 5-year mean:\n",
    "            .rolling(5, center=True).mean())\n",
    "\n",
    "    ax.set_title(country, y=1.05)\n",
    "    ax.set_xlim(1950, 2020)\n",
    "    ax.set_ylim(0, 18)\n",
    "    ax.grid(which='major', axis='y', linestyle=':', linewidth=1)\n",
    "\n",
    "fig.suptitle('IGU production, rolled [10^6 m²/y]', fontsize=15, y=1.1)\n",
    "sns.despine(offset=5)\n",
    "plt.show()"
   ]
  },
  {
   "cell_type": "markdown",
   "metadata": {},
   "source": [
    "## Consumption of Insulating Glass Units"
   ]
  },
  {
   "cell_type": "code",
   "execution_count": null,
   "metadata": {},
   "outputs": [],
   "source": [
    "# Caculate import and export ratios relative to production:\n",
    "be_fr_igu = be_fr_igu.stack(level=[1, 2], dropna=False)\n",
    "\n",
    "be_fr_igu['Import Ratio'] = (be_fr_igu['Import']\n",
    "                             / be_fr_igu['Production'])\n",
    "be_fr_igu['Export Ratio'] = (be_fr_igu['Export']\n",
    "                             / be_fr_igu['Production'])\n",
    "\n",
    "be_fr_igu = be_fr_igu.unstack(level=[1, 2])"
   ]
  },
  {
   "cell_type": "code",
   "execution_count": null,
   "metadata": {},
   "outputs": [],
   "source": [
    "be_fr_igu"
   ]
  },
  {
   "cell_type": "code",
   "execution_count": null,
   "metadata": {},
   "outputs": [],
   "source": [
    "ratios = ['Import', 'Export']"
   ]
  },
  {
   "cell_type": "code",
   "execution_count": null,
   "metadata": {},
   "outputs": [],
   "source": [
    "# Plot import and export ratios for FR and BE:\n",
    "nrows = len(ratios)\n",
    "ncols = len(countries)\n",
    "\n",
    "fig, axes = plt.subplots(nrows=nrows, ncols=ncols,\n",
    "                         sharex=True, sharey=True)\n",
    "\n",
    "for row, ratio in enumerate(ratios):\n",
    "    for col, country in enumerate(countries):\n",
    "        ax = axes[row][col]\n",
    "        (be_fr_igu[(f\"{ratio} Ratio\", '[kt]', country)].plot(ax=ax))\n",
    "\n",
    "        if row == 0:\n",
    "            ax.set_title(country, y=1.1)\n",
    "        if col == 0:\n",
    "            ax.set_ylabel(ratio)\n",
    "\n",
    "\n",
    "ax.set_ylim(0, 1)\n",
    "ax.set_xlim(1950, 2020)\n",
    "\n",
    "fig.suptitle(\"Import and export of IGU compared to production [%]\",\n",
    "             y=1.05)\n",
    "sns.despine(offset=5)\n",
    "plt.show()"
   ]
  },
  {
   "cell_type": "code",
   "execution_count": null,
   "metadata": {},
   "outputs": [],
   "source": [
    "# Interpolation for missing data:\n",
    "cols = [x for x in be_fr_igu.columns if x[0] in ['Import Ratio',\n",
    "                                                 'Export Ratio']]\n",
    "\n",
    "be_fr_igu[cols] = (be_fr_igu[cols].interpolate(method='linear'))"
   ]
  },
  {
   "cell_type": "code",
   "execution_count": null,
   "metadata": {},
   "outputs": [],
   "source": [
    "be_fr_igu.loc[1990:2000, cols]"
   ]
  },
  {
   "cell_type": "code",
   "execution_count": null,
   "metadata": {},
   "outputs": [],
   "source": [
    "# Plot import and export ratios, w/ a moving average (5-y. window length):\n",
    "nrows = len(ratios)\n",
    "ncols = len(countries)\n",
    "\n",
    "fig, axes = plt.subplots(nrows=nrows, ncols=ncols,\n",
    "                         sharex=True, sharey=True)\n",
    "\n",
    "for row, ratio in enumerate(ratios):\n",
    "    for col, country in enumerate(countries):\n",
    "        ax = axes[row][col]\n",
    "        (be_fr_igu[(f\"{ratio} Ratio\", '[kt]', country)]\n",
    "         .rolling(5, center=True).mean()\n",
    "         .plot(ax=ax))\n",
    "\n",
    "        ax.grid(which='major', axis='y', linestyle=':', linewidth=1)\n",
    "        if row == 0:\n",
    "            ax.set_title(country, y=1.1)\n",
    "        if col == 0:\n",
    "            ax.set_ylabel(ratio)\n",
    "\n",
    "ax.set_xlim(1950, 2020)\n",
    "ax.set_ylim(0, 1)\n",
    "\n",
    "fig.suptitle(\"Import and export compared to production [%]\")\n",
    "sns.despine(offset=5)\n",
    "plt.show()"
   ]
  },
  {
   "cell_type": "code",
   "execution_count": null,
   "metadata": {},
   "outputs": [],
   "source": [
    "nrows = len(ratios)\n",
    "ncols = len(countries)\n",
    "\n",
    "fig, axes = plt.subplots(nrows=nrows, ncols=ncols,\n",
    "                         sharex=True, sharey=True)\n",
    "\n",
    "for row, ratio in enumerate(ratios):\n",
    "    for col, country in enumerate(countries):\n",
    "        ax = axes[row][col]\n",
    "        be_fr_igu[(f\"{ratio}\", '[10^6 m²]', country)].plot(ax=ax)\n",
    "\n",
    "        ax.grid(which='major', axis='y', linestyle=':', linewidth=1)\n",
    "        if row == 0:\n",
    "            ax.set_title(country, y=1.1)\n",
    "        if col == 0:\n",
    "            ax.set_ylabel(ratio)\n",
    "\n",
    "ax.set_xlim(1950, 2020)\n",
    "ax.set_ylim(0, 3)\n",
    "\n",
    "fig.suptitle('Total import and export of IGU, [10^6 m²]')\n",
    "sns.despine(offset=5)\n",
    "plt.show()"
   ]
  },
  {
   "cell_type": "code",
   "execution_count": null,
   "metadata": {},
   "outputs": [],
   "source": [
    "nrows = len(ratios)\n",
    "ncols = len(countries)\n",
    "\n",
    "fig, axes = plt.subplots(nrows=nrows, ncols=ncols,\n",
    "                         sharex=True, sharey=True)\n",
    "\n",
    "for row, ratio in enumerate(ratios):\n",
    "    for col, country in enumerate(countries):\n",
    "        ax = axes[row][col]\n",
    "        (be_fr_igu[(f\"{ratio}\", \"[10^6 m²]\", country)]\n",
    "         .interpolate(method='linear', limit_area='inside')\n",
    "         .rolling(5, center=True).mean()\n",
    "         .plot(ax=ax))\n",
    "\n",
    "        ax.grid(which='major', axis='y', linestyle=':', linewidth=1)\n",
    "        if row == 0:\n",
    "            ax.set_title(country, y=1.1)\n",
    "        if col == 0:\n",
    "            ax.set_ylabel(ratio)\n",
    "\n",
    "ax.set_xlim(1950, 2020)\n",
    "ax.set_ylim(0, 3)\n",
    "\n",
    "fig.suptitle('Total import and export of IGU, 5-y rolled, [10^6 m²]')\n",
    "sns.despine(offset=5)\n",
    "plt.show()"
   ]
  },
  {
   "cell_type": "code",
   "execution_count": null,
   "metadata": {},
   "outputs": [],
   "source": [
    "be_fr_igu = be_fr_igu.stack(level=[1, 2], dropna=False)\n",
    "\n",
    "be_fr_igu['Consumption'] = (be_fr_igu['Production']\n",
    "                            + be_fr_igu['Import']\n",
    "                            - be_fr_igu['Export']\n",
    "                            )\n",
    "\n",
    "be_fr_igu = be_fr_igu.unstack(level=[1, 2])"
   ]
  },
  {
   "cell_type": "code",
   "execution_count": null,
   "metadata": {},
   "outputs": [],
   "source": [
    "# Plot total consumption of IGU:\n",
    "fig, axes = plt.subplots(nrows=1, ncols=2,\n",
    "                         figsize=(16, 5),\n",
    "                         sharex=True, sharey=True)\n",
    "\n",
    "for i, (ax, country) in enumerate(zip(axes.flatten(), countries)):\n",
    "\n",
    "    ax.plot(be_fr_igu.index,\n",
    "            be_fr_igu['Consumption', '[10^6 m²]'][country])\n",
    "    ax.set_title(country)\n",
    "\n",
    "ax.set_xlim(1940, 2020)\n",
    "ax.set_ylim(ymin=0)\n",
    "\n",
    "fig.suptitle('IGU Consumption, total [10^6 m²/y]', fontsize=15, y=1.05)\n",
    "sns.despine(offset=5)\n",
    "plt.show()"
   ]
  },
  {
   "cell_type": "code",
   "execution_count": null,
   "metadata": {},
   "outputs": [],
   "source": [
    "# Linear interpolation for IGU consumption\n",
    "# and moving average with a 5-year window length:\n",
    "fig, axes = plt.subplots(nrows=1, ncols=2,\n",
    "                         figsize=(16, 5),\n",
    "                         sharex=True, sharey=True)\n",
    "\n",
    "for i, (ax, country) in enumerate(zip(axes.flatten(), countries)):\n",
    "    ax.plot(be_fr_igu.index,\n",
    "            be_fr_igu['Consumption', '[10^6 m²]'][country]\n",
    "            .interpolate(method=\"linear\", limit_area='inside')\n",
    "            .rolling(5, center=True).mean())\n",
    "    ax.grid(which='major', axis='y', linestyle=':', linewidth=1)\n",
    "    ax.set_title(country)\n",
    "\n",
    "ax.set_xlim(1945, 2020)\n",
    "ax.set_ylim(0, 20)\n",
    "\n",
    "fig.suptitle('IGU Consumption, rolled [10^6 m²/y]',\n",
    "             fontsize=15, y=1.05)\n",
    "sns.despine(offset=5)\n",
    "plt.show()"
   ]
  },
  {
   "cell_type": "code",
   "execution_count": null,
   "metadata": {},
   "outputs": [],
   "source": [
    "# Estimating the IGU consumption per capita\n",
    "for country in be_fr_igu['Consumption', '[10^6 m²]'].columns:\n",
    "    be_fr_igu[('Consumption', '[m²/cap]', country)] = (\n",
    "        be_fr_igu[('Consumption', '[10^6 m²]', country)]*1000\n",
    "        / be_fr_pop[('Population [x1000]', country)])"
   ]
  },
  {
   "cell_type": "code",
   "execution_count": null,
   "metadata": {},
   "outputs": [],
   "source": [
    "# Linear interpolation for IGU consumption per capita\n",
    "# and moving average with a 5-y. window length:\n",
    "fig, axes = plt.subplots(nrows=1, ncols=2,\n",
    "                         figsize=(16, 5),\n",
    "                         sharex=True, sharey=True)\n",
    "\n",
    "for i, (ax, country) in enumerate(zip(axes.flatten(), countries)):\n",
    "    ax.plot(be_fr_igu.index,\n",
    "            be_fr_igu['Consumption', '[m²/cap]'][country]\n",
    "            .interpolate(method=\"linear\", limit_area='inside')\n",
    "            .rolling(5, center=True).mean())\n",
    "\n",
    "    ax.grid(which='major', axis='y', linestyle=':', linewidth=1)\n",
    "    ax.set_title(country, y=1.1)\n",
    "    ax.set_xlim(1945, 2020)\n",
    "    ax.set_ylim(0, 0.5)\n",
    "\n",
    "fig.suptitle('IGU consumption, m² per capita, rolled',\n",
    "             fontsize=15, y=1.05)\n",
    "sns.despine(offset=5)\n",
    "plt.show()"
   ]
  },
  {
   "cell_type": "code",
   "execution_count": null,
   "metadata": {},
   "outputs": [],
   "source": [
    "be_fr_igu = be_fr_igu.drop('[m²/cap]', axis=1, level=1)"
   ]
  },
  {
   "cell_type": "markdown",
   "metadata": {},
   "source": [
    "## Summary"
   ]
  },
  {
   "cell_type": "code",
   "execution_count": null,
   "metadata": {},
   "outputs": [],
   "source": [
    "# Plot total import and export flows, moving average w/ a 5-y. window length:\n",
    "toplot = ['Production', 'Export', 'Import', 'Consumption']\n",
    "nrows = len(toplot)\n",
    "ncols = len(countries)\n",
    "\n",
    "fig, axes = plt.subplots(nrows=nrows, ncols=ncols,\n",
    "                         sharex=True, sharey=True,\n",
    "                         figsize=(13, 14))\n",
    "\n",
    "for row, data in enumerate(toplot):\n",
    "    for col, country in enumerate(countries):\n",
    "        ax = axes[row][col]\n",
    "        # Define the color and title for the subplots:\n",
    "        if country == 'Belgium':\n",
    "            color = 'forestgreen'\n",
    "            ax.set_title(f\"{data} [10^6 m²]\", loc='left', pad=15)\n",
    "        else:\n",
    "            color = 'steelblue'\n",
    "\n",
    "        (be_fr_igu[(f\"{data}\", \"[10^6 m²]\", country)]\n",
    "         .interpolate(method='linear')\n",
    "         .rolling(5, center=True).mean()\n",
    "         .plot(ax=ax, c=color)\n",
    "         )\n",
    "\n",
    "        x = be_fr_igu.index\n",
    "        y = (be_fr_igu[(f\"{data}\", \"[10^6 m²]\", country)]\n",
    "             .interpolate(method='linear')\n",
    "             .rolling(5, center=True).mean())\n",
    "        ax.fill_between(x, y, color=color, alpha=0.075)\n",
    "\n",
    "        sns.scatterplot(data=be_fr_igu[f\"{data}\", \"[10^6 m²]\"][country],\n",
    "                        marker='.', s=50, color='grey',\n",
    "                        ax=ax)\n",
    "\n",
    "        ax.get_legend().remove()\n",
    "\n",
    "        ax.minorticks_off()\n",
    "        ax.grid(which='major', axis='y', linestyle=':', linewidth=1)\n",
    "        style_ax(ax)\n",
    "        ax.set_ylabel(None)\n",
    "\n",
    "        ax.grid(which='major', axis='y', linestyle=':', linewidth=1)\n",
    "\n",
    "        if row == 0:\n",
    "            ax.set_title(country, y=1.25)\n",
    "\n",
    "ax.set_xlim(1950, 2020)\n",
    "ax.set_ylim(0, 20)\n",
    "plt.xticks(np.arange(1950, 2021, 10))\n",
    "\n",
    "fig.subplots_adjust(wspace=0.15, hspace=0.5)\n",
    "\n",
    "fig.suptitle(\"Flows of IGU [10^6 m²]\", y=1)\n",
    "sns.despine(offset=5)\n",
    "\n",
    "if export:\n",
    "    # Save image:\n",
    "    fig.savefig(os.path.join(path_img, 'AppendixC_BEFR_IGUFlows.png'),\n",
    "                dpi=600, bbox_inches='tight')\n",
    "    fig.savefig(os.path.join(path_img, 'AppendixC_BEFR_IGUFlows.pdf'),\n",
    "                bbox_inches='tight')\n",
    "\n",
    "plt.show()"
   ]
  },
  {
   "cell_type": "markdown",
   "metadata": {},
   "source": [
    "Hypothesis for missing data: French production = French consumption"
   ]
  },
  {
   "cell_type": "code",
   "execution_count": null,
   "metadata": {},
   "outputs": [],
   "source": [
    "be_fr_igu = be_fr_igu.stack(level=[1, 2], dropna=False)\n",
    "\n",
    "be_fr_igu[\"Estimated consumption\"] = (\n",
    "    be_fr_igu[\"Consumption\"]\n",
    "    .fillna(be_fr_igu[\"Production\"])\n",
    ")\n",
    "\n",
    "be_fr_igu = be_fr_igu.unstack(level=[1, 2])"
   ]
  },
  {
   "cell_type": "code",
   "execution_count": null,
   "metadata": {},
   "outputs": [],
   "source": [
    "# Plot total import and export flows, moving average w/ a 5-y. window length:\n",
    "toplot = ['Production', 'Export', 'Import', 'Consumption']\n",
    "nrows = len(toplot)\n",
    "ncols = len(countries)\n",
    "\n",
    "fig, axes = plt.subplots(nrows=nrows, ncols=ncols,\n",
    "                         sharex=True, sharey=True,\n",
    "                         figsize=(13, 14))\n",
    "\n",
    "for row, data in enumerate(toplot):\n",
    "    for col, country in enumerate(countries):\n",
    "        ax = axes[row][col]\n",
    "        # Define the color and title for the subplots:\n",
    "        if country == 'Belgium':\n",
    "            color = 'forestgreen'\n",
    "            ax.set_title(f\"{data} [10^6 m²]\", loc='left', pad=15)\n",
    "        else:\n",
    "            color = 'steelblue'\n",
    "\n",
    "        if row == 3:\n",
    "            sns.lineplot(data=be_fr_igu[(\"Estimated consumption\", \"[10^6 m²]\",\n",
    "                                         country)]\n",
    "                         .interpolate(method='linear')\n",
    "                         .rolling(5, center=True).mean(),\n",
    "                         linestyle='--', color='darkgrey', ax=ax)\n",
    "\n",
    "        (be_fr_igu[(f\"{data}\", \"[10^6 m²]\", country)]\n",
    "         .interpolate(method='linear')\n",
    "         .rolling(5, center=True).mean()\n",
    "         .plot(ax=ax, c=color)\n",
    "         )\n",
    "\n",
    "        x = be_fr_igu.index\n",
    "        y = (be_fr_igu[(f\"{data}\", \"[10^6 m²]\", country)]\n",
    "             .interpolate(method='linear')\n",
    "             .rolling(5, center=True).mean())\n",
    "        ax.fill_between(x, y, color=color, alpha=0.075)\n",
    "\n",
    "        sns.scatterplot(data=be_fr_igu[f\"{data}\", \"[10^6 m²]\"][country],\n",
    "                        marker='.', s=50, color='grey',\n",
    "                        ax=ax)\n",
    "\n",
    "        ax.get_legend().remove()\n",
    "\n",
    "        ax.minorticks_off()\n",
    "        ax.grid(which='major', axis='y', linestyle=':', linewidth=1)\n",
    "        style_ax(ax)\n",
    "        ax.set_ylabel(None)\n",
    "\n",
    "        ax.grid(which='major', axis='y', linestyle=':', linewidth=1)\n",
    "\n",
    "        if row == 0:\n",
    "            ax.set_title(country, y=1.25)\n",
    "\n",
    "ax.set_xlim(1950, 2020)\n",
    "ax.set_ylim(0, 20)\n",
    "plt.xticks(np.arange(1950, 2021, 10))\n",
    "\n",
    "fig.subplots_adjust(wspace=0.15, hspace=0.5)\n",
    "\n",
    "fig.suptitle(\"Flows of IGU [10^6 m²]\", y=1)\n",
    "sns.despine(offset=5)\n",
    "\n",
    "if export:\n",
    "    # Save image:\n",
    "    fig.savefig(os.path.join(path_img, 'AppendixC_BEFR_IGUFlows.png'),\n",
    "                dpi=600, bbox_inches='tight')\n",
    "    fig.savefig(os.path.join(path_img, 'AppendixC_BEFR_IGUFlows.pdf'),\n",
    "                bbox_inches='tight')\n",
    "\n",
    "plt.show()"
   ]
  },
  {
   "cell_type": "markdown",
   "metadata": {},
   "source": [
    "# The Environmental Footprint Relating to the Production (and consumption) of IGU in the EU"
   ]
  },
  {
   "cell_type": "markdown",
   "metadata": {},
   "source": [
    "## Raw Material Use for IGU Production"
   ]
  },
  {
   "cell_type": "code",
   "execution_count": null,
   "metadata": {},
   "outputs": [],
   "source": [
    "# Absolute use of raw materials for IGU production:\n",
    "for material in materials:\n",
    "    eu_igu[(f\"{material}, IGU production\", '[kt]')] = (\n",
    "        eu_igu[('Production', '[kt]')]\n",
    "        * (mat_intensity[(f\"{material}, kg/kg\")]\n",
    "           .interpolate(method='pchip', limit_direction='forward'))\n",
    "    )"
   ]
  },
  {
   "cell_type": "code",
   "execution_count": null,
   "metadata": {},
   "outputs": [],
   "source": [
    "# Plot raw material flows for IGU production in the EU:\n",
    "fig, axes = plt.subplots(nrows=3, ncols=2,\n",
    "                         sharex=True, sharey=True,\n",
    "                         figsize=(10, 8))\n",
    "\n",
    "for i, (ax, material) in enumerate(zip(axes.flatten(), materials)):\n",
    "    sns.lineplot(data=eu_igu[f\"{material}, IGU production\"].reset_index(),\n",
    "                 x='year', y='[kt]',\n",
    "                 hue='Nbr of countries',\n",
    "                 palette='colorblind',\n",
    "                 ax=ax)\n",
    "    ax.set_title(material)\n",
    "    ax.set_ylabel(None)\n",
    "    style_ax(ax)\n",
    "    ax.get_legend().remove()\n",
    "\n",
    "ax.set_xlim(1950, 2020)\n",
    "ax.set_ylim(0, 2000)\n",
    "\n",
    "fig.suptitle(\"Raw material flows related to IGU production in the EU [kt/y]\")\n",
    "fig.subplots_adjust(hspace=0.4)\n",
    "sns.despine(offset=5)\n",
    "plt.show()"
   ]
  },
  {
   "cell_type": "code",
   "execution_count": null,
   "metadata": {},
   "outputs": [],
   "source": [
    "# Plot raw material flows for EU IGU production\n",
    "fig, axes = plt.subplots(nrows=3, ncols=2,\n",
    "                         sharex=True, sharey=True,\n",
    "                         figsize=(10, 8))\n",
    "\n",
    "for i, (ax, material) in enumerate(zip(axes.flatten(), materials)):\n",
    "    for a, b in eu_list:\n",
    "        ax.plot(eu_igu.interpolate()\n",
    "                .rolling(5, center=True).mean().loc[a:b]\n",
    "                .reset_index(level='Nbr of countries')\n",
    "                .sort_values(by=['year'])\n",
    "                [(f\"{material}, IGU production\", '[kt]')],\n",
    "                linewidth=1.1, c='black', linestyle=':'\n",
    "                )\n",
    "        ax.set_title(material)\n",
    "        style_ax(ax)\n",
    "\n",
    "ax.set_xlim(1950, 2020)\n",
    "plt.xticks(np.arange(1950, 2021, 10))\n",
    "ax.set_ylim(0, 2000)\n",
    "\n",
    "fig.suptitle(\"Raw material flows relating to IGU production in the EU [kt/y]\")\n",
    "fig.subplots_adjust(hspace=0.4)\n",
    "sns.despine(offset=5)\n",
    "plt.show()"
   ]
  },
  {
   "cell_type": "code",
   "execution_count": null,
   "metadata": {},
   "outputs": [],
   "source": [
    "# Estimate total use of raw materials (sum per material):\n",
    "eu_igu[('Total raw materials, IGU production', '[Mt]')] = 0\n",
    "\n",
    "for material in materials:\n",
    "    eu_igu[('Total raw materials, IGU production', '[Mt]')] = (\n",
    "        eu_igu[(f\"{material}, IGU production\", '[kt]')]/1000\n",
    "        + eu_igu[('Total raw materials, IGU production', '[Mt]')]\n",
    "    )"
   ]
  },
  {
   "cell_type": "code",
   "execution_count": null,
   "metadata": {},
   "outputs": [],
   "source": [
    "# Plot total material use for IGU production in the EU:\n",
    "fig, ax = plt.subplots(figsize=(8, 5))\n",
    "\n",
    "sns.lineplot(data=eu_igu['Total raw materials, IGU production'].reset_index(),\n",
    "             x='year', y='[Mt]',\n",
    "             hue='Nbr of countries',\n",
    "             palette='colorblind',\n",
    "             ax=ax)\n",
    "\n",
    "ax.set_xlim(1950, 2020)\n",
    "ax.set_ylim(0,4)\n",
    "ax.set_ylabel(None)\n",
    "style_ax(ax)\n",
    "ax.get_legend().remove()\n",
    "\n",
    "fig.suptitle(\"Total use of raw materials for IGU production in the EU [Mt/y]\")\n",
    "fig.subplots_adjust(hspace=0.4)\n",
    "sns.despine(offset=5)\n",
    "plt.show()"
   ]
  },
  {
   "cell_type": "code",
   "execution_count": null,
   "metadata": {},
   "outputs": [],
   "source": [
    "# Plot total material use for IGU production in the EU:\n",
    "fig, ax = plt.subplots(figsize=(8, 5))\n",
    "\n",
    "for a, b in eu_list:\n",
    "    ax.plot(eu_igu.interpolate().rolling(5, center=True).mean()\n",
    "            .loc[a:b]\n",
    "            .reset_index(level='Nbr of countries')\n",
    "            .sort_values(by=['year'])\n",
    "            [('Total raw materials, IGU production', '[Mt]')],\n",
    "            linewidth=1.1, c='black', linestyle=':'\n",
    "            )\n",
    "\n",
    "ax.set_xlim(1950, 2020)\n",
    "ax.set_ylim(0, 4)\n",
    "style_ax(ax)\n",
    "\n",
    "fig.suptitle(\"Total use of raw materials for IGU production in the EU [Mt]\")\n",
    "fig.subplots_adjust(hspace=0.4)\n",
    "sns.despine(offset=5)\n",
    "plt.show()"
   ]
  },
  {
   "cell_type": "markdown",
   "metadata": {},
   "source": [
    "## Energy use for the production of IGU"
   ]
  },
  {
   "cell_type": "code",
   "execution_count": null,
   "metadata": {},
   "outputs": [],
   "source": [
    "# Absolute use of energy for IGU production:\n",
    "for energy in energies:\n",
    "    eu_igu[(f\"{energy}, IGU production\", '[PJ]')] = (\n",
    "        eu_igu[('Production', '[kt]')]\n",
    "        * (energy_intensity[f\"{energy}, GJ/t\"]\n",
    "           .interpolate(method='pchip', limit_direction='forward'))/1000\n",
    "    )"
   ]
  },
  {
   "cell_type": "code",
   "execution_count": null,
   "metadata": {},
   "outputs": [],
   "source": [
    "# Plot energy used for IGU production in EU:\n",
    "fig, axes = plt.subplots(nrows=1, ncols=3,\n",
    "                         sharex=True, sharey=True,\n",
    "                         figsize=(16, 4))\n",
    "\n",
    "for i, (ax, energy) in enumerate(zip(axes.flatten(), energies)):\n",
    "    sns.lineplot(data=eu_igu[f\"{energy}, IGU production\"].reset_index(),\n",
    "                 x='year', y=\"[PJ]\",\n",
    "                 hue='Nbr of countries',\n",
    "                 palette='colorblind',\n",
    "                 ax=ax)\n",
    "    ax.set_title(energy)\n",
    "    ax.get_legend().remove()\n",
    "    ax.set_ylabel(None)\n",
    "    style_ax(ax)\n",
    "\n",
    "ax.set_xlim(1950, 2020)\n",
    "plt.xticks(np.arange(1950, 2021, 10))\n",
    "ax.set_ylim(0, 25)\n",
    "\n",
    "fig.suptitle(\"Energy used in the production of IGU in the EU [PJ]\", y=1.1)\n",
    "fig.subplots_adjust(hspace=0.4)\n",
    "sns.despine(offset=5)\n",
    "plt.show()"
   ]
  },
  {
   "cell_type": "code",
   "execution_count": null,
   "metadata": {},
   "outputs": [],
   "source": [
    "# Plot energy flows for IGU production, 5-y rolled:\n",
    "fig, axes = plt.subplots(nrows=1, ncols=3,\n",
    "                         sharex=True, sharey=True,\n",
    "                         figsize=(16, 4))\n",
    "\n",
    "for i, (ax, energy) in enumerate(zip(axes.flatten(), energies)):\n",
    "    for a, b in eu_list:\n",
    "        ax.plot(eu_igu.interpolate()\n",
    "                .rolling(5, center=True).mean().loc[a:b]\n",
    "                .reset_index(level='Nbr of countries')\n",
    "                .sort_values(by=['year'])\n",
    "                [(f\"{energy}, IGU production\", '[PJ]')],\n",
    "                linewidth=1.1, c='black', linestyle=':'\n",
    "                )\n",
    "        ax.set_title(energy)\n",
    "        style_ax(ax)\n",
    "\n",
    "ax.set_xlim(1950, 2020)\n",
    "plt.xticks(np.arange(1950, 2021, 10))\n",
    "ax.set_ylim(0, 25)\n",
    "\n",
    "fig.suptitle(\"Raw material flows relating to IGU production in the EU [kt/y]\", \n",
    "             y=1.1)\n",
    "fig.subplots_adjust(hspace=0.4)\n",
    "sns.despine(offset=5)\n",
    "plt.show()"
   ]
  },
  {
   "cell_type": "code",
   "execution_count": null,
   "metadata": {},
   "outputs": [],
   "source": [
    "eu_igu[('Total energy, IGU production', '[PJ]')] = 0\n",
    "\n",
    "for energy in energies:\n",
    "    eu_igu[('Total energy, IGU production', '[PJ]')] = (\n",
    "        eu_igu[(f\"{energy}, IGU production\", '[PJ]')]\n",
    "        + eu_igu[('Total energy, IGU production', '[PJ]')]\n",
    "    )"
   ]
  },
  {
   "cell_type": "code",
   "execution_count": null,
   "metadata": {},
   "outputs": [],
   "source": [
    "# Plot total energy use for IGU production in the EU:\n",
    "fig, ax = plt.subplots(figsize=(8, 5))\n",
    "\n",
    "sns.lineplot(data=eu_igu['Total energy, IGU production'].reset_index(),\n",
    "             x='year', y='[PJ]',\n",
    "             hue='Nbr of countries',\n",
    "             palette='colorblind',\n",
    "             ax=ax)\n",
    "\n",
    "ax.set_xlim(1950, 2020)\n",
    "plt.xticks(np.arange(1950, 2021, 10))\n",
    "ax.set_ylim(0, 40)\n",
    "ax.get_legend().remove()\n",
    "ax.set_ylabel(None)\n",
    "style_ax(ax)\n",
    "\n",
    "fig.suptitle(\"Total use of energy for IGU production in the EU [PJ]\")\n",
    "fig.subplots_adjust(hspace=0.4)\n",
    "sns.despine(offset=5)\n",
    "plt.show()"
   ]
  },
  {
   "cell_type": "code",
   "execution_count": null,
   "metadata": {},
   "outputs": [],
   "source": [
    "# Plot total energy use for IGU production in the EU:\n",
    "fig, ax = plt.subplots(figsize=(8, 5))\n",
    "\n",
    "for a, b in eu_list:\n",
    "    ax.plot(eu_igu.interpolate().rolling(5, center=True).mean()\n",
    "            .loc[a:b]\n",
    "            .reset_index(level='Nbr of countries')\n",
    "            .sort_values(by=['year'])\n",
    "            [('Total energy, IGU production', '[PJ]')],\n",
    "            linewidth=1.1, c='black', linestyle=':'\n",
    "            )\n",
    "\n",
    "ax.set_xlim(1950, 2020)\n",
    "ax.set_ylim(0, 40)\n",
    "style_ax(ax)\n",
    "\n",
    "fig.suptitle(\"Total use of energy for IGU production in the EU [PJ]\")\n",
    "fig.subplots_adjust(hspace=0.4)\n",
    "sns.despine(offset=5)\n",
    "plt.show()"
   ]
  },
  {
   "cell_type": "markdown",
   "metadata": {},
   "source": [
    "## Absolute CO2 emissions relating to the production of IGU, EU"
   ]
  },
  {
   "cell_type": "code",
   "execution_count": null,
   "metadata": {},
   "outputs": [],
   "source": [
    "# Estimating the co2 emission related to IGU production\n",
    "eu_igu[('co2, IGU production', '[kt]')] = (\n",
    "    eu_igu[('Production', '[kt]')]\n",
    "    * co2_intensity['co2 interpolated [kg/t]'] / 1000\n",
    ")"
   ]
  },
  {
   "cell_type": "code",
   "execution_count": null,
   "metadata": {},
   "outputs": [],
   "source": [
    "fig, ax = plt.subplots(figsize=(8, 5))\n",
    "\n",
    "sns.lineplot(data=eu_igu['co2, IGU production'].reset_index(),\n",
    "             x='year', y='[kt]',\n",
    "             hue='Nbr of countries',\n",
    "             palette='colorblind',\n",
    "             ax=ax)\n",
    "\n",
    "ax.set_xlim(1980, 2020)\n",
    "ax.set_ylim(0, 2000)\n",
    "ax.get_legend().remove()\n",
    "\n",
    "fig.suptitle(\"co2 emissions for EU IGU production [kt]\")\n",
    "fig.subplots_adjust(hspace=0.4)\n",
    "sns.despine(offset=5)\n",
    "plt.show()"
   ]
  },
  {
   "cell_type": "code",
   "execution_count": null,
   "metadata": {},
   "outputs": [],
   "source": [
    "# Plot total energy use for IGU production in the EU:\n",
    "fig, ax = plt.subplots(figsize=(8, 5))\n",
    "\n",
    "for a, b in eu_list:\n",
    "    ax.plot(eu_igu.rolling(5, center=True).mean().loc[a:b]\n",
    "            .reset_index(level='Nbr of countries')\n",
    "            .sort_values(by=['year'])\n",
    "            [('co2, IGU production', '[kt]')],\n",
    "            linewidth=1.1, c='black', linestyle=':'\n",
    "            )\n",
    "\n",
    "ax.set_xlim(1950, 2020)\n",
    "ax.set_ylim(0, 1800)\n",
    "\n",
    "fig.suptitle(\"CO2 emissions for EU IGU production [kt]\")\n",
    "fig.subplots_adjust(hspace=0.4)\n",
    "sns.despine(offset=5, trim=True)\n",
    "plt.show()"
   ]
  },
  {
   "cell_type": "markdown",
   "metadata": {},
   "source": [
    "## Summary"
   ]
  },
  {
   "cell_type": "code",
   "execution_count": null,
   "metadata": {},
   "outputs": [],
   "source": [
    "# Number of countries for trend curves:\n",
    "c = [(6, 12), (10, 15), (27, 28)]"
   ]
  },
  {
   "cell_type": "code",
   "execution_count": null,
   "metadata": {},
   "outputs": [],
   "source": [
    "# Plot the absolute use of raw materials for IGU prod in the EU:\n",
    "fig, axes = plt.subplots(nrows=2, ncols=3,\n",
    "                         sharex=True, sharey=True,\n",
    "                         figsize=(16, 5))\n",
    "\n",
    "for i, (ax, material) in enumerate(zip(axes.flatten(), materials)):\n",
    "    for a, b in c:\n",
    "        ax.plot(eu_igu.interpolate().rolling(5, center=True).mean().loc[a:b]\n",
    "                .reset_index(level='Nbr of countries')\n",
    "                .sort_values(by=['year'])\n",
    "                [f\"{material}, IGU production\", '[kt]'],\n",
    "                linewidth=1.1, c='sandybrown', linestyle='-')\n",
    "\n",
    "    x = (eu_igu.reset_index()['year'])\n",
    "    y = (eu_igu[(f\"{material}, IGU production\", '[kt]')].interpolate()\n",
    "         .rolling(5, center=True).mean())\n",
    "\n",
    "    ax.fill_between(x, y, color=\"sandybrown\", alpha=0.1)\n",
    "    ax.grid(which='major', axis='y', linestyle=':', linewidth=1)\n",
    "\n",
    "    ax.set_title(f\" {material}\", loc='left')\n",
    "    style_ax(ax)\n",
    "\n",
    "ax.set_ylim(0, 2000)\n",
    "ax.set_xlim(1950, 2020)\n",
    "plt.yticks(np.arange(0, 2001, 500))\n",
    "plt.xticks(np.arange(1950, 2021, 10))\n",
    "\n",
    "# Divide by 1000 the y-axis, results in Mt:\n",
    "ax.yaxis.set_major_formatter(y_1000)\n",
    "\n",
    "fig.suptitle(\"(a) Use of raw materials [Mt]\", x=0.1, y=1, ha='left')\n",
    "fig.subplots_adjust(wspace=0.15, hspace=0.4)\n",
    "\n",
    "sns.despine(offset=5)\n",
    "\n",
    "if export:\n",
    "    # Save image:\n",
    "    fig.savefig(os.path.join(path_img, 'Fig5_EU_Use of raw materials.png'),\n",
    "                dpi=600, bbox_inches='tight')\n",
    "    fig.savefig(os.path.join(path_img, 'Fig5_EU_Use of raw materials.pdf'),\n",
    "                bbox_inches='tight')\n",
    "\n",
    "plt.show()"
   ]
  },
  {
   "cell_type": "code",
   "execution_count": null,
   "metadata": {},
   "outputs": [],
   "source": [
    "# Plot the absolute use of energy in the EU for architectural glass prod:\n",
    "fig, axes = plt.subplots(nrows=1, ncols=3,\n",
    "                         sharex=True, sharey=True,\n",
    "                         figsize=(16, 2.5))\n",
    "\n",
    "for i, (ax, energy) in enumerate(zip(axes.flatten(), energies)):\n",
    "    for a, b in c:\n",
    "        ax.plot(eu_igu.interpolate().rolling(5, center=True).mean().loc[a:b]\n",
    "                .reset_index(level='Nbr of countries')\n",
    "                .sort_values(by=['year'])\n",
    "                [(f\"{energy}, IGU production\", '[PJ]')],\n",
    "                linewidth=1.1, c='steelblue', linestyle='-')\n",
    "\n",
    "    x = (eu_igu.reset_index()['year'])\n",
    "    y = (eu_igu[(f\"{energy}, IGU production\", '[PJ]')].interpolate()\n",
    "         .rolling(5, center=True).mean())\n",
    "    ax.fill_between(x, y, color=\"steelblue\", alpha=0.10)\n",
    "    ax.grid(which='major', axis='y', linestyle=':', linewidth=1)\n",
    "\n",
    "    ax.set_title(f\" {energy}\", loc='left')\n",
    "    style_ax(ax)\n",
    "\n",
    "ax.set_xlim(1950, 2020)\n",
    "ax.set_ylim(0, 25)\n",
    "plt.xticks(np.arange(1950, 2021, 10))\n",
    "\n",
    "fig.suptitle(\"(b) Use of energy [PJ]\", x=0.1, y=1.12, ha='left')\n",
    "fig.subplots_adjust(wspace=0.15)\n",
    "\n",
    "sns.despine(offset=5)\n",
    "\n",
    "if export:\n",
    "    # Save image:\n",
    "    fig.savefig(os.path.join(path_img, 'Fig5_EU_Use of energy.png'),\n",
    "                dpi=600, bbox_inches='tight')\n",
    "    fig.savefig(os.path.join(path_img, 'Fig5_EU_Use of energy.pdf'),\n",
    "                bbox_inches='tight')\n",
    "\n",
    "plt.show()"
   ]
  },
  {
   "cell_type": "code",
   "execution_count": null,
   "metadata": {},
   "outputs": [],
   "source": [
    "# Plot total energy and material use, and total CO2 emissions for IGU prod:\n",
    "fig, axes = plt.subplots(nrows=1, ncols=3,\n",
    "                         sharex=True,\n",
    "                         figsize=(16, 2.5))\n",
    "\n",
    "# Total use of raw materials:\n",
    "ax = axes[0]\n",
    "for a, b in c:\n",
    "    ax.plot(eu_igu.interpolate().rolling(5, center=True).mean().loc[a:b]\n",
    "            .reset_index(level='Nbr of countries')\n",
    "            .sort_values(by=['year'])\n",
    "            [('Total raw materials, IGU production', '[Mt]')],\n",
    "            linewidth=1.1, c='firebrick', linestyle='-')\n",
    "\n",
    "x = (eu_igu.reset_index()['year'])\n",
    "y = (eu_igu[('Total raw materials, IGU production', '[Mt]')].interpolate()\n",
    "     .rolling(5, center=True).mean())\n",
    "ax.fill_between(x, y, color=\"firebrick\", alpha=0.1)\n",
    "\n",
    "ax.grid(which='major', axis='y', linestyle=':', linewidth=1)\n",
    "\n",
    "ax.set_title(\"Raw material use [Mt]\", loc='left')\n",
    "style_ax(ax)\n",
    "ax.set_ylim(0, 4)\n",
    "ax.set_xlim(1950, 2020)\n",
    "plt.xticks(np.arange(1950, 2021, 10))\n",
    "\n",
    "# Total use of energy:\n",
    "ax = axes[1]\n",
    "for a, b in c:\n",
    "    ax.plot(eu_igu.interpolate().rolling(5, center=True).mean().loc[a:b]\n",
    "            .reset_index(level='Nbr of countries')\n",
    "            .sort_values(by=['year'])\n",
    "            [('Total energy, IGU production', '[PJ]')],\n",
    "            linewidth=1.1, c='firebrick', linestyle='-')\n",
    "\n",
    "x = (eu_igu.reset_index()['year'])\n",
    "y = (eu_igu[('Total energy, IGU production', '[PJ]')].interpolate()\n",
    "     .rolling(5, center=True).mean())\n",
    "ax.fill_between(x, y, color=\"firebrick\", alpha=0.1)\n",
    "\n",
    "ax.grid(which='major', axis='y', linestyle=':', linewidth=1)\n",
    "\n",
    "ax.set_title(\"Energy use [PJ]\", loc='left')\n",
    "style_ax(ax)\n",
    "ax.set_ylim(0, 40)\n",
    "\n",
    "# Total emissions of CO2:\n",
    "ax = axes[2]\n",
    "for a, b in c:\n",
    "    ax.plot(eu_igu.interpolate().rolling(5, center=True).mean().loc[a:b]\n",
    "            .reset_index(level='Nbr of countries')\n",
    "            .sort_values(by=['year'])\n",
    "            [('co2, IGU production', '[kt]')],\n",
    "            linewidth=1.1, c='firebrick', linestyle='-')\n",
    "\n",
    "x = (eu_igu.reset_index()['year'])\n",
    "y = (eu_igu[('co2, IGU production', '[kt]')].interpolate()\n",
    "     .rolling(5, center=True).mean())\n",
    "ax.fill_between(x, y, color=\"firebrick\", alpha=0.1)\n",
    "\n",
    "ax.grid(which='major', axis='y', linestyle=':', linewidth=1)\n",
    "\n",
    "# Divide by 1000 the y-axis, results in Mt\n",
    "ax.yaxis.set_major_formatter(y_1000)\n",
    "\n",
    "ax.set_title(\"CO2 emissions [MtCO2]\", loc='left')\n",
    "style_ax(ax)\n",
    "ax.set_ylim(0, 2000)\n",
    "\n",
    "fig.suptitle(\"(c) Total flows of raw materials, energy and CO2\",\n",
    "             x=0.1, y=1.12, ha='left')\n",
    "fig.subplots_adjust(wspace=0.15)\n",
    "\n",
    "sns.despine(offset=5)\n",
    "\n",
    "if export:\n",
    "    # Save image:\n",
    "    plt.savefig(os.path.join(path_img, 'Fig5_EU_Total flows.png'),\n",
    "                dpi=600, bbox_inches='tight')\n",
    "    plt.savefig(os.path.join(path_img, 'Fig5_EU_Total flows.pdf'),\n",
    "                bbox_inches='tight')\n",
    "\n",
    "plt.show()"
   ]
  },
  {
   "cell_type": "markdown",
   "metadata": {},
   "source": [
    "# The Environmental Footprint of IGU used in BE and FR"
   ]
  },
  {
   "cell_type": "markdown",
   "metadata": {},
   "source": [
    "## Raw Material Use for IGU Production"
   ]
  },
  {
   "cell_type": "code",
   "execution_count": null,
   "metadata": {},
   "outputs": [],
   "source": [
    "# Absolute use of raw materials for IGU consumption:\n",
    "for mat in materials:\n",
    "    for country in be_fr_igu[('Estimated consumption', '[kt]')].columns:\n",
    "        be_fr_igu[(f\"{mat}, IGU consum\", '[kt]', country)] = (\n",
    "            be_fr_igu[('Estimated consumption', '[kt]', country)]\n",
    "            * (mat_intensity[(f\"{mat}, kg/kg\")]\n",
    "               .interpolate(method='pchip', limit_direction='forward'))\n",
    "        )"
   ]
  },
  {
   "cell_type": "code",
   "execution_count": null,
   "metadata": {},
   "outputs": [],
   "source": [
    "nrows = len(materials)\n",
    "ncols = len(countries)\n",
    "\n",
    "fig, axes = plt.subplots(nrows=nrows, ncols=ncols,\n",
    "                         sharex=True, sharey=True,\n",
    "                         figsize=(8, 16))\n",
    "\n",
    "for row, mat in enumerate(materials):\n",
    "    for col, country in enumerate(countries):\n",
    "        ax = axes[row][col]\n",
    "        if row == 0:\n",
    "            ax.set_title(country)\n",
    "        if col == 0:\n",
    "            ax.set_ylabel(mat)\n",
    "        be_fr_igu[(f\"{mat}, IGU consum\", '[kt]', country)].plot(ax=ax)\n",
    "\n",
    "ax.set_xlim(1950, 2020)\n",
    "\n",
    "sns.despine()\n",
    "plt.show()"
   ]
  },
  {
   "cell_type": "code",
   "execution_count": null,
   "metadata": {},
   "outputs": [],
   "source": [
    "for country in countries:\n",
    "    be_fr_igu[('Total raw material use, IGU consum', '[kt]', country)] = 0\n",
    "\n",
    "for mat in materials:\n",
    "    be_fr_igu['Total raw material use, IGU consum', '[kt]'] = (\n",
    "        be_fr_igu[f\"{mat}, IGU consum\", '[kt]']\n",
    "        + be_fr_igu[('Total raw material use, IGU consum', '[kt]')]\n",
    "    )"
   ]
  },
  {
   "cell_type": "code",
   "execution_count": null,
   "metadata": {},
   "outputs": [],
   "source": [
    "ncols = len(countries)\n",
    "\n",
    "fig, axes = plt.subplots(nrows=1, ncols=ncols,\n",
    "                         sharex=True, sharey=True,\n",
    "                         figsize=(16, 5))\n",
    "\n",
    "for col, country in enumerate(countries):\n",
    "    ax = axes[col]\n",
    "    (be_fr_igu[('Total raw material use, IGU consum', '[kt]', country)]\n",
    "     .plot(ax=ax))\n",
    "\n",
    "ax.set_xlim(1950, 2020)\n",
    "ax.set_ylim(0, 500)\n",
    "sns.despine()\n",
    "plt.show()"
   ]
  },
  {
   "cell_type": "code",
   "execution_count": null,
   "metadata": {},
   "outputs": [],
   "source": [
    "ncols = len(countries)\n",
    "\n",
    "fig, axes = plt.subplots(nrows=1, ncols=ncols,\n",
    "                         sharex=True, sharey=True,\n",
    "                         figsize=(16, 5))\n",
    "\n",
    "for col, country in enumerate(countries):\n",
    "    ax = axes[col]\n",
    "    (be_fr_igu[('Total raw material use, IGU consum', '[kt]', country)]\n",
    "     .rolling(5, center=True).mean()\n",
    "     .plot(ax=ax))\n",
    "\n",
    "ax.set_xlim(1950, 2020)\n",
    "ax.set_ylim(0, 500)\n",
    "sns.despine()\n",
    "plt.show()"
   ]
  },
  {
   "cell_type": "markdown",
   "metadata": {},
   "source": [
    "## Energy use for IGU Production"
   ]
  },
  {
   "cell_type": "code",
   "execution_count": null,
   "metadata": {},
   "outputs": [],
   "source": [
    "# Absolute use of energy for IGU production:\n",
    "for energy in energies:\n",
    "    for country in countries:\n",
    "        be_fr_igu[(f\"{energy}, IGU consum\", '[TJ]', country)] = (\n",
    "            be_fr_igu[('Estimated consumption', '[kt]', country)]\n",
    "            * (energy_intensity[(f\"{energy}, GJ/t\")]\n",
    "               .interpolate(method='pchip', limit_direction='forward'))\n",
    "        )"
   ]
  },
  {
   "cell_type": "code",
   "execution_count": null,
   "metadata": {},
   "outputs": [],
   "source": [
    "nrows = len(energies)\n",
    "ncols = len(countries)\n",
    "\n",
    "fig, axes = plt.subplots(nrows=nrows, ncols=ncols,\n",
    "                         sharex=True, sharey=True,\n",
    "                         figsize=(16, 10))\n",
    "\n",
    "for row, energy in enumerate(energies):\n",
    "    for col, country in enumerate(countries):\n",
    "        ax = axes[row][col]\n",
    "        if row == 0:\n",
    "            ax.set_title(country)\n",
    "        if col == 0:\n",
    "            ax.set_ylabel(energy)\n",
    "        be_fr_igu[(f\"{energy}, IGU consum\", '[TJ]', country)].plot(ax=ax)\n",
    "\n",
    "ax.set_xlim(1950, 2020)\n",
    "ax.set_ylim(ymin=0)\n",
    "\n",
    "sns.despine()\n",
    "plt.show()"
   ]
  },
  {
   "cell_type": "code",
   "execution_count": null,
   "metadata": {},
   "outputs": [],
   "source": [
    "# Total energy use for IGU production (sum of energy sources):\n",
    "for country in countries:\n",
    "    be_fr_igu[('Total energy use, IGU consum', '[TJ]', country)] = 0\n",
    "\n",
    "for energy in energies:\n",
    "    be_fr_igu[('Total energy use, IGU consum', '[TJ]')] = (\n",
    "        be_fr_igu[f\"{energy}, IGU consum\", '[TJ]']\n",
    "        + be_fr_igu[('Total energy use, IGU consum', '[TJ]')]\n",
    "    )"
   ]
  },
  {
   "cell_type": "code",
   "execution_count": null,
   "metadata": {},
   "outputs": [],
   "source": [
    "ncols = len(countries)\n",
    "\n",
    "fig, axes = plt.subplots(nrows=1, ncols=ncols,\n",
    "                         sharex=True, sharey=True,\n",
    "                         figsize=(16, 5))\n",
    "\n",
    "for col, country in enumerate(countries):\n",
    "    ax = axes[col]\n",
    "    (be_fr_igu[('Total energy use, IGU consum', '[TJ]', country)]\n",
    "     .plot(ax=ax))\n",
    "\n",
    "ax.set_xlim(1945, 2020)\n",
    "ax.set_ylim(0, 5000)\n",
    "sns.despine()\n",
    "plt.show()"
   ]
  },
  {
   "cell_type": "code",
   "execution_count": null,
   "metadata": {},
   "outputs": [],
   "source": [
    "ncols = len(countries)\n",
    "\n",
    "fig, axes = plt.subplots(nrows=1, ncols=ncols,\n",
    "                         sharex=True, sharey=True,\n",
    "                         figsize=(16, 5))\n",
    "\n",
    "for col, country in enumerate(countries):\n",
    "    ax = axes[col]\n",
    "    (be_fr_igu[('Total energy use, IGU consum', '[TJ]', country)]\n",
    "     .rolling(5, center=True).mean()\n",
    "     .plot(ax=ax))\n",
    "\n",
    "ax.set_xlim(1945, 2020)\n",
    "ax.set_ylim(0, 5000)\n",
    "sns.despine()\n",
    "plt.show()"
   ]
  },
  {
   "cell_type": "markdown",
   "metadata": {},
   "source": [
    "## CO2 emissions Relating to IGU Consumption in France and Belgium"
   ]
  },
  {
   "cell_type": "code",
   "execution_count": null,
   "metadata": {},
   "outputs": [],
   "source": [
    "# Estimating the CO2 emission related to IGU consumption\n",
    "for country in be_fr_igu[('Estimated consumption', '[kt]')].columns:\n",
    "    be_fr_igu[('CO2, IGU consum', '[ktCO2]', country)] = (\n",
    "        be_fr_igu[('Estimated consumption', '[kt]', country)]\n",
    "        * co2_intensity['co2 interpolated [kg/t]'] / 1000\n",
    "    )"
   ]
  },
  {
   "cell_type": "code",
   "execution_count": null,
   "metadata": {},
   "outputs": [],
   "source": [
    "# Estimating the CO2 emission related to IGU production\n",
    "for country in be_fr_igu[('Production', '[kt]')].columns:\n",
    "    be_fr_igu[('CO2, IGU production', '[ktCO2]', country)] = (\n",
    "        be_fr_igu[('Production', '[kt]', country)]\n",
    "        * co2_intensity['co2 interpolated [kg/t]'] / 1000\n",
    "    )"
   ]
  },
  {
   "cell_type": "code",
   "execution_count": null,
   "metadata": {},
   "outputs": [],
   "source": [
    "co2_igu = ['production', 'consum']"
   ]
  },
  {
   "cell_type": "code",
   "execution_count": null,
   "metadata": {},
   "outputs": [],
   "source": [
    "nrows = len(co2_igu)\n",
    "\n",
    "fig, axes = plt.subplots(nrows=nrows, ncols=ncols,\n",
    "                         sharex=True, sharey=True,\n",
    "                         figsize=(8, 8))\n",
    "\n",
    "for row, co2 in enumerate(co2_igu):\n",
    "    for col, country in enumerate(countries):\n",
    "        ax = axes[row][col]\n",
    "        if row == 0:\n",
    "            ax.set_title(country)\n",
    "        if col == 0:\n",
    "            ax.set_ylabel(co2)\n",
    "        be_fr_igu[(f\"CO2, IGU {co2}\", '[ktCO2]', country)].plot(ax=ax)\n",
    "\n",
    "ax.set_xlim(1950, 2020)\n",
    "\n",
    "sns.despine()\n",
    "plt.show()"
   ]
  },
  {
   "cell_type": "code",
   "execution_count": null,
   "metadata": {},
   "outputs": [],
   "source": [
    "nrows = len(co2_igu)\n",
    "\n",
    "fig, axes = plt.subplots(nrows=nrows, ncols=ncols,\n",
    "                         sharex=True, sharey=True,\n",
    "                         figsize=(8, 8))\n",
    "\n",
    "for row, co2 in enumerate(co2_igu):\n",
    "    for col, country in enumerate(countries):\n",
    "        ax = axes[row][col]\n",
    "        if row == 0:\n",
    "            ax.set_title(country)\n",
    "        if col == 0:\n",
    "            ax.set_ylabel(co2)\n",
    "        (be_fr_igu[(f\"CO2, IGU {co2}\", '[ktCO2]', country)]\n",
    "         .rolling(5, center=True).mean()\n",
    "         .plot(ax=ax))\n",
    "\n",
    "ax.set_xlim(1950, 2020)\n",
    "\n",
    "sns.despine()\n",
    "plt.show()"
   ]
  },
  {
   "cell_type": "markdown",
   "metadata": {},
   "source": [
    "## Summary"
   ]
  },
  {
   "cell_type": "code",
   "execution_count": null,
   "metadata": {},
   "outputs": [],
   "source": [
    "# Raw materials, per type:\n",
    "mat_reduced = ['sand', 'cullet', 'sodium carbonate']\n",
    "\n",
    "nrows = len(mat_reduced)\n",
    "ncols = len(countries)\n",
    "\n",
    "fig, axes = plt.subplots(nrows=nrows, ncols=ncols,\n",
    "                         sharex=True, sharey=True,\n",
    "                         figsize=(10, 8))\n",
    "\n",
    "for row, material in enumerate(mat_reduced):\n",
    "    for col, country in enumerate(countries):\n",
    "        ax = axes[row][col]\n",
    "        if country == 'Belgium':\n",
    "            color = 'sandybrown'\n",
    "            ax.set_title(f\" {material}\", loc='left')\n",
    "        else:\n",
    "            color = 'saddlebrown'\n",
    "\n",
    "        (be_fr_igu[(f\"{material}, IGU consum\", '[kt]', country)]\n",
    "         .interpolate(method=\"linear\", limit_area='inside')\n",
    "         .rolling(5, center=True).mean()\n",
    "         .plot(ax=ax, c=color))\n",
    "\n",
    "        x = be_fr_igu.index\n",
    "        y = (be_fr_igu[(f\"{material}, IGU consum\", '[kt]', country)]\n",
    "             .interpolate(method=\"linear\", limit_area='inside')\n",
    "             .rolling(5, center=True).mean())\n",
    "        ax.fill_between(x, y, color=\"sandybrown\", alpha=0.1)\n",
    "\n",
    "        ax.grid(which='major', axis='y', linestyle=':', linewidth=1)\n",
    "        style_ax(ax)\n",
    "        if row == 0:\n",
    "            ax.set_title(country, y=1.2)\n",
    "\n",
    "ax.set_xlim(1950, 2020)\n",
    "ax.set_ylim(0, 250)\n",
    "plt.xticks(np.arange(1950, 2021, 10))\n",
    "plt.yticks(np.arange(0, 251, 50))\n",
    "\n",
    "fig.suptitle(\"(a) Use of raw materials, per type [kt]\",\n",
    "             x=0.07, y=1, ha='left')\n",
    "fig.subplots_adjust(wspace=0.15, hspace=0.4)\n",
    "\n",
    "sns.despine(offset=5)\n",
    "plt.show()\n",
    "\n",
    "if export:\n",
    "    # Save image:\n",
    "    fig.savefig(os.path.join(path_img, 'Fig6_BEFR_Use of raw materials.png'),\n",
    "                dpi=600, bbox_inches='tight')\n",
    "    fig.savefig(os.path.join(path_img, 'Fig6_BEFR_Use of raw materials.pdf'),\n",
    "                bbox_inches='tight')"
   ]
  },
  {
   "cell_type": "code",
   "execution_count": null,
   "metadata": {},
   "outputs": [],
   "source": [
    "# Raw materials, total:\n",
    "ncols = len(countries)\n",
    "\n",
    "fig, axes = plt.subplots(nrows=1, ncols=ncols,\n",
    "                         sharex=True, sharey=True,\n",
    "                         figsize=(10, 2.1))\n",
    "\n",
    "for col, country in enumerate(countries):\n",
    "    ax = axes[col]\n",
    "    if country == 'Belgium':\n",
    "        color = 'firebrick'\n",
    "    else:\n",
    "        color = 'maroon'\n",
    "\n",
    "    (be_fr_igu[(\"Total raw material use, IGU consum\", '[kt]', country)]\n",
    "     .interpolate(method=\"linear\", limit_area='inside')\n",
    "     .rolling(5, center=True).mean()\n",
    "     .plot(ax=ax, c=color))\n",
    "\n",
    "    x = be_fr_igu.index\n",
    "    y = (be_fr_igu[(\"Total raw material use, IGU consum\", '[kt]', country)]\n",
    "         .interpolate(method=\"linear\", limit_area='inside')\n",
    "         .rolling(5, center=True).mean())\n",
    "    ax.fill_between(x, y, color=\"firebrick\", alpha=0.1)\n",
    "\n",
    "    ax.grid(which='major', axis='y', linestyle=':', linewidth=1)\n",
    "    style_ax(ax)\n",
    "    ax.set_title(country, y=1.05)\n",
    "\n",
    "ax.set_xlim(1950, 2020)\n",
    "plt.xticks(np.arange(1950, 2021, 10))\n",
    "\n",
    "ax.set_ylim(0, 500)\n",
    "plt.yticks(np.arange(0, 501, 100))\n",
    "\n",
    "fig.suptitle(\"(b) Use of raw materials, total [kt]\",\n",
    "             x=0.07, y=1.2, ha='left')\n",
    "fig.subplots_adjust(wspace=0.15, hspace=0.4)\n",
    "\n",
    "sns.despine(offset=5)\n",
    "plt.show()\n",
    "\n",
    "if export:\n",
    "    # Save image:\n",
    "    fig.savefig(os.path.join(path_img, 'Fig6_BEFR_Total raw materials.png'),\n",
    "                dpi=600, bbox_inches='tight')\n",
    "    fig.savefig(os.path.join(path_img, 'Fig6_BEFR_Total raw materials.pdf'),\n",
    "                bbox_inches='tight')"
   ]
  },
  {
   "cell_type": "code",
   "execution_count": null,
   "metadata": {},
   "outputs": [],
   "source": [
    "# Energy use, per type:\n",
    "nrows = len(energies)\n",
    "\n",
    "fig, axes = plt.subplots(nrows=nrows, ncols=ncols,\n",
    "                         sharex=True, sharey=True,\n",
    "                         figsize=(10, 8))\n",
    "\n",
    "for row, energy in enumerate(energies):\n",
    "    for col, country in enumerate(countries):\n",
    "        ax = axes[row][col]\n",
    "        if country == 'Belgium':\n",
    "            color = 'cornflowerblue'\n",
    "            ax.set_title(f\" {energy}\", loc='left')\n",
    "        else:\n",
    "            color = 'darkblue'\n",
    "\n",
    "        (be_fr_igu[(f\"{energy}, IGU consum\", '[TJ]', country)]\n",
    "         .interpolate(method=\"linear\", limit_area='inside')\n",
    "         .rolling(5, center=True).mean()\n",
    "         .plot(ax=ax, c=color)\n",
    "         )\n",
    "\n",
    "        x = be_fr_igu.index\n",
    "        y = (be_fr_igu[(f\"{energy}, IGU consum\", '[TJ]', country)]\n",
    "             .interpolate(method=\"linear\", limit_area='inside')\n",
    "             .rolling(5, center=True).mean())\n",
    "        ax.fill_between(x, y, color=\"steelblue\", alpha=0.1)\n",
    "\n",
    "        # Divide by 1000 the y-axis, results in PJ\n",
    "        ax.yaxis.set_major_formatter(y_1000)\n",
    "\n",
    "        ax.grid(which='major', axis='y', linestyle=':', linewidth=1)\n",
    "        style_ax(ax)\n",
    "        if row == 0:\n",
    "            ax.set_title(country, y=1.2)\n",
    "\n",
    "ax.set_xlim(1950, 2020)\n",
    "ax.set_ylim(0, 3000)\n",
    "\n",
    "plt.xticks(np.arange(1950, 2021, 10))\n",
    "\n",
    "fig.suptitle(\"(a) Use of energy, per type [PJ]\",\n",
    "             x=0.07, y=1, ha='left')\n",
    "fig.subplots_adjust(wspace=0.15, hspace=0.4)\n",
    "\n",
    "sns.despine(offset=5)\n",
    "plt.show()\n",
    "\n",
    "if export:\n",
    "    # Save image:\n",
    "    fig.savefig(os.path.join(path_img, 'Fig7_BEFR_Use of energy.png'),\n",
    "                dpi=600, bbox_inches='tight')\n",
    "    fig.savefig(os.path.join(path_img, 'Fig7_BEFR_Use of energy.pdf'),\n",
    "                bbox_inches='tight')"
   ]
  },
  {
   "cell_type": "code",
   "execution_count": null,
   "metadata": {},
   "outputs": [],
   "source": [
    "# Energy use, total:\n",
    "fig, axes = plt.subplots(nrows=1, ncols=ncols,\n",
    "                         sharex=True, sharey=True,\n",
    "                         figsize=(10, 2.1))\n",
    "\n",
    "for col, country in enumerate(countries):\n",
    "    ax = axes[col]\n",
    "    ax = axes[col]\n",
    "    if country == 'Belgium':\n",
    "        color = 'firebrick'\n",
    "    else:\n",
    "        color = 'maroon'\n",
    "\n",
    "    (be_fr_igu[('Total energy use, IGU consum', '[TJ]', country)]\n",
    "     .interpolate(method=\"linear\", limit_area='inside')\n",
    "     .rolling(5, center=True).mean()\n",
    "     .plot(ax=ax, c=color))\n",
    "\n",
    "    x = be_fr_igu.index\n",
    "    y = (be_fr_igu[('Total energy use, IGU consum', '[TJ]', country)]\n",
    "         .interpolate(method=\"linear\", limit_area='inside')\n",
    "         .rolling(5, center=True).mean())\n",
    "    ax.fill_between(x, y, color=\"firebrick\", alpha=0.1)\n",
    "\n",
    "    # Divide by 1000 the y-axis, results in PJ\n",
    "    ax.yaxis.set_major_formatter(y_1000)\n",
    "\n",
    "    ax.grid(which='major', axis='y', linestyle=':', linewidth=1)\n",
    "    style_ax(ax)\n",
    "    ax.set_title(country, y=1.05)\n",
    "\n",
    "ax.set_xlim(1950, 2020)\n",
    "plt.xticks(np.arange(1950, 2021, 10))\n",
    "\n",
    "ax.set_ylim(0, 5000)\n",
    "plt.yticks(np.arange(0, 5001, 1000))\n",
    "\n",
    "fig.suptitle(\"(b) Use of energy, total [PJ]\",\n",
    "             x=0.07, y=1.2, ha='left')\n",
    "fig.subplots_adjust(wspace=0.15, hspace=0.4)\n",
    "\n",
    "sns.despine(offset=5)\n",
    "plt.show()\n",
    "\n",
    "if export:\n",
    "    # Save image:\n",
    "    fig.savefig(os.path.join(path_img, 'Fig7_BEFR_Total enrgy.png'),\n",
    "                dpi=600, bbox_inches='tight')\n",
    "    fig.savefig(os.path.join(path_img, 'Fig7_BEFR_Total enrgy.pdf'),\n",
    "                bbox_inches='tight')"
   ]
  },
  {
   "cell_type": "code",
   "execution_count": null,
   "metadata": {},
   "outputs": [],
   "source": [
    "# CO2 emissions, total:\n",
    "fig, axes = plt.subplots(nrows=1, ncols=ncols,\n",
    "                         sharex=True, sharey=True,\n",
    "                         figsize=(10, 2.1))\n",
    "\n",
    "for col, country in enumerate(countries):\n",
    "    ax = axes[col]\n",
    "    ax = axes[col]\n",
    "    if country == 'Belgium':\n",
    "        color = 'firebrick'\n",
    "    else:\n",
    "        color = 'maroon'\n",
    "\n",
    "    (be_fr_igu[('CO2, IGU consum', '[ktCO2]', country)]\n",
    "     .interpolate(method=\"linear\", limit_area='inside')\n",
    "     .rolling(5, center=True).mean()\n",
    "     .plot(ax=ax, c=color))\n",
    "\n",
    "    x = be_fr_igu.index\n",
    "    y = (be_fr_igu[('CO2, IGU consum', '[ktCO2]', country)]\n",
    "         .interpolate(method=\"linear\", limit_area='inside')\n",
    "         .rolling(5, center=True).mean())\n",
    "    ax.fill_between(x, y, color=\"firebrick\", alpha=0.1)\n",
    "\n",
    "    ax.grid(which='major', axis='y', linestyle=':', linewidth=1)\n",
    "    style_ax(ax)\n",
    "    ax.set_title(country, y=1.05)\n",
    "\n",
    "ax.set_xlim(1950, 2020)\n",
    "plt.xticks(np.arange(1950, 2021, 10))\n",
    "ax.set_ylim(0, 250)\n",
    "plt.yticks(np.arange(0, 251, 50))\n",
    "\n",
    "fig.suptitle(\"(c) CO2 emissions, total [ktCO2]\",\n",
    "             x=0.07, y=1.2, ha='left')\n",
    "fig.subplots_adjust(wspace=0.15, hspace=0.4)\n",
    "\n",
    "sns.despine(offset=5)\n",
    "plt.show()\n",
    "\n",
    "if export:\n",
    "    # Save image:\n",
    "    fig.savefig(os.path.join(path_img, 'Fig7_BEFR_TotalCO2.png'),\n",
    "                dpi=600, bbox_inches='tight')\n",
    "    fig.savefig(os.path.join(path_img, 'Fig7_BEFR_TotalCO2.pdf'),\n",
    "                bbox_inches='tight')"
   ]
  },
  {
   "cell_type": "markdown",
   "metadata": {},
   "source": [
    "# Relative v. Absolute Decoupling: A Base 100 Analysis"
   ]
  },
  {
   "cell_type": "markdown",
   "metadata": {},
   "source": [
    "## CO2 emissions: Base 100 Analysis"
   ]
  },
  {
   "cell_type": "code",
   "execution_count": null,
   "metadata": {},
   "outputs": [],
   "source": [
    "# Base 100 = 1980\n",
    "igu_prod_diff = (100 * be_fr_igu['Production [kt]']\n",
    "                / be_fr_igu['Production [kt]'].loc[1980]\n",
    "                )\n",
    "\n",
    "co2intensity_diff = 100 * co2_intensity / co2_intensity.loc[1980]\n",
    "\n",
    "co2_abs_igudiff = (100 * be_fr_igu['CO2, IGU production [ktCO2]']\n",
    "                  / be_fr_igu['CO2, IGU production [ktCO2]'].loc[1980]\n",
    "                  )\n",
    "\n",
    "# Plotting production, carbon intensity, CO2 absolute emissions for France\n",
    "fig, ax = plt.subplots(figsize=(8, 5))\n",
    "sns.lineplot(data=igu_prod_diff,\n",
    "             x=igu_prod_diff.index,\n",
    "             y='France',\n",
    "             ax=ax)\n",
    "\n",
    "ax.plot(co2intensity_diff.index,\n",
    "        co2intensity_diff['co2 interpolated [kg/t]'])\n",
    "ax.plot(co2_abs_igudiff.index,\n",
    "        co2_abs_igudiff['France'])\n",
    "\n",
    "ax.plot([1980, 2015], [100, 100], '--')\n",
    "\n",
    "ax.set_xlim(1980, 2015)\n",
    "ax.set_ylim(ymin=0)\n",
    "sns.despine()\n",
    "plt.show()"
   ]
  },
  {
   "cell_type": "code",
   "execution_count": null,
   "metadata": {},
   "outputs": [],
   "source": [
    "# Base 100 = 1980\n",
    "igu_prod_diff = (100 * be_fr_igu['Production [kt]']\n",
    "                .rolling(5, center=True).mean()\n",
    "                / be_fr_igu['Production [kt]']\n",
    "                .rolling(5, center=True).mean()\n",
    "                .loc[1980]\n",
    "                )\n",
    "\n",
    "co2intensity_diff = 100 * co2_intensity / co2_intensity.loc[1980]\n",
    "\n",
    "co2_abs_igudiff = (100 * be_fr_igu['CO2, IGU production [ktCO2]']\n",
    "                  .rolling(5, center=True).mean()\n",
    "                  / be_fr_igu['CO2, IGU production [ktCO2]']\n",
    "                  .rolling(5, center=True).mean()\n",
    "                  .loc[1980]\n",
    "                  )\n",
    "\n",
    "# Plotting production, carbon intensity, CO2 absolute emissions for France\n",
    "fig, ax = plt.subplots(figsize=(8, 5))\n",
    "sns.lineplot(data=igu_prod_diff,\n",
    "             x=igu_prod_diff.index,\n",
    "             y='France',\n",
    "             ax=ax)\n",
    "\n",
    "ax.plot(co2intensity_diff.index,\n",
    "        co2intensity_diff['co2 interpolated [kg/t]'])\n",
    "ax.plot(co2_abs_igudiff.index,\n",
    "        co2_abs_igudiff['France'])\n",
    "\n",
    "ax.plot([1980, 2015], [100, 100], '--')\n",
    "\n",
    "ax.set_xlim(1980, 2015)\n",
    "ax.set_ylim(ymin=0)\n",
    "sns.despine()\n",
    "plt.show()"
   ]
  },
  {
   "cell_type": "markdown",
   "metadata": {},
   "source": [
    "## Summary"
   ]
  },
  {
   "cell_type": "code",
   "execution_count": null,
   "metadata": {},
   "outputs": [],
   "source": []
  },
  {
   "cell_type": "code",
   "execution_count": null,
   "metadata": {},
   "outputs": [],
   "source": []
  },
  {
   "cell_type": "code",
   "execution_count": null,
   "metadata": {},
   "outputs": [],
   "source": []
  },
  {
   "cell_type": "markdown",
   "metadata": {},
   "source": [
    "# Dynamic Stock Modelling"
   ]
  },
  {
   "cell_type": "markdown",
   "metadata": {},
   "source": [
    "Pauliuk and Heeren, + github and notebook"
   ]
  },
  {
   "cell_type": "markdown",
   "metadata": {},
   "source": [
    "## Define System"
   ]
  },
  {
   "cell_type": "code",
   "execution_count": null,
   "metadata": {},
   "outputs": [],
   "source": [
    "# Create dictionary of model classifications\n",
    "ModelClassification = {}\n",
    "\n",
    "# Retrospective MFA from 1945 to 2020\n",
    "MyYears = list(np.arange(1945, 2020))"
   ]
  },
  {
   "cell_type": "code",
   "execution_count": null,
   "metadata": {},
   "outputs": [],
   "source": [
    "# Classification for time labelled 'Time' must always be present,\n",
    "# with Items containing a list of odered integers representing years, months,\n",
    "# or other discrete time intervals\n",
    "ModelClassification['Time'] = msc.Classification(Name='Time',\n",
    "                                                 Dimension='Time',\n",
    "                                                 ID=1, Items=MyYears)"
   ]
  },
  {
   "cell_type": "code",
   "execution_count": null,
   "metadata": {},
   "outputs": [],
   "source": [
    "# Classification for cohort is used to track age-cohorts in the stock.\n",
    "ModelClassification['Cohort'] = msc.Classification(Name='Age-cohort',\n",
    "                                                   Dimension='Time',\n",
    "                                                   ID=1, Items=MyYears)"
   ]
  },
  {
   "cell_type": "code",
   "execution_count": null,
   "metadata": {},
   "outputs": [],
   "source": [
    "# Classification for elements labelled 'Element',\n",
    "# with Items containing a list of the symbols of the elements covered.\n",
    "ModelClassification['Element'] = msc.Classification(Name='Elements',\n",
    "                                                    Dimension='Element',\n",
    "                                                    ID=2, Items=['IGU'])"
   ]
  },
  {
   "cell_type": "code",
   "execution_count": null,
   "metadata": {},
   "outputs": [],
   "source": [
    "# Classification for regions including Belgium and France.\n",
    "MyRegions = countries + ['Europe']\n",
    "\n",
    "ModelClassification['Region'] = msc.Classification(Name='Regions',\n",
    "                                                   Dimension='Region',\n",
    "                                                   ID=3, Items=MyRegions)"
   ]
  },
  {
   "cell_type": "code",
   "execution_count": null,
   "metadata": {},
   "outputs": [],
   "source": [
    "# Get model time start, end, and duration:\n",
    "Model_Time_Start = int(min(ModelClassification['Time'].Items))\n",
    "Model_Time_End = int(max(ModelClassification['Time'].Items))\n",
    "Model_Duration = Model_Time_End - Model_Time_Start"
   ]
  },
  {
   "cell_type": "code",
   "execution_count": null,
   "metadata": {},
   "outputs": [],
   "source": [
    "# The indext table lists all aspects needed\n",
    "# and assigns a classification and index letter to each aspect.\n",
    "IndexTable = (\n",
    "    pd.DataFrame({'Aspect': ['Time', 'Age-cohort',\n",
    "                             'Element', 'Region'],\n",
    "                  'Description': ['Model aspect \"time\"',\n",
    "                                  'Model aspect \"age-cohort\"',\n",
    "                                  'Model aspect \"Element\"',\n",
    "                                  'Model aspect \"Region where flow is\"'],\n",
    "                  'Dimension': ['Time', 'Time', 'Element', 'Region'],\n",
    "                  'Classification': ([ModelClassification[Aspect]\n",
    "                                      for Aspect in ['Time',\n",
    "                                                     'Cohort',\n",
    "                                                     'Element',\n",
    "                                                     'Region']]\n",
    "                                     ),\n",
    "                  'IndexLetter': ['t', 'c', 'e', 'r']}\n",
    "                 )\n",
    ")\n",
    "\n",
    "# Default indexing of IndexTable:\n",
    "IndexTable.set_index('Aspect', inplace=True)\n",
    "\n",
    "IndexTable"
   ]
  },
  {
   "cell_type": "code",
   "execution_count": null,
   "metadata": {},
   "outputs": [],
   "source": [
    "Dyn_MFA_System = msc.MFAsystem(Name='StockAccumulationSystem',\n",
    "                               Geogr_Scope='3SelectedRegions',\n",
    "                               Unit='10^6 m²',\n",
    "                               ProcessList=[],\n",
    "                               FlowDict={},\n",
    "                               StockDict={},\n",
    "                               ParameterDict={},\n",
    "                               Time_Start=Model_Time_Start,\n",
    "                               Time_End=Model_Time_End,\n",
    "                               IndexTable=IndexTable,\n",
    "                               # Initialize MFA system:\n",
    "                               Elements=(IndexTable.loc['Element']\n",
    "                                         .Classification.Items)\n",
    "                               )"
   ]
  },
  {
   "cell_type": "markdown",
   "metadata": {},
   "source": [
    "## Creating a DataFrame gathering EU, BE and FR IGU consumption flows"
   ]
  },
  {
   "cell_type": "code",
   "execution_count": null,
   "metadata": {},
   "outputs": [],
   "source": [
    "igu_use = (pd.DataFrame({'Year': list(np.arange(1945, 2021))})\n",
    "           .set_index('Year'))"
   ]
  },
  {
   "cell_type": "code",
   "execution_count": null,
   "metadata": {},
   "outputs": [],
   "source": [
    "units = ['kt', '10^6 m²']"
   ]
  },
  {
   "cell_type": "code",
   "execution_count": null,
   "metadata": {},
   "outputs": [],
   "source": [
    "# Create a unique DataFrame for EU, FR and BE IGU consumption flows:\n",
    "for unit in units:\n",
    "    igu_use[f'EU [{unit}]'] = (eu_igu.interpolate().reset_index()\n",
    "                               .drop_duplicates(subset=['year'],\n",
    "                                                keep='last')\n",
    "                               .set_index(['year'])[f'Consumption [{unit}]'])\n",
    "    for i in igu_use.index:\n",
    "        if (i != 2020 and igu_use[f'EU [{unit}]'].isna().loc[i]):\n",
    "            igu_use[f'EU [{unit}]'].loc[i] = (eu_igu.interpolate().reset_index()\n",
    "                                              .drop_duplicates(subset=['year'],\n",
    "                                                               keep='last')\n",
    "                                              .set_index(['year'])[f'Production [{unit}]']\n",
    "                                              .loc[i])"
   ]
  },
  {
   "cell_type": "code",
   "execution_count": null,
   "metadata": {},
   "outputs": [],
   "source": [
    "igu_use = pd.concat([igu_use['EU [kt]'], igu_use['EU [10^6 m²]']],\n",
    "                    axis=1, keys=[('Europe', '[kt]'),\n",
    "                                  ('Europe', '[10^6 m²]')],\n",
    "                    names=['Region', 'Unit']).stack()\n",
    "\n",
    "igu_use = igu_use.unstack()"
   ]
  },
  {
   "cell_type": "markdown",
   "metadata": {},
   "source": [
    "## Formatting Data"
   ]
  },
  {
   "cell_type": "code",
   "execution_count": null,
   "metadata": {},
   "outputs": [],
   "source": [
    "LifetimeFile = xlrd.open_workbook(\n",
    "    os.path.join(ROOT_DIR, 'IGU_Lifetime_EU_BE_FR.xlsx'))\n",
    "\n",
    "Datasheet = LifetimeFile.sheet_by_name('Average_Lifetime')\n",
    "\n",
    "Lifetimes = []\n",
    "\n",
    "# Add lifetime values to list\n",
    "for m in range(1, 4):\n",
    "    Lifetimes.append(Datasheet.cell_value(m, 1))\n",
    "print(Lifetimes)"
   ]
  },
  {
   "cell_type": "code",
   "execution_count": null,
   "metadata": {},
   "outputs": [],
   "source": [
    "InflowFile = xlrd.open_workbook(os.path.join(\n",
    "    DataPath, 'Steel_Consumption_Final_9Countries.xlsx'))\n",
    "Datasheet = InflowFile.sheet_by_name('FinalSteelConsumption')\n",
    "\n",
    "# OriginRegion x DestinationRegion x Year\n",
    "InflowArray = np.zeros((len(MyRegions), len(MyYears)))\n",
    "print(InflowArray.shape)\n",
    "\n",
    "OriginCountryPosition = len(MyRegions)\n",
    "YearPosition = len(MyYears)\n",
    "\n",
    "for m in range(1, 982):\n",
    "    InflowArray[0, YearPosition] = Datasheet.cell_value(m, 13)"
   ]
  },
  {
   "cell_type": "code",
   "execution_count": null,
   "metadata": {},
   "outputs": [],
   "source": []
  },
  {
   "cell_type": "code",
   "execution_count": null,
   "metadata": {},
   "outputs": [],
   "source": []
  },
  {
   "cell_type": "code",
   "execution_count": null,
   "metadata": {},
   "outputs": [],
   "source": []
  },
  {
   "cell_type": "code",
   "execution_count": null,
   "metadata": {},
   "outputs": [],
   "source": []
  },
  {
   "cell_type": "code",
   "execution_count": null,
   "metadata": {},
   "outputs": [],
   "source": []
  }
 ],
 "metadata": {
  "kernelspec": {
   "display_name": "Python 3",
   "language": "python",
   "name": "python3"
  },
  "language_info": {
   "codemirror_mode": {
    "name": "ipython",
    "version": 3
   },
   "file_extension": ".py",
   "mimetype": "text/x-python",
   "name": "python",
   "nbconvert_exporter": "python",
   "pygments_lexer": "ipython3",
   "version": "3.6.10"
  },
  "toc": {
   "base_numbering": 1,
   "nav_menu": {},
   "number_sections": true,
   "sideBar": true,
   "skip_h1_title": false,
   "title_cell": "Table of Contents",
   "title_sidebar": "Contents",
   "toc_cell": false,
   "toc_position": {
    "height": "calc(100% - 180px)",
    "left": "10px",
    "top": "150px",
    "width": "165px"
   },
   "toc_section_display": true,
   "toc_window_display": true
  },
  "varInspector": {
   "cols": {
    "lenName": 16,
    "lenType": 16,
    "lenVar": 40
   },
   "kernels_config": {
    "python": {
     "delete_cmd_postfix": "",
     "delete_cmd_prefix": "del ",
     "library": "var_list.py",
     "varRefreshCmd": "print(var_dic_list())"
    },
    "r": {
     "delete_cmd_postfix": ") ",
     "delete_cmd_prefix": "rm(",
     "library": "var_list.r",
     "varRefreshCmd": "cat(var_dic_list()) "
    }
   },
   "position": {
    "height": "632.85px",
    "left": "482px",
    "right": "20px",
    "top": "253px",
    "width": "463px"
   },
   "types_to_exclude": [
    "module",
    "function",
    "builtin_function_or_method",
    "instance",
    "_Feature"
   ],
   "window_display": false
  }
 },
 "nbformat": 4,
 "nbformat_minor": 4
}
