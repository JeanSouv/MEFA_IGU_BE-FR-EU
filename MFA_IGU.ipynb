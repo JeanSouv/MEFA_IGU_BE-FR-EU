{
 "cells": [
  {
   "cell_type": "code",
   "execution_count": null,
   "metadata": {},
   "outputs": [],
   "source": [
    "import os\n",
    "import re\n",
    "import sys\n",
    "\n",
    "import pathlib\n",
    "from pathlib import Path\n",
    "\n",
    "import sqlite3\n",
    "\n",
    "import pandas as pd\n",
    "import numpy as np\n",
    "\n",
    "from scipy import stats\n",
    "\n",
    "import math\n",
    "\n",
    "import matplotlib as mpl\n",
    "import matplotlib.pyplot as plt\n",
    "\n",
    "import seaborn as sns\n",
    "\n",
    "import pickle\n",
    "import xlrd\n",
    "import pylab"
   ]
  },
  {
   "cell_type": "code",
   "execution_count": null,
   "metadata": {},
   "outputs": [],
   "source": [
    "# Helper (support)\n",
    "from support import input_helper"
   ]
  },
  {
   "cell_type": "code",
   "execution_count": null,
   "metadata": {},
   "outputs": [],
   "source": [
    "# Directory with IGU datasets:\n",
    "ROOT_DIR = \"RawData\"\n",
    "\n",
    "# Specify path to dynamic stock model and to datafile, relative\n",
    "MainPath = os.path.join('odym', 'modules')\n",
    "DataPath = os.path.join('docs', 'files')\n",
    "sys.path.insert(0, MainPath)  # add ODYM module directory to system path\n",
    "\n",
    "# add ODYM module directory to system path, absolute\n",
    "sys.path.insert(0, os.path.join(os.getcwd(), 'odym', 'modules'))\n",
    "sys.path.insert(0, os.path.join(os.getcwd(), 'docs', 'files'))\n",
    "\n",
    "# Define path to save figures:\n",
    "path_img = (\n",
    "    r'C:\\Users\\souvi\\Documents\\These\\90_Presentations & Writting\\50_Papers\\2021_12_MEFA of IGU\\IMG'\n",
    ")"
   ]
  },
  {
   "cell_type": "code",
   "execution_count": null,
   "metadata": {},
   "outputs": [],
   "source": [
    "import ODYM_Classes as msc  # import the ODYM class file\n",
    "import ODYM_Functions as msf  # import the ODYM function file\n",
    "import dynamic_stock_model as dsm  # import the dynamic stock model library"
   ]
  },
  {
   "cell_type": "code",
   "execution_count": null,
   "metadata": {},
   "outputs": [],
   "source": [
    "# Define size of figure:\n",
    "mpl.rcParams['figure.figsize'] = (16, 10)"
   ]
  },
  {
   "cell_type": "code",
   "execution_count": null,
   "metadata": {},
   "outputs": [],
   "source": [
    "# Define seaborn main parameters:\n",
    "sns.set_style(\"ticks\")\n",
    "sns.color_palette(\"colorblind\")\n",
    "sns.set_context(\"paper\", font_scale=1.5,\n",
    "                rc={\"axes.titlesize\": 15, \"lines.linewidth\": 1.2,\n",
    "                    \"legend.fontsize\": 10, \"legend.title_fontsize\": 10})"
   ]
  },
  {
   "cell_type": "code",
   "execution_count": null,
   "metadata": {},
   "outputs": [],
   "source": [
    "pd.set_option('precision', 2)"
   ]
  },
  {
   "cell_type": "code",
   "execution_count": null,
   "metadata": {},
   "outputs": [],
   "source": [
    "# A custom formatter function which divide by 1000 an axis:\n",
    "def yfmt1000(x, pos): \n",
    "    s = f'{x/1000:,.0f}'\n",
    "    return s\n",
    "\n",
    "# W/ classes for tick-locating and -formatting:\n",
    "import matplotlib.ticker as tkr\n",
    "\n",
    "# A formatter function:\n",
    "y_1000 = tkr.FuncFormatter(yfmt1000)\n",
    "\n",
    "# To divide the y-axis by 1000 when needed:\n",
    "# ax.yaxis.set_major_formatter(y_1000)"
   ]
  },
  {
   "cell_type": "code",
   "execution_count": null,
   "metadata": {},
   "outputs": [],
   "source": [
    "# A function used to define the thickness of x and y axis:\n",
    "def style_ax(ax):\n",
    "    for axis in ['top', 'bottom', 'left', 'right']:\n",
    "        ax.spines[axis].set_linewidth(0.5)\n",
    "        ax.tick_params(width=0.5)\n",
    "        ax.set_xlabel(None)\n",
    "    return ax"
   ]
  },
  {
   "cell_type": "code",
   "execution_count": null,
   "metadata": {},
   "outputs": [],
   "source": [
    "# A keyword to export figures, or not:\n",
    "export = False"
   ]
  },
  {
   "cell_type": "markdown",
   "metadata": {},
   "source": [
    "# Upload Datasets"
   ]
  },
  {
   "cell_type": "code",
   "execution_count": null,
   "metadata": {},
   "outputs": [],
   "source": [
    "BE_data = input_helper.get_data(\n",
    "    'BE_IGU_RawData_VPython.xlsx', directory=ROOT_DIR)\n",
    "FR_data = input_helper.get_data(\n",
    "    'FR_IGU_RawData_VPython.xlsx', directory=ROOT_DIR)\n",
    "EU_data = input_helper.get_data(\n",
    "    'EU_IGU_RawData_VPython.xlsx', directory=ROOT_DIR)"
   ]
  },
  {
   "cell_type": "code",
   "execution_count": null,
   "metadata": {},
   "outputs": [],
   "source": [
    "print(\"BE_data, sheet names = \\n {}\\n\".format(BE_data.sheet_names))\n",
    "print(\"FR_data, sheet names = \\n {}\\n\".format(FR_data.sheet_names))\n",
    "print(\"EU_data, sheet names = \\n {}\\n\".format(EU_data.sheet_names))"
   ]
  },
  {
   "cell_type": "markdown",
   "metadata": {},
   "source": [
    "# Material, Energy and Carbon Intensity in the Flat Glass Industry"
   ]
  },
  {
   "cell_type": "markdown",
   "metadata": {},
   "source": [
    "See: Souviron and Khan. (Forthcoming). \"The Materiality of Transparency: An Environmental Analysis of the Architectural Flat Glass Industry since 1945 in Europe, France and Belgium\". Resources, Conservation and Recycling."
   ]
  },
  {
   "cell_type": "markdown",
   "metadata": {},
   "source": [
    "## Material intensity since 1945"
   ]
  },
  {
   "cell_type": "code",
   "execution_count": null,
   "metadata": {},
   "outputs": [],
   "source": [
    "# Create a DataFrame for material intensity:\n",
    "MatIntensity = FR_data.parse('RawMat_Intensity').set_index('year')\n",
    "\n",
    "MatIntensity['cullet, kg/kg'] = (MatIntensity['internal cullet, kg/kg']\n",
    "                                 + MatIntensity['external cullet, kg/kg'])"
   ]
  },
  {
   "cell_type": "code",
   "execution_count": null,
   "metadata": {},
   "outputs": [],
   "source": [
    "# List of raw materials:\n",
    "materials = ['sand', 'cullet', 'sodium carbonate',\n",
    "             'limestone', 'dolomite', 'feldspar']"
   ]
  },
  {
   "cell_type": "code",
   "execution_count": null,
   "metadata": {},
   "outputs": [],
   "source": [
    "# Plot raw materials intensity since 1945:\n",
    "fig, axes = plt.subplots(nrows=2, ncols=3,\n",
    "                         sharex=True, sharey=True,\n",
    "                         figsize=(16, 5))\n",
    "\n",
    "for i, (ax, mat) in enumerate(zip(axes.flatten(), materials)):\n",
    "    ax.set_title(mat)\n",
    "    (MatIntensity[f\"{mat}, kg/kg\"]\n",
    "     .interpolate(method='pchip', limit_direction='forward')\n",
    "     .plot(ax=ax)\n",
    "     )\n",
    "\n",
    "ax.set_xlim(1950, 2020)\n",
    "ax.set_ylim(0, 1)\n",
    "\n",
    "fig.suptitle(\"Material intensity, per raw material [kg/kg]\", y=1.05)\n",
    "fig.subplots_adjust(hspace=0.4)\n",
    "\n",
    "sns.despine(offset=5)\n",
    "plt.show()"
   ]
  },
  {
   "cell_type": "code",
   "execution_count": null,
   "metadata": {},
   "outputs": [],
   "source": [
    "fig, axes = plt.subplots(nrows=2, ncols=3,\n",
    "                         sharex=True, sharey=True,\n",
    "                         figsize=(16, 5))\n",
    "\n",
    "for i, (ax, mat) in enumerate(zip(axes.flatten(), materials)):\n",
    "    ax.set_title(mat)\n",
    "    (MatIntensity[f\"{mat}, kg/kg\"]\n",
    "     .interpolate(method='pchip', limit_direction='forward')\n",
    "     .rolling(5, center=True).mean()\n",
    "     .plot(ax=ax))\n",
    "\n",
    "ax.set_xlim(1950, 2020)\n",
    "ax.set_ylim(0, 1)\n",
    "\n",
    "fig.suptitle(\"Material intensity, per raw material, 5-y rolled [kg/kg]\", \n",
    "             y=1.05)\n",
    "fig.subplots_adjust(hspace=0.4)\n",
    "\n",
    "sns.despine(offset=5)\n",
    "plt.show()"
   ]
  },
  {
   "cell_type": "code",
   "execution_count": null,
   "metadata": {},
   "outputs": [],
   "source": [
    "# Estimate the material intensity (sum of the intenisities per material):\n",
    "MatIntensity['Total raw materials, kg/kg'] = 0\n",
    "\n",
    "for mat in materials:\n",
    "    MatIntensity['Total raw materials, kg/kg'] = (\n",
    "        MatIntensity[f\"{mat}, kg/kg\"]\n",
    "        + MatIntensity['Total raw materials, kg/kg']\n",
    "    )"
   ]
  },
  {
   "cell_type": "code",
   "execution_count": null,
   "metadata": {},
   "outputs": [],
   "source": [
    "# Plot the material intensity:\n",
    "fig, ax = plt.subplots(figsize=(8, 5))\n",
    "\n",
    "sns.lineplot(data=MatIntensity,\n",
    "             x=MatIntensity.index,\n",
    "             y=(MatIntensity['Total raw materials, kg/kg']\n",
    "                .interpolate(method='pchip', limit_direction='forward')),\n",
    "             ax=ax)\n",
    "\n",
    "ax.set_xlim(1940, 2020)\n",
    "ax.set_ylim(0, 2)\n",
    "\n",
    "fig.suptitle(\"Total intensity of raw materials [kg/kg]\")\n",
    "\n",
    "sns.despine(offset=5)\n",
    "plt.show()"
   ]
  },
  {
   "cell_type": "code",
   "execution_count": null,
   "metadata": {},
   "outputs": [],
   "source": [
    "# Plot a 5-y rolled material intensity:\n",
    "fig, ax = plt.subplots(figsize=(8, 5))\n",
    "\n",
    "sns.lineplot(data=MatIntensity,\n",
    "             x=MatIntensity.index,\n",
    "             y=(MatIntensity['Total raw materials, kg/kg']\n",
    "                .interpolate(method='pchip', limit_direction='forward')\n",
    "                 .rolling(5, center=True).mean()),\n",
    "             ax=ax)\n",
    "\n",
    "ax.set_xlim(1940, 2020)\n",
    "ax.set_ylim(0, 2)\n",
    "\n",
    "fig.suptitle(\"Total intensity of raw materials, 5-y. rolled [kg/kg]\")\n",
    "\n",
    "sns.despine(offset=5)\n",
    "plt.show()"
   ]
  },
  {
   "cell_type": "code",
   "execution_count": null,
   "metadata": {},
   "outputs": [],
   "source": [
    "matwocullet = ['sand', 'sodium carbonate', 'limestone',\n",
    "               'dolomite', 'feldspar']"
   ]
  },
  {
   "cell_type": "code",
   "execution_count": null,
   "metadata": {},
   "outputs": [],
   "source": [
    "# Estimate the material intensity without cullet:\n",
    "MatIntensity['Total raw mat w/o cullet, kg/kg'] = 0\n",
    "\n",
    "for mat in matwocullet:\n",
    "    MatIntensity['Total raw mat w/o cullet, kg/kg'] = (\n",
    "        MatIntensity[f\"{mat}, kg/kg\"]\n",
    "        + MatIntensity['Total raw mat w/o cullet, kg/kg']\n",
    "    )"
   ]
  },
  {
   "cell_type": "code",
   "execution_count": null,
   "metadata": {},
   "outputs": [],
   "source": [
    "# Plot a 5-y rolled material intensity:\n",
    "fig, ax = plt.subplots(figsize=(8, 5))\n",
    "\n",
    "sns.lineplot(data=MatIntensity,\n",
    "             x=MatIntensity.index,\n",
    "             y=(MatIntensity['Total raw mat w/o cullet, kg/kg']\n",
    "                .interpolate(method='pchip', limit_direction='forward')\n",
    "                 .rolling(5, center=True).mean()),\n",
    "             ax=ax, linestyle='--')\n",
    "\n",
    "sns.lineplot(data=MatIntensity,\n",
    "             x=MatIntensity.index,\n",
    "             y=(MatIntensity['Total raw materials, kg/kg']\n",
    "                .interpolate(method='pchip', limit_direction='forward')\n",
    "                 .rolling(5, center=True).mean()),\n",
    "             ax=ax)\n",
    "\n",
    "ax.set_xlim(1940, 2020)\n",
    "ax.set_ylim(0, 2)\n",
    "\n",
    "fig.suptitle(\"Total intensity of raw mat. w/o cullet, 5-y. rolled [kg/kg]\")\n",
    "\n",
    "sns.despine(offset=5)\n",
    "plt.show()"
   ]
  },
  {
   "cell_type": "markdown",
   "metadata": {},
   "source": [
    "## Energy Intensity since 1945"
   ]
  },
  {
   "cell_type": "code",
   "execution_count": null,
   "metadata": {},
   "outputs": [],
   "source": [
    "# Create a DataFrame for energy intensity:\n",
    "EnergyIntensity = FR_data.parse('Energy_Intensity').set_index('year')"
   ]
  },
  {
   "cell_type": "code",
   "execution_count": null,
   "metadata": {},
   "outputs": [],
   "source": [
    "energies = ['fuel oil', 'natural gas', 'electricity']"
   ]
  },
  {
   "cell_type": "code",
   "execution_count": null,
   "metadata": {},
   "outputs": [],
   "source": [
    "# Plot the intensity per type of energy:\n",
    "fig, axes = plt.subplots(nrows=1, ncols=3,\n",
    "                         sharex=True, sharey=True,\n",
    "                         figsize=(16, 4))\n",
    "\n",
    "for i, (ax, energy) in enumerate(zip(axes.flatten(), energies)):\n",
    "    ax.set_title(energy)\n",
    "    (EnergyIntensity[f\"{energy}, GJ/t\"] # Interpolate:\n",
    "     .interpolate(method='pchip', limit_direction='forward')\n",
    "     .plot(ax=ax))\n",
    "\n",
    "ax.set_xlim(1950, 2010)\n",
    "ax.set_ylim(ymin=0)\n",
    "\n",
    "fig.suptitle(\"Intensity per type of energy [GJ/t]\", y=1.05)\n",
    "\n",
    "sns.despine(offset=5)\n",
    "plt.show()"
   ]
  },
  {
   "cell_type": "code",
   "execution_count": null,
   "metadata": {},
   "outputs": [],
   "source": [
    "# Estimate the energy intensity (sum of the intensities per type of energy):\n",
    "EnergyIntensity['Total energy, GJ/t'] = 0\n",
    "\n",
    "for energy in energies:\n",
    "    EnergyIntensity['Total energy, GJ/t'] = (\n",
    "        EnergyIntensity['Total energy, GJ/t']\n",
    "        + EnergyIntensity[f\"{energy}, GJ/t\"]\n",
    "    )"
   ]
  },
  {
   "cell_type": "code",
   "execution_count": null,
   "metadata": {},
   "outputs": [],
   "source": [
    "fossilfuels = ['fuel oil', 'natural gas']"
   ]
  },
  {
   "cell_type": "code",
   "execution_count": null,
   "metadata": {},
   "outputs": [],
   "source": [
    "# Estimate the energy intensity (sum of the intensities per type of energy):\n",
    "EnergyIntensity['Total energy w/o elec., GJ/t'] = 0\n",
    "\n",
    "for energy in fossilfuels:\n",
    "    EnergyIntensity['Total energy w/o elec., GJ/t'] = (\n",
    "        EnergyIntensity['Total energy w/o elec., GJ/t']\n",
    "        + EnergyIntensity[f\"{energy}, GJ/t\"]\n",
    "    )"
   ]
  },
  {
   "cell_type": "code",
   "execution_count": null,
   "metadata": {},
   "outputs": [],
   "source": [
    "# Plot the total energy intensity:\n",
    "fig, ax = plt.subplots(figsize=(8, 5))\n",
    "\n",
    "sns.lineplot(data=EnergyIntensity,\n",
    "             x=EnergyIntensity.index,\n",
    "             y=(EnergyIntensity['Total energy, GJ/t']\n",
    "                .interpolate(method='pchip', limit_direction='forward')),\n",
    "             ax=ax, linestyle='--')\n",
    "\n",
    "sns.lineplot(data=EnergyIntensity,\n",
    "             x=EnergyIntensity.index,\n",
    "             y=(EnergyIntensity['Total energy w/o elec., GJ/t']\n",
    "                .interpolate(method='pchip', limit_direction='forward')),\n",
    "             ax=ax)\n",
    "\n",
    "ax.set_xlim(1950, 2010)\n",
    "ax.set_ylim(0, 40)\n",
    "\n",
    "fig.suptitle(\"Total energy intensity, fossil fuels only [GJ/t]\")\n",
    "\n",
    "sns.despine(offset=5)\n",
    "plt.show()"
   ]
  },
  {
   "cell_type": "markdown",
   "metadata": {},
   "source": [
    "##  Carbon Intensity of the Flat Glass Production Process"
   ]
  },
  {
   "cell_type": "code",
   "execution_count": null,
   "metadata": {},
   "outputs": [],
   "source": [
    "# Create a DataFrame only with the CO2 emission data:\n",
    "Emissions = FR_data.parse('emissions').set_index('year')\n",
    "\n",
    "CO2_Intensity = Emissions[['CO2 glass ind, kg/t']].copy()\n",
    "CO2_Intensity.rename(columns={'CO2 glass ind, kg/t': 'CO2 [kg/t]'},\n",
    "                     inplace=True)\n",
    "\n",
    "CO2_Intensity.dropna()"
   ]
  },
  {
   "cell_type": "code",
   "execution_count": null,
   "metadata": {},
   "outputs": [],
   "source": [
    "# Interpolate CO2 intensity accoring to a pchip method:\n",
    "CO2_Intensity['CO2 interpolated [kg/t]'] = (\n",
    "    CO2_Intensity['CO2 [kg/t]'].interpolate('pchip')\n",
    ")"
   ]
  },
  {
   "cell_type": "code",
   "execution_count": null,
   "metadata": {},
   "outputs": [],
   "source": [
    "fig, ax = plt.subplots(figsize=(8, 5))\n",
    "\n",
    "sns.lineplot(data=CO2_Intensity, palette=\"GnBu\")\n",
    "\n",
    "ax.scatter(x=CO2_Intensity.index, y=CO2_Intensity['CO2 [kg/t]'],\n",
    "           s=20)\n",
    "\n",
    "ax.set_xlim(1945, 2020)\n",
    "ax.set_ylim(ymin=0)\n",
    "fig.suptitle(\"CO2 intensity of the French flat glass industry [kgCO2/t]\")\n",
    "sns.despine(offset=5)\n",
    "plt.show()"
   ]
  },
  {
   "cell_type": "markdown",
   "metadata": {},
   "source": [
    "## Summary"
   ]
  },
  {
   "cell_type": "code",
   "execution_count": null,
   "metadata": {},
   "outputs": [],
   "source": [
    "# Plot the material instensity per raw material:\n",
    "fig, axes = plt.subplots(nrows=2, ncols=3,\n",
    "                         sharex=True, sharey=True,\n",
    "                         figsize=(16, 5))\n",
    "\n",
    "for i, (ax, mat) in enumerate(zip(axes.flatten(), materials)):\n",
    "    (MatIntensity[f\"{mat}, kg/kg\"]\n",
    "     .interpolate(method='pchip', limit_direction='forward')\n",
    "     .rolling(5, center=True).mean()\n",
    "     .plot(ax=ax, c='sandybrown', linewidth=2))\n",
    "    \n",
    "    ax.scatter(x=MatIntensity.index, y=MatIntensity[f\"{mat}, kg/kg\"],\n",
    "               s=40, marker='x', c='grey')\n",
    "    plt.xticks(np.arange(1950, 2021, 10), rotation=45)\n",
    "\n",
    "    ax.set_title(f\" {mat}\", loc='left')\n",
    "    ax.grid(which='major', axis='y', linestyle=':', linewidth=1)\n",
    "    style_ax(ax)\n",
    "\n",
    "ax.set_xlim(1950, 2020)\n",
    "ax.set_ylim(0, 1)\n",
    "\n",
    "ax.minorticks_off()\n",
    "plt.xticks(np.arange(1950, 2021, 10))\n",
    "\n",
    "fig.suptitle(\"(a) Intensity per raw material [t/t]\", x=0.1, y=1, ha='left')\n",
    "fig.subplots_adjust(wspace=0.2, hspace=0.4)\n",
    "\n",
    "sns.despine(offset=5)\n",
    "\n",
    "if export:\n",
    "    # Save image:\n",
    "    fig.savefig(os.path.join(path_img, 'Fig4_Mat Intensity.png'),\n",
    "                dpi=600, bbox_inches='tight')\n",
    "    fig.savefig(os.path.join(path_img, 'Fig4_Mat Intensity.pdf'),\n",
    "                bbox_inches='tight')\n",
    "    \n",
    "plt.show()"
   ]
  },
  {
   "cell_type": "code",
   "execution_count": null,
   "metadata": {},
   "outputs": [],
   "source": [
    "# Plot the energy intensity per source of energy:\n",
    "fig, axes = plt.subplots(nrows=1, ncols=3,\n",
    "                         sharex=True, sharey=True,\n",
    "                         figsize=(16, 2.5)\n",
    "                         )\n",
    "\n",
    "for i, (ax, energy) in enumerate(zip(axes.flatten(), energies)):\n",
    "    (EnergyIntensity[f\"{energy}, GJ/t\"]\n",
    "     .interpolate(method='pchip', limit_direction='forward')\n",
    "     .plot(ax=ax, color='steelblue', linewidth=2))\n",
    "    \n",
    "    ax.scatter(x=EnergyIntensity.index, y=EnergyIntensity[f\"{energy}, GJ/t\"],\n",
    "               s=40, marker='x', c='grey')\n",
    "    \n",
    "    ax.set_title(f\" {energy}\", loc='left')\n",
    "    ax.grid(which='major', axis='y', linestyle=':', linewidth=1)\n",
    "    style_ax(ax)\n",
    "\n",
    "ax.set_xlim(1950, 2020)\n",
    "ax.set_ylim(0, 40)\n",
    "\n",
    "fig.suptitle(\"(b) Intensity per energy source [GJ/t]\",\n",
    "             x=0.1, y=1.12, ha='left')\n",
    "fig.subplots_adjust(wspace=0.2)\n",
    "\n",
    "ax.minorticks_off()\n",
    "plt.xticks(np.arange(1950, 2021, 10))\n",
    "\n",
    "sns.despine(offset=5)\n",
    "\n",
    "if export:\n",
    "    # Save image:\n",
    "    fig.savefig(os.path.join(path_img, 'Fig4_Energy Intensity.png'),\n",
    "                dpi=600, bbox_inches='tight')\n",
    "    fig.savefig(os.path.join(path_img, 'Fig4_Energy Intensity.pdf'), \n",
    "                bbox_inches='tight')\n",
    "    \n",
    "plt.show()"
   ]
  },
  {
   "cell_type": "code",
   "execution_count": null,
   "metadata": {},
   "outputs": [],
   "source": [
    "# Plot the intensity for energy, material and CO2 emissions:\n",
    "fig, axes = plt.subplots(nrows=1, ncols=3,\n",
    "                         sharex=True,\n",
    "                         figsize=(16, 2.5))\n",
    "\n",
    "# Material intensity\n",
    "ax = axes[0]\n",
    "(MatIntensity['Total raw materials, kg/kg']\n",
    " .interpolate(method='pchip', limit_direction='forward')\n",
    " .rolling(5, center=True).mean()\n",
    " .plot(ax=ax, c='firebrick', linestyle='--', linewidth=1.25)\n",
    " )\n",
    "\n",
    "(MatIntensity['Total raw mat w/o cullet, kg/kg']\n",
    " .interpolate(method='pchip', limit_direction='forward')\n",
    " .rolling(5, center=True).mean()\n",
    " .plot(ax=ax, c='firebrick', linestyle='-', linewidth=2)\n",
    " )\n",
    "\n",
    "ax.scatter(x=MatIntensity.index, \n",
    "           y=MatIntensity['Total raw mat w/o cullet, kg/kg'],\n",
    "           s=40, marker='x', c='grey')\n",
    "\n",
    "ax.set_title(\"Material intensity [t/t]\", loc='left')\n",
    "ax.grid(which='major', axis='y', linestyle=':', linewidth=1)\n",
    "style_ax(ax)\n",
    "ax.set_ylim(0, 2)\n",
    "ax.set_xlim(1950, 2020)\n",
    "\n",
    "# Energy intensity\n",
    "ax = axes[1]\n",
    "(EnergyIntensity['Total energy, GJ/t']\n",
    " .interpolate(method='pchip', limit_direction='forward')\n",
    " .rolling(5, center=True).mean()\n",
    " .plot(ax=ax, c='firebrick', linestyle='--', linewidth=1.25))\n",
    "\n",
    "(EnergyIntensity['Total energy w/o elec., GJ/t']\n",
    " .interpolate(method='pchip', limit_direction='forward')\n",
    " .rolling(5, center=True).mean()\n",
    " .plot(ax=ax, c='firebrick', linewidth=2))\n",
    "\n",
    "ax.scatter(x=EnergyIntensity.index, \n",
    "           y=EnergyIntensity['Total energy w/o elec., GJ/t'],\n",
    "           s=40, marker='x', c='grey')\n",
    "\n",
    "ax.set_title(\"Energy intensity [GJ/t]\", loc='left')\n",
    "ax.grid(which='major', axis='y', linestyle=':', linewidth=1)\n",
    "style_ax(ax)\n",
    "ax.set_ylim(0, 40)\n",
    "\n",
    "# Carbon dioxide intensity\n",
    "ax = axes[2]\n",
    "(CO2_Intensity['CO2 interpolated [kg/t]'].rolling(5, center=True).mean()\n",
    " .plot(ax=ax, c='firebrick', linewidth=2))\n",
    "\n",
    "ax.scatter(x=CO2_Intensity.index, y=CO2_Intensity['CO2 [kg/t]'],\n",
    "           s=40, marker='x', c='grey')\n",
    "\n",
    "ax.set_title(\"CO2 intensity [kgCO2/t]\", loc='left')\n",
    "ax.grid(which='major', axis='y', linestyle=':', linewidth=1)\n",
    "style_ax(ax)\n",
    "ax.set_ylim(0, 2500)\n",
    "\n",
    "ax.minorticks_off()\n",
    "plt.xticks(np.arange(1950, 2021, 10))\n",
    "\n",
    "fig.suptitle(\"(c) Intensity, total\", x=0.1, y=1.12, ha='left')\n",
    "fig.subplots_adjust(wspace=0.20)\n",
    "\n",
    "sns.despine(offset=5)\n",
    "\n",
    "if export:\n",
    "    # Save image:\n",
    "    plt.savefig(os.path.join(path_img, 'Fig4_TotalIntensity.png'),\n",
    "                dpi=600, bbox_inches='tight')\n",
    "    plt.savefig(os.path.join(path_img, 'Fig4_TotalIntensity.pdf'),\n",
    "                bbox_inches='tight')\n",
    "\n",
    "plt.show()"
   ]
  },
  {
   "cell_type": "markdown",
   "metadata": {},
   "source": [
    "# Flows of Insulating Glass Units in Europe"
   ]
  },
  {
   "cell_type": "markdown",
   "metadata": {},
   "source": [
    "## Creating a Dataframe for the Flows of IGU"
   ]
  },
  {
   "cell_type": "code",
   "execution_count": null,
   "metadata": {},
   "outputs": [],
   "source": [
    "# Data relating to IGU production:\n",
    "EU_Prod = EU_data.parse('prod').set_index(['Nbr of countries', 'year'])"
   ]
  },
  {
   "cell_type": "code",
   "execution_count": null,
   "metadata": {},
   "outputs": [],
   "source": [
    "# Add import and export flows:\n",
    "EU_Imp = EU_data.parse('import').set_index(['Nbr of countries', 'year'])\n",
    "EU_Exp = EU_data.parse('export').set_index(['Nbr of countries', 'year'])"
   ]
  },
  {
   "cell_type": "code",
   "execution_count": null,
   "metadata": {},
   "outputs": [],
   "source": [
    "# Create a new DataFrame for European IGU flows:\n",
    "EU_IGU = pd.concat([EU_Prod['IGU, \"000 m²']/1000,\n",
    "                    EU_Imp['IGU, \"000 m²']/1000,\n",
    "                    EU_Exp['IGU, \"000 m²']/1000],\n",
    "                   axis=1, keys=[('Production', '[10^6 m²]'),\n",
    "                                 ('Import', '[10^6 m²]'),\n",
    "                                 ('Export', '[10^6 m²]')],\n",
    "                   names=['Info', 'Unit']).stack(dropna=False)\n",
    "\n",
    "EU_IGU = EU_IGU.unstack()"
   ]
  },
  {
   "cell_type": "code",
   "execution_count": null,
   "metadata": {},
   "outputs": [],
   "source": [
    "EU_IGU.style"
   ]
  },
  {
   "cell_type": "code",
   "execution_count": null,
   "metadata": {},
   "outputs": [],
   "source": [
    "# Adding columns for data in [kt],\n",
    "# to be used later for material/energy/carbon intensity\n",
    "# 2500kg/m³ and in average 9mm thick\n",
    "\n",
    "EU_IGU[('Production', '[kt]')] = EU_IGU[('Production', '[10^6 m²]')] * 2.5 * 9\n",
    "EU_IGU[('Import', '[kt]')] = EU_IGU[('Import', '[10^6 m²]')] * 2.5 * 9\n",
    "EU_IGU[('Export', '[kt]')] = EU_IGU[('Export', '[10^6 m²]')] * 2.5 * 9\n",
    "\n",
    "EU_IGU = EU_IGU.sort_index(axis=1)"
   ]
  },
  {
   "cell_type": "markdown",
   "metadata": {},
   "source": [
    "## Production of Insulating Glass Units"
   ]
  },
  {
   "cell_type": "code",
   "execution_count": null,
   "metadata": {},
   "outputs": [],
   "source": [
    "# Plot the European production of flat glass\n",
    "fig, ax = plt.subplots()\n",
    "\n",
    "sns.scatterplot(data=EU_IGU['Production'].reset_index(),\n",
    "                x='year', y='[10^6 m²]',\n",
    "                hue='Nbr of countries',\n",
    "                palette='colorblind',\n",
    "                ax=ax)\n",
    "\n",
    "sns.lineplot(data=EU_IGU['Production'].reset_index(),\n",
    "             x='year', y='[10^6 m²]',\n",
    "             hue='Nbr of countries',\n",
    "             palette='colorblind',\n",
    "             ax=ax)\n",
    "\n",
    "ax.set_xlim(1950, 2020)\n",
    "ax.set_ylim(0, 160)\n",
    "\n",
    "ax.grid(which='major', axis='y', linestyle=':', linewidth=1)\n",
    "style_ax(ax)\n",
    "\n",
    "fig.suptitle('European production of IGU [million m²]', fontsize=13)\n",
    "sns.despine(offset=5)\n",
    "plt.show()"
   ]
  },
  {
   "cell_type": "code",
   "execution_count": null,
   "metadata": {},
   "outputs": [],
   "source": [
    "# Plot the European production of flat glass\n",
    "fig, ax = plt.subplots()\n",
    "\n",
    "sns.scatterplot(data=EU_IGU['Production'].reset_index(),\n",
    "                x='year', y='[10^6 m²]',\n",
    "                hue='Nbr of countries',\n",
    "                palette='colorblind',\n",
    "                ax=ax)\n",
    "\n",
    "sns.lineplot(data=EU_IGU['Production'].interpolate(method='linear').reset_index(),\n",
    "             x='year', y='[10^6 m²]',\n",
    "             hue='Nbr of countries',\n",
    "             palette='colorblind',\n",
    "             ax=ax)\n",
    "\n",
    "ax.set_xlim(1950, 2020)\n",
    "ax.set_ylim(0, 160)\n",
    "\n",
    "ax.grid(which='major', axis='y', linestyle=':', linewidth=1)\n",
    "style_ax(ax)\n",
    "\n",
    "fig.suptitle('European production of IGU [million m²]', fontsize=13)\n",
    "sns.despine(offset=5)\n",
    "plt.show()"
   ]
  },
  {
   "cell_type": "markdown",
   "metadata": {},
   "source": [
    "## Consumption of Insulating Glass Units"
   ]
  },
  {
   "cell_type": "code",
   "execution_count": null,
   "metadata": {
    "scrolled": false
   },
   "outputs": [],
   "source": [
    "# Estimate the consumption of IGU in the EU:\n",
    "EU_IGU = EU_IGU.stack()\n",
    "\n",
    "EU_IGU['Consumption'] = (EU_IGU['Production']\n",
    "                         + EU_IGU['Import']\n",
    "                         - EU_IGU['Export']\n",
    "                         )\n",
    "\n",
    "EU_IGU = EU_IGU.unstack()"
   ]
  },
  {
   "cell_type": "code",
   "execution_count": null,
   "metadata": {},
   "outputs": [],
   "source": [
    "# Plot the European consumption of IGU:\n",
    "fig, ax = plt.subplots(figsize=(8, 5))\n",
    "\n",
    "sns.lineplot(data=EU_IGU['Consumption'].reset_index(),\n",
    "             x='year', y='[10^6 m²]',\n",
    "             hue='Nbr of countries',\n",
    "             palette='colorblind',\n",
    "             ax=ax)\n",
    "\n",
    "ax.set_xlim(1950, 2020)\n",
    "ax.set_ylim(0, 160)\n",
    "\n",
    "fig.suptitle('European consumption of IGU [million m²]')\n",
    "sns.despine(offset=5)\n",
    "plt.show()"
   ]
  },
  {
   "cell_type": "markdown",
   "metadata": {},
   "source": [
    "## Summary"
   ]
  },
  {
   "cell_type": "code",
   "execution_count": null,
   "metadata": {},
   "outputs": [],
   "source": [
    "# Key dates for the changes in the MFA scope, i.e. EU enlargement:\n",
    "EU_Kdates = {'EU6': 1972, 'EU10': 1980, 'EU12': 1986, \n",
    "             'EU15': 1995, 'EU27': 2003, 'EU28': 2012}"
   ]
  },
  {
   "cell_type": "code",
   "execution_count": null,
   "metadata": {},
   "outputs": [],
   "source": [
    "# Plot a synthesis of the results concerning European flows of IGU:\n",
    "data1 = ['Production', 'Consumption']\n",
    "data2 = ['Import', 'Export']\n",
    "\n",
    "fig, axes = plt.subplots(nrows=2, ncols=2,\n",
    "                         sharex=True, sharey=True,\n",
    "                         figsize=(16, 10))\n",
    "\n",
    "# Plot production and consumption:\n",
    "for col, data in enumerate(data1):\n",
    "    ax = axes[0][col]\n",
    "    sns.lineplot(data=EU_IGU[f\"{data}\"].reset_index(),\n",
    "                 x='year', y=\"[10^6 m²]\",\n",
    "                 hue='Nbr of countries',\n",
    "                 palette='colorblind', linewidth=1.75,\n",
    "                 ax=ax)\n",
    "\n",
    "    # Plot lines highlighting changes in the scope, i.e., EU enlargement:\n",
    "    for y, x in EU_Kdates.items():\n",
    "        ax.axvline(x=x, c='grey', linestyle=':', linewidth=0.75)\n",
    "        ax.text(x+0.5, 175, f\"{y}\", fontsize=13,\n",
    "                verticalalignment='top')\n",
    "    \n",
    "    if col == 0:\n",
    "        # Plot data gathered from literature review:\n",
    "        sns.scatterplot(data=EU_IGU[f\"{data}\"].reset_index(),\n",
    "                        x='year', y=\"[10^6 m²]\",\n",
    "                        hue='Nbr of countries',\n",
    "                        palette='colorblind',\n",
    "                        marker='.', s=100,\n",
    "                        ax=ax)\n",
    "        \n",
    "    ax.get_legend().remove()\n",
    "    style_ax(ax)\n",
    "\n",
    "    ax.set_title(f\"{data}\", pad=30, loc='left')\n",
    "    #ax.grid(which='major', axis='y', linestyle=':', linewidth=1)\n",
    "    #ax.get_legend().remove()\n",
    "    ax.yaxis.label.set_visible(False)\n",
    "\n",
    "# Plot import and export below:\n",
    "for col, data in enumerate(data2):\n",
    "    ax = axes[1][col]\n",
    "    sns.lineplot(data=EU_IGU[f\"{data}\"].reset_index(),\n",
    "                 x='year', y=\"[10^6 m²]\",\n",
    "                 hue='Nbr of countries',\n",
    "                 palette='colorblind', linewidth=1.75,\n",
    "                 ax=ax)\n",
    "\n",
    "    # Plot lines highlighting changes in the scope, i.e., EU enlargement:\n",
    "    for y, x in EU_Kdates.items():\n",
    "        ax.axvline(x=x, c='grey', linestyle=':', linewidth=0.75)\n",
    "        ax.text(x+0.5, 175, f\"{y}\", fontsize=13,\n",
    "                verticalalignment='top')\n",
    "\n",
    "    style_ax(ax)\n",
    "\n",
    "    ax.set_title(f\"{data}\", pad=20, loc='left')\n",
    "    #ax.grid(which='major', axis='y', linestyle=':', linewidth=1)\n",
    "    ax.get_legend().remove()\n",
    "    ax.yaxis.label.set_visible(False)\n",
    "\n",
    "\n",
    "# Add legend:\n",
    "handles, labels = ax.get_legend_handles_labels()\n",
    "fig.legend(handles, labels, loc='upper right', ncol=2,\n",
    "           title='Nbr of countries:',\n",
    "           bbox_to_anchor=(0.83, 0.98))\n",
    "\n",
    "ax.set_xlim(1950, 2020)\n",
    "ax.set_ylim(0, 175)\n",
    "\n",
    "fig.suptitle(\"European flows of flat glass [10^6 m²]\", y=1.05)\n",
    "fig.subplots_adjust(wspace=0.25, hspace=0.35)\n",
    "\n",
    "sns.despine(offset=5)\n",
    "plt.show()\n",
    "\n",
    "if export:\n",
    "    # Save image:\n",
    "    fig.savefig(os.path.join(path_img, 'AppendixB_EU_IGUFlows.png'),\n",
    "                dpi=600, bbox_inches='tight')\n",
    "    fig.savefig(os.path.join(path_img, 'AppendixB_EU_IGUFlows.pdf'),\n",
    "                bbox_inches='tight')"
   ]
  },
  {
   "cell_type": "markdown",
   "metadata": {},
   "source": [
    "Hypothesis for missing data: EU production = EU consumption"
   ]
  },
  {
   "cell_type": "code",
   "execution_count": null,
   "metadata": {},
   "outputs": [],
   "source": [
    "EU_IGU = EU_IGU.stack()\n",
    "EU_IGU['Estimated consumption'] = (EU_IGU['Consumption']\n",
    "                                   .fillna(EU_IGU['Production']))\n",
    "\n",
    "EU_IGU = EU_IGU.unstack()"
   ]
  },
  {
   "cell_type": "code",
   "execution_count": null,
   "metadata": {},
   "outputs": [],
   "source": [
    "# Plot the European production and consumption of IGU in the EU:\n",
    "data = ['Production', 'Estimated consumption']\n",
    "\n",
    "# Plot two figures:\n",
    "fig, axes = plt.subplots(nrows=1, ncols=2,\n",
    "                         sharex=True, sharey=True,\n",
    "                         figsize=(16, 5))\n",
    "\n",
    "# Number of countries for trend curves:\n",
    "EU_list = [(6, 12), (15, 15), (27, 28)]\n",
    "\n",
    "for col, data in enumerate(data):\n",
    "    for i, j in EU_list:\n",
    "        ax = axes[col]\n",
    "        # Plot the trend curve for flat glass production:\n",
    "        ax.plot(EU_IGU.interpolate().rolling(5, center=True).mean().loc[i:j]\n",
    "                .reset_index(level='Nbr of countries')\n",
    "                .sort_values(by=['year'])\n",
    "                [(f\"{data}\", \"[10^6 m²]\")],\n",
    "                c='black', linestyle='--')\n",
    "\n",
    "        if col == 0:\n",
    "            # Plot data gathered from literature review:\n",
    "            sns.scatterplot(data=EU_IGU[\"Production\"].reset_index(),\n",
    "                            x='year', y=\"[10^6 m²]\",\n",
    "                            hue='Nbr of countries',\n",
    "                            palette='colorblind',\n",
    "                            marker='.', s=100,\n",
    "                            ax=ax)\n",
    "        else:\n",
    "            # Plot data gathered from literature review:\n",
    "            sns.scatterplot(data=EU_IGU[\"Consumption\"].reset_index(),\n",
    "                            x='year', y=\"[10^6 m²]\",\n",
    "                            hue='Nbr of countries',\n",
    "                            palette='colorblind',\n",
    "                            marker='.', s=100,\n",
    "                            ax=ax)\n",
    "\n",
    "        ax.get_legend().remove()\n",
    "        ax.set_title(f'IGU {data} [10^6 m²]', pad=30, loc='left')\n",
    "        ax.yaxis.label.set_visible(False)\n",
    "\n",
    "# Plot lines highlighting changes in the scope, i.e., EU enlargement:\n",
    "#for y, x in EU_Kdates.items():\n",
    "#    ax.axvline(x=x, c='grey', linestyle=':', linewidth=0.75)\n",
    "#    ax.text(x+0.5, 180, f\"{y}\", fontsize=14,\n",
    "#            verticalalignment='top')\n",
    "\n",
    "style_ax(ax)\n",
    "ax.set_xlim(1950, 2020)\n",
    "ax.set_ylim(0, 180)\n",
    "\n",
    "plt.suptitle('European production and consumption of IGU [10^6 m²]',\n",
    "             weight='light', y=1.2)\n",
    "\n",
    "fig.subplots_adjust(wspace=0.15)\n",
    "\n",
    "sns.despine(offset=10)\n",
    "plt.show()\n",
    "\n",
    "if export:\n",
    "    # Save image:\n",
    "    fig.savefig(os.path.join(path_img, 'Fig2_EU_IGUProdConso.png'),\n",
    "                dpi=600, bbox_inches='tight')\n",
    "    fig.savefig(os.path.join(path_img, 'Fig2_EU_IGUProdConso.pdf'),\n",
    "                bbox_inches='tight')"
   ]
  },
  {
   "cell_type": "markdown",
   "metadata": {},
   "source": [
    "# Flows of Insulating Glass Units in France and Belgium"
   ]
  },
  {
   "cell_type": "markdown",
   "metadata": {},
   "source": [
    "## Creating a Dataframe for the Flows of IGU"
   ]
  },
  {
   "cell_type": "code",
   "execution_count": null,
   "metadata": {},
   "outputs": [],
   "source": [
    "# Create a DataFrame only with production data:\n",
    "FR_Prod = FR_data.parse('prod').set_index('year')\n",
    "BE_Prod = BE_data.parse('prod').set_index('year')"
   ]
  },
  {
   "cell_type": "code",
   "execution_count": null,
   "metadata": {},
   "outputs": [],
   "source": [
    "# Create a DataFrame with import and export data:\n",
    "FR_Imp = FR_data.parse('import').set_index('year')\n",
    "FR_Exp = FR_data.parse('export').set_index('year')\n",
    "\n",
    "BE_Imp = BE_data.parse('import').set_index('year')\n",
    "BE_Exp = BE_data.parse('export').set_index('year')"
   ]
  },
  {
   "cell_type": "code",
   "execution_count": null,
   "metadata": {},
   "outputs": [],
   "source": [
    "# Create a DataFrame with import and export data:\n",
    "FR_Pop = FR_data.parse('Population').set_index('year')\n",
    "BE_Pop = BE_data.parse('Population').set_index('year')"
   ]
  },
  {
   "cell_type": "code",
   "execution_count": null,
   "metadata": {},
   "outputs": [],
   "source": [
    "# Create a unique DataFrame for French and Belgian population:\n",
    "BE_FR_Pop = pd.concat([FR_Pop['Population, x1000'],\n",
    "                       BE_Pop['Population, x1000']],\n",
    "                      axis=1, keys=[('Population [x1000]', 'France'),\n",
    "                                    ('Population [x1000]', 'Belgium')],\n",
    "                      names=['Info', 'Country']).stack()\n",
    "\n",
    "BE_FR_Pop = BE_FR_Pop.unstack()"
   ]
  },
  {
   "cell_type": "code",
   "execution_count": null,
   "metadata": {},
   "outputs": [],
   "source": [
    "# Create a new DataFrame for Belgian and French IGU flows:\n",
    "BE_FR_IGU = (\n",
    "    pd.concat([FR_Prod['IGU, kt'], BE_Prod['IGU, kt'],\n",
    "               FR_Prod['IGU, \"000 m²']/1000, BE_Prod['IGU, \"000 m²']/1000,\n",
    "               FR_Imp['IGU, kt'], BE_Imp['IGU, kt'],\n",
    "               FR_Imp['IGU, \"000 m²']/1000, BE_Imp['IGU, \"000 m²']/1000,\n",
    "               FR_Exp['IGU, kt'], BE_Exp['IGU, kt'],\n",
    "               FR_Exp['IGU, \"000 m²']/1000, BE_Exp['IGU, \"000 m²']/1000],\n",
    "              axis=1,\n",
    "              keys=[('Production [kt]', 'France'),\n",
    "                    ('Production [kt]', 'Belgium'),\n",
    "                    ('Production [10^6 m²]', 'France'),\n",
    "                    ('Production [10^6 m²]', 'Belgium'),\n",
    "                    ('Import [kt]', 'France'),\n",
    "                    ('Import [kt]', 'Belgium'),\n",
    "                    ('Import [10^6 m²]', 'France'),\n",
    "                    ('Import [10^6 m²]', 'Belgium'),\n",
    "                    ('Export [kt]', 'France'),\n",
    "                    ('Export [kt]', 'Belgium'),\n",
    "                    ('Export [10^6 m²]', 'France'),\n",
    "                    ('Export [10^6 m²]', 'Belgium')],\n",
    "              names=['Info', 'Country'])).stack(level=- 1,\n",
    "                                                dropna=False)\n",
    "\n",
    "BE_FR_IGU = BE_FR_IGU.unstack()"
   ]
  },
  {
   "cell_type": "code",
   "execution_count": null,
   "metadata": {},
   "outputs": [],
   "source": [
    "BE_FR_IGU"
   ]
  },
  {
   "cell_type": "markdown",
   "metadata": {},
   "source": [
    "## Production of Insulating Glass Units"
   ]
  },
  {
   "cell_type": "code",
   "execution_count": null,
   "metadata": {},
   "outputs": [],
   "source": [
    "countries = ['Belgium', 'France']"
   ]
  },
  {
   "cell_type": "code",
   "execution_count": null,
   "metadata": {},
   "outputs": [],
   "source": [
    "# Plot the BE and FR production of IGU:\n",
    "fig, axes = plt.subplots(nrows=1, ncols=2,\n",
    "                         figsize=(16, 5),\n",
    "                         sharex=True, sharey=True)\n",
    "\n",
    "for i, (ax, country) in enumerate(zip(axes.flatten(), countries)):\n",
    "    ax.plot(BE_FR_IGU['Production [10^6 m²]'].index,\n",
    "            BE_FR_IGU['Production [10^6 m²]'][country])\n",
    "\n",
    "    ax.set_title(country, pad=20)\n",
    "    ax.grid(which='major', axis='y', linestyle=':', linewidth=1)\n",
    "\n",
    "ax.set_xlim(1950, 2020)\n",
    "ax.set_ylim(0, 18)\n",
    "\n",
    "fig.suptitle('IGU production [10^6 m²/y]', y=1.1)\n",
    "sns.despine(offset=5)\n",
    "plt.show()"
   ]
  },
  {
   "cell_type": "code",
   "execution_count": null,
   "metadata": {},
   "outputs": [],
   "source": [
    "# Plot a moving average for IGU production:\n",
    "fig, axes = plt.subplots(nrows=1, ncols=2,\n",
    "                         figsize=(16, 5),\n",
    "                         sharex=True, sharey=True)\n",
    "\n",
    "for i, (ax, country) in enumerate(zip(axes.flatten(), countries)):\n",
    "    ax.plot(BE_FR_IGU['Production [10^6 m²]'].index,\n",
    "            BE_FR_IGU['Production [10^6 m²]'][country]\n",
    "            # Linear interpolation for flat glass production:\n",
    "            .interpolate(method=\"linear\", limit_area='inside')\n",
    "            # Rolling flat glass production according to a 5-year mean:\n",
    "            .rolling(5, center=True).mean())\n",
    "\n",
    "    ax.set_title(country, y=1.05)\n",
    "    ax.set_xlim(1950, 2020)\n",
    "    ax.set_ylim(0, 18)\n",
    "    ax.grid(which='major', axis='y', linestyle=':', linewidth=1)\n",
    "\n",
    "fig.suptitle('IGU production, rolled [10^6 m²/y]', fontsize=15, y=1.1)\n",
    "sns.despine(offset=5)\n",
    "plt.show()"
   ]
  },
  {
   "cell_type": "markdown",
   "metadata": {},
   "source": [
    "## Consumption of Insulating Glass Units"
   ]
  },
  {
   "cell_type": "code",
   "execution_count": null,
   "metadata": {},
   "outputs": [],
   "source": [
    "# Caculate import and export ratios relative to production:\n",
    "BE_FR_IGU = BE_FR_IGU.stack()\n",
    "\n",
    "BE_FR_IGU['Import Ratio'] = (BE_FR_IGU['Import [kt]'] \n",
    "                             / BE_FR_IGU['Production [kt]'])\n",
    "BE_FR_IGU['Export Ratio'] = (BE_FR_IGU['Export [kt]'] \n",
    "                             / BE_FR_IGU['Production [kt]'])\n",
    "\n",
    "BE_FR_IGU = BE_FR_IGU.unstack()"
   ]
  },
  {
   "cell_type": "code",
   "execution_count": null,
   "metadata": {},
   "outputs": [],
   "source": [
    "ratios = ['Import', 'Export']"
   ]
  },
  {
   "cell_type": "code",
   "execution_count": null,
   "metadata": {},
   "outputs": [],
   "source": [
    "# Plot import and export ratios for FR and BE:\n",
    "nrows = len(ratios)\n",
    "ncols = len(countries)\n",
    "\n",
    "fig, axes = plt.subplots(nrows=nrows, ncols=ncols,\n",
    "                         sharex=True, sharey=True)\n",
    "\n",
    "for row, ratio in enumerate(ratios):\n",
    "    for col, country in enumerate(countries):\n",
    "        ax = axes[row][col]\n",
    "        (BE_FR_IGU[(f\"{ratio} Ratio\", country)].plot(ax=ax))\n",
    "\n",
    "        if row == 0:\n",
    "            ax.set_title(country, y=1.1)\n",
    "        if col == 0:\n",
    "            ax.set_ylabel(ratio)\n",
    "\n",
    "\n",
    "ax.set_ylim(0, 1)\n",
    "ax.set_xlim(1950, 2020)\n",
    "\n",
    "fig.suptitle(\"Import and export of IGU compared to production [%]\", \n",
    "             y=1.05)\n",
    "sns.despine(offset=5)\n",
    "plt.show()"
   ]
  },
  {
   "cell_type": "code",
   "execution_count": null,
   "metadata": {},
   "outputs": [],
   "source": [
    "# Interpolation for missing data:\n",
    "cols = [x for x in BE_FR_IGU.columns if x[0] in ['Import Ratio',\n",
    "                                                 'Export Ratio']]\n",
    "\n",
    "BE_FR_IGU[cols] = (BE_FR_IGU[cols].interpolate(method='linear'))"
   ]
  },
  {
   "cell_type": "code",
   "execution_count": null,
   "metadata": {},
   "outputs": [],
   "source": [
    "BE_FR_IGU.loc[1970:1980, cols]"
   ]
  },
  {
   "cell_type": "code",
   "execution_count": null,
   "metadata": {},
   "outputs": [],
   "source": [
    "# Plot import and export ratios, w/ a moving average (5-y. window length):\n",
    "nrows = len(ratios)\n",
    "ncols = len(countries)\n",
    "\n",
    "fig, axes = plt.subplots(nrows=nrows, ncols=ncols,\n",
    "                         sharex=True, sharey=True)\n",
    "\n",
    "for row, ratio in enumerate(ratios):\n",
    "    for col, country in enumerate(countries):\n",
    "        ax = axes[row][col]\n",
    "        (BE_FR_IGU[(f\"{ratio} Ratio\", country)]\n",
    "         .rolling(5, center=True).mean()\n",
    "         .plot(ax=ax))\n",
    "        \n",
    "        ax.grid(which='major', axis='y', linestyle=':', linewidth=1)\n",
    "        if row == 0:\n",
    "            ax.set_title(country, y=1.1)\n",
    "        if col == 0:\n",
    "            ax.set_ylabel(ratio)\n",
    "\n",
    "ax.set_xlim(1945, 2015)\n",
    "ax.set_ylim(0, 1)\n",
    "\n",
    "fig.suptitle(\"Import and export compared to production [%]\")\n",
    "sns.despine(offset=5)\n",
    "plt.show()"
   ]
  },
  {
   "cell_type": "code",
   "execution_count": null,
   "metadata": {},
   "outputs": [],
   "source": [
    "nrows = len(ratios)\n",
    "ncols = len(countries)\n",
    "\n",
    "fig, axes = plt.subplots(nrows=nrows, ncols=ncols,\n",
    "                         sharex=True, sharey=True)\n",
    "\n",
    "for row, ratio in enumerate(ratios):\n",
    "    for col, country in enumerate(countries):\n",
    "        ax = axes[row][col]\n",
    "        BE_FR_IGU[(f\"{ratio} [10^6 m²]\", country)].plot(ax=ax)\n",
    "        \n",
    "        ax.grid(which='major', axis='y', linestyle=':', linewidth=1)\n",
    "        if row == 0:\n",
    "            ax.set_title(country, y=1.1)\n",
    "        if col == 0:\n",
    "            ax.set_ylabel(ratio)\n",
    "\n",
    "ax.set_xlim(1945, 2020)\n",
    "ax.set_ylim(0, 3)\n",
    "\n",
    "fig.suptitle('Import and export of IGU, [10^6 m²]')\n",
    "sns.despine(offset=5)\n",
    "plt.show()"
   ]
  },
  {
   "cell_type": "code",
   "execution_count": null,
   "metadata": {},
   "outputs": [],
   "source": [
    "nrows = len(ratios)\n",
    "ncols = len(countries)\n",
    "\n",
    "fig, axes = plt.subplots(nrows=nrows, ncols=ncols,\n",
    "                         sharex=True, sharey=True)\n",
    "\n",
    "for row, ratio in enumerate(ratios):\n",
    "    for col, country in enumerate(countries):\n",
    "        ax = axes[row][col]\n",
    "        (BE_FR_IGU[(f\"{ratio} [10^6 m²]\", country)]\n",
    "         .interpolate(method='linear', limit_area='inside')\n",
    "         .rolling(5, center=True).mean()\n",
    "         .plot(ax=ax))\n",
    "\n",
    "        ax.grid(which='major', axis='y', linestyle=':', linewidth=1)\n",
    "        if row == 0:\n",
    "            ax.set_title(country, y=1.1)\n",
    "        if col == 0:\n",
    "            ax.set_ylabel(ratio)\n",
    "\n",
    "ax.set_xlim(1950, 2020)\n",
    "ax.set_ylim(0, 2)\n",
    "\n",
    "fig.suptitle('Import and export of IGU, [10^6 m²]')\n",
    "sns.despine(offset=5)\n",
    "plt.show()"
   ]
  },
  {
   "cell_type": "code",
   "execution_count": null,
   "metadata": {},
   "outputs": [],
   "source": [
    "BE_FR_IGU = BE_FR_IGU.stack()\n",
    "\n",
    "BE_FR_IGU['Consumption [kt]'] = (BE_FR_IGU['Production [kt]']\n",
    "                                 + BE_FR_IGU['Import [kt]']\n",
    "                                 - BE_FR_IGU['Export [kt]']\n",
    "                                 )\n",
    "\n",
    "BE_FR_IGU['Consumption [10^6 m²]'] = (BE_FR_IGU['Production [10^6 m²]']\n",
    "                                     + BE_FR_IGU['Import [10^6 m²]']\n",
    "                                     - BE_FR_IGU['Export [10^6 m²]']\n",
    "                                     )\n",
    "\n",
    "BE_FR_IGU = BE_FR_IGU.unstack()"
   ]
  },
  {
   "cell_type": "code",
   "execution_count": null,
   "metadata": {},
   "outputs": [],
   "source": [
    "# Plot total consumption of IGU:\n",
    "fig, axes = plt.subplots(nrows=1, ncols=2,\n",
    "                         figsize=(16, 5),\n",
    "                         sharex=True, sharey=True)\n",
    "\n",
    "for i, (ax, country) in enumerate(zip(axes.flatten(), countries)):\n",
    "\n",
    "    ax.plot(BE_FR_IGU.index,\n",
    "            BE_FR_IGU['Consumption [10^6 m²]'][country])\n",
    "    ax.set_title(country)\n",
    "\n",
    "ax.set_xlim(1940, 2020)\n",
    "ax.set_ylim(ymin=0)\n",
    "\n",
    "fig.suptitle('Flat glass Consumption [10^6 m²/y]', fontsize=15, y=1.05)\n",
    "sns.despine(offset=5)\n",
    "plt.show()"
   ]
  },
  {
   "cell_type": "code",
   "execution_count": null,
   "metadata": {},
   "outputs": [],
   "source": [
    "# Estimating the IGU consumption per capita\n",
    "for country in BE_FR_IGU['Consumption [10^6 m²]'].columns:\n",
    "    BE_FR_IGU[('Consumption [m²/cap]', country)] = (\n",
    "        BE_FR_IGU[('Consumption [10^6 m²]', country)]*1000\n",
    "        / BE_FR_Pop[('Population [x1000]', country)])"
   ]
  },
  {
   "cell_type": "code",
   "execution_count": null,
   "metadata": {},
   "outputs": [],
   "source": [
    "# Linear interpolation for IGU consumption\n",
    "# and moving average with a 5-year window length:\n",
    "fig, axes = plt.subplots(nrows=1, ncols=2,\n",
    "                         figsize=(16, 5),\n",
    "                         sharex=True, sharey=True)\n",
    "\n",
    "for i, (ax, country) in enumerate(zip(axes.flatten(), countries)):\n",
    "    ax.plot(BE_FR_IGU['Consumption [10^6 m²]'].index,\n",
    "            BE_FR_IGU['Consumption [10^6 m²]'][country]\n",
    "            .interpolate(method=\"linear\", limit_area='inside')\n",
    "            .rolling(5, center=True).mean())\n",
    "    ax.grid(which='major', axis='y', linestyle=':', linewidth=1)\n",
    "    ax.set_title(country)\n",
    "\n",
    "ax.set_xlim(1945, 2020)\n",
    "ax.set_ylim(0, 20)\n",
    "\n",
    "fig.suptitle('IGU Consumption, rolled [10^6 m²/y]', \n",
    "             fontsize=15, y=1.05)\n",
    "sns.despine(offset=5)\n",
    "plt.show()"
   ]
  },
  {
   "cell_type": "code",
   "execution_count": null,
   "metadata": {},
   "outputs": [],
   "source": [
    "# Linear interpolation for IGU consumption per capita\n",
    "# and moving average with a 5-y. window length:\n",
    "fig, axes = plt.subplots(nrows=1, ncols=2,\n",
    "                         figsize=(16, 5),\n",
    "                         sharex=True, sharey=True)\n",
    "\n",
    "for i, (ax, country) in enumerate(zip(axes.flatten(), countries)):\n",
    "    ax.plot(BE_FR_IGU['Consumption [m²/cap]'].index,\n",
    "            BE_FR_IGU['Consumption [m²/cap]'][country]\n",
    "            .interpolate(method=\"linear\", limit_area='inside')\n",
    "            .rolling(5, center=True).mean())\n",
    "\n",
    "    ax.grid(which='major', axis='y', linestyle=':', linewidth=1)\n",
    "    ax.set_title(country, y=1.1)\n",
    "    ax.set_xlim(1945, 2020)\n",
    "    ax.set_ylim(0, 0.5)\n",
    "\n",
    "fig.suptitle('IGU consumption, m² per capita, rolled',\n",
    "             fontsize=15, y=1.05)\n",
    "sns.despine(offset=5)\n",
    "plt.show()"
   ]
  },
  {
   "cell_type": "markdown",
   "metadata": {},
   "source": [
    "## Summary"
   ]
  },
  {
   "cell_type": "code",
   "execution_count": null,
   "metadata": {},
   "outputs": [],
   "source": [
    "# Plot total import and export flows, moving average w/ a 5-y. window length:\n",
    "toplot = ['Production', 'Export', 'Import', 'Consumption']\n",
    "nrows = len(toplot)\n",
    "ncols = len(countries)\n",
    "\n",
    "fig, axes = plt.subplots(nrows=nrows, ncols=ncols,\n",
    "                         sharex=True, sharey=True,\n",
    "                         figsize=(13, 14))\n",
    "\n",
    "for row, data in enumerate(toplot):\n",
    "    for col, country in enumerate(countries):\n",
    "        ax = axes[row][col]\n",
    "        # Define the color and title for the subplots:\n",
    "        if country == 'Belgium':\n",
    "            color = 'forestgreen'\n",
    "            ax.set_title(f\"{data} [10^6 m²]\", loc='left', pad=15)\n",
    "        else:\n",
    "            color = 'steelblue'\n",
    "\n",
    "        (BE_FR_IGU[(f\"{data} [10^6 m²]\", country)]\n",
    "         .interpolate(method='linear')\n",
    "         .rolling(5, center=True).mean()\n",
    "         .plot(ax=ax, c=color)\n",
    "         )\n",
    "\n",
    "        x = BE_FR_IGU[(f\"{data} [10^6 m²]\", country)].index\n",
    "        y = (BE_FR_IGU[(f\"{data} [10^6 m²]\", country)]\n",
    "             .interpolate(method='linear')\n",
    "             .rolling(5, center=True).mean())\n",
    "        ax.fill_between(x, y, color=color, alpha=0.075)\n",
    "\n",
    "        sns.scatterplot(data=BE_FR_IGU[f\"{data} [10^6 m²]\"][country],\n",
    "                        marker='.', s=50, color='grey',\n",
    "                        ax=ax)\n",
    "\n",
    "        ax.get_legend().remove()\n",
    "\n",
    "        ax.minorticks_off()\n",
    "        ax.grid(which='major', axis='y', linestyle=':', linewidth=1)\n",
    "        style_ax(ax)\n",
    "        ax.set_ylabel(None)\n",
    "\n",
    "        ax.grid(which='major', axis='y', linestyle=':', linewidth=1)\n",
    "\n",
    "        if row == 0:\n",
    "            ax.set_title(country, y=1.25)\n",
    "\n",
    "ax.set_xlim(1950, 2020)\n",
    "ax.set_ylim(0, 20)\n",
    "plt.xticks(np.arange(1950, 2021, 10))\n",
    "\n",
    "fig.subplots_adjust(wspace=0.15, hspace=0.5)\n",
    "\n",
    "fig.suptitle(\"Flows of IGU [10^6 m²]\", y=1)\n",
    "sns.despine(offset=5)\n",
    "\n",
    "if export:\n",
    "    # Save image:\n",
    "    fig.savefig(os.path.join(path_img, 'AppendixC_BEFR_IGUFlows.png'),\n",
    "                dpi=600, bbox_inches='tight')\n",
    "    fig.savefig(os.path.join(path_img, 'AppendixC_BEFR_IGUFlows.pdf'),\n",
    "                bbox_inches='tight')\n",
    "\n",
    "plt.show()"
   ]
  },
  {
   "cell_type": "markdown",
   "metadata": {},
   "source": [
    "Hypothesis for missing data: French production = French consumption"
   ]
  },
  {
   "cell_type": "code",
   "execution_count": null,
   "metadata": {},
   "outputs": [],
   "source": [
    "for country in countries:\n",
    "    BE_FR_IGU[(\"Estimated consumption [10^6 m²]\", country)] = 0"
   ]
  },
  {
   "cell_type": "code",
   "execution_count": null,
   "metadata": {},
   "outputs": [],
   "source": [
    "BE_FR_IGU[\"Estimated consumption [10^6 m²]\"] = (\n",
    "    BE_FR_IGU[\"Consumption [10^6 m²]\"]\n",
    "    .fillna(BE_FR_IGU[\"Production [10^6 m²]\"])\n",
    ")"
   ]
  },
  {
   "cell_type": "code",
   "execution_count": null,
   "metadata": {},
   "outputs": [],
   "source": [
    "# Plot total import and export flows, moving average w/ a 5-y. window length:\n",
    "toplot = ['Production', 'Export', 'Import', 'Consumption']\n",
    "nrows = len(toplot)\n",
    "ncols = len(countries)\n",
    "\n",
    "fig, axes = plt.subplots(nrows=nrows, ncols=ncols,\n",
    "                         sharex=True, sharey=True,\n",
    "                         figsize=(13, 14))\n",
    "\n",
    "for row, data in enumerate(toplot):\n",
    "    for col, country in enumerate(countries):\n",
    "        ax = axes[row][col]\n",
    "        # Define the color and title for the subplots:\n",
    "        if country == 'Belgium':\n",
    "            color = 'forestgreen'\n",
    "            ax.set_title(f\"{data} [10^6 m²]\", loc='left', pad=15)\n",
    "        else:\n",
    "            color = 'steelblue'\n",
    "\n",
    "        if row == 3:\n",
    "            sns.lineplot(data=BE_FR_IGU[(\"Estimated consumption [10^6 m²]\",\n",
    "                                         country)]\n",
    "                         .interpolate(method='linear')\n",
    "                         .rolling(5, center=True).mean(),\n",
    "                         linestyle='--', color='darkgrey', ax=ax)\n",
    "\n",
    "        (BE_FR_IGU[(f\"{data} [10^6 m²]\", country)]\n",
    "         .interpolate(method='linear')\n",
    "         .rolling(5, center=True).mean()\n",
    "         .plot(ax=ax, c=color)\n",
    "         )\n",
    "\n",
    "        x = BE_FR_IGU[(f\"{data} [10^6 m²]\", country)].index\n",
    "        y = (BE_FR_IGU[(f\"{data} [10^6 m²]\", country)]\n",
    "             .interpolate(method='linear')\n",
    "             .rolling(5, center=True).mean())\n",
    "        ax.fill_between(x, y, color=color, alpha=0.075)\n",
    "\n",
    "        sns.scatterplot(data=BE_FR_IGU[f\"{data} [10^6 m²]\"][country],\n",
    "                        marker='.', s=50, color='grey',\n",
    "                        ax=ax)\n",
    "\n",
    "        ax.get_legend().remove()\n",
    "\n",
    "        ax.minorticks_off()\n",
    "        ax.grid(which='major', axis='y', linestyle=':', linewidth=1)\n",
    "        style_ax(ax)\n",
    "        ax.set_ylabel(None)\n",
    "\n",
    "        ax.grid(which='major', axis='y', linestyle=':', linewidth=1)\n",
    "\n",
    "        if row == 0:\n",
    "            ax.set_title(country, y=1.25)\n",
    "\n",
    "ax.set_xlim(1950, 2020)\n",
    "ax.set_ylim(0, 20)\n",
    "plt.xticks(np.arange(1950, 2021, 10))\n",
    "\n",
    "fig.subplots_adjust(wspace=0.15, hspace=0.5)\n",
    "\n",
    "fig.suptitle(\"Flows of IGU [10^6 m²]\", y=1)\n",
    "sns.despine(offset=5)\n",
    "\n",
    "if export:\n",
    "    # Save image:\n",
    "    fig.savefig(os.path.join(path_img, 'AppendixC_BEFR_IGUFlows.png'),\n",
    "                dpi=600, bbox_inches='tight')\n",
    "    fig.savefig(os.path.join(path_img, 'AppendixC_BEFR_IGUFlows.pdf'),\n",
    "                bbox_inches='tight')\n",
    "\n",
    "plt.show()"
   ]
  },
  {
   "cell_type": "markdown",
   "metadata": {},
   "source": [
    "# Environmental Footprint Relating to the Production of IGU in the EU"
   ]
  },
  {
   "cell_type": "markdown",
   "metadata": {},
   "source": [
    "## Raw Material Use for IGU Production"
   ]
  },
  {
   "cell_type": "code",
   "execution_count": null,
   "metadata": {},
   "outputs": [],
   "source": [
    "# Absolute use of raw materials for IGU production:\n",
    "for mat in materials:\n",
    "    EU_IGU[f\"{mat}, production [kt]\"] = (\n",
    "        EU_IGU['Production [kt]']\n",
    "        * (MatIntensity[(f\"{mat}, kg/kg\")]\n",
    "           .interpolate(method='pchip', limit_direction='forward'))\n",
    "    )"
   ]
  },
  {
   "cell_type": "code",
   "execution_count": null,
   "metadata": {},
   "outputs": [],
   "source": [
    "# Plot raw material flows for IGU production in the EU:\n",
    "fig, axes = plt.subplots(nrows=3, ncols=2,\n",
    "                         sharex=True, sharey=True,\n",
    "                         figsize=(10, 8))\n",
    "\n",
    "for i, (ax, material) in enumerate(zip(axes.flatten(), materials)):\n",
    "    sns.lineplot(data=EU_IGU.reset_index(),\n",
    "                 x='year', y=f\"{material}, production [kt]\",\n",
    "                 hue='Nbr of countries',\n",
    "                 palette='colorblind',\n",
    "                 ax=ax)\n",
    "    ax.set_title(material)\n",
    "    ax.set_ylabel(None)\n",
    "    style_ax(ax)\n",
    "    ax.get_legend().remove()\n",
    "    \n",
    "ax.set_xlim(1950, 2020)\n",
    "ax.set_ylim(0, 2000)\n",
    "\n",
    "fig.suptitle(\"Raw material flows related to IGU production in the EU[kt]\")\n",
    "fig.subplots_adjust(hspace=0.4)\n",
    "sns.despine(offset=5)\n",
    "plt.show()"
   ]
  },
  {
   "cell_type": "code",
   "execution_count": null,
   "metadata": {},
   "outputs": [],
   "source": [
    "# Plot raw material flows for EU IGU production\n",
    "fig, axes = plt.subplots(nrows=3, ncols=2,\n",
    "                         sharex=True, sharey=True,\n",
    "                         figsize=(10, 8))\n",
    "\n",
    "for i, (ax, material) in enumerate(zip(axes.flatten(), materials)):\n",
    "    for a, b in EU_list:\n",
    "        ax.plot(EU_IGU.interpolate()\n",
    "                .rolling(5, center=True).mean().loc[a:b]\n",
    "                .reset_index(level='Nbr of countries')\n",
    "                .sort_values(by=['year'])\n",
    "                [f\"{material}, production [kt]\"],\n",
    "                linewidth=1.1, c='black', linestyle=':'\n",
    "                )\n",
    "        ax.set_title(material)\n",
    "        style_ax(ax)\n",
    "\n",
    "ax.set_xlim(1950, 2020)\n",
    "plt.xticks(np.arange(1950, 2021, 10))\n",
    "ax.set_ylim(0, 2000)\n",
    "\n",
    "fig.suptitle(\"Raw material flows relating to IGU production in the EU [kt/y]\")\n",
    "fig.subplots_adjust(hspace=0.4)\n",
    "sns.despine(offset=5)\n",
    "plt.show()"
   ]
  },
  {
   "cell_type": "code",
   "execution_count": null,
   "metadata": {},
   "outputs": [],
   "source": [
    "# Estimate total use of raw materials (sum per material):\n",
    "EU_IGU['Total raw materials, production [Mt]'] = 0\n",
    "\n",
    "for material in materials:\n",
    "    EU_IGU['Total raw materials, production [Mt]'] = (\n",
    "        EU_IGU[f\"{material}, production [kt]\"]/1000\n",
    "        + EU_IGU['Total raw materials, production [Mt]']\n",
    "    )"
   ]
  },
  {
   "cell_type": "code",
   "execution_count": null,
   "metadata": {},
   "outputs": [],
   "source": [
    "# Plot total material use for IGU production in the EU:\n",
    "fig, ax = plt.subplots(figsize=(8, 5))\n",
    "\n",
    "sns.lineplot(data=EU_IGU.reset_index(),\n",
    "             x='year', y='Total raw materials, production [Mt]',\n",
    "             hue='Nbr of countries',\n",
    "             palette='colorblind',\n",
    "             ax=ax)\n",
    "\n",
    "ax.set_xlim(1950, 2020)\n",
    "ax.set_ylim(0,4)\n",
    "ax.set_ylabel(None)\n",
    "style_ax(ax)\n",
    "ax.get_legend().remove()\n",
    "\n",
    "fig.suptitle(\"Total use of raw materials for IGU production in the EU [Mt/y]\")\n",
    "fig.subplots_adjust(hspace=0.4)\n",
    "sns.despine(offset=5)\n",
    "plt.show()"
   ]
  },
  {
   "cell_type": "code",
   "execution_count": null,
   "metadata": {},
   "outputs": [],
   "source": [
    "# Plot total material use for IGU production in the EU:\n",
    "fig, ax = plt.subplots(figsize=(8, 5))\n",
    "\n",
    "for a, b in EU_list:\n",
    "    ax.plot(EU_IGU.interpolate().rolling(5, center=True).mean()\n",
    "            .loc[a:b]\n",
    "            .reset_index(level='Nbr of countries')\n",
    "            .sort_values(by=['year'])\n",
    "            ['Total raw materials, production [Mt]'],\n",
    "            linewidth=1.1, c='black', linestyle=':'\n",
    "            )\n",
    "\n",
    "ax.set_xlim(1950, 2020)\n",
    "ax.set_ylim(0, 4)\n",
    "style_ax(ax)\n",
    "\n",
    "fig.suptitle(\"Total use of raw materials for IGU production in the EU [Mt]\")\n",
    "fig.subplots_adjust(hspace=0.4)\n",
    "sns.despine(offset=5)\n",
    "plt.show()"
   ]
  },
  {
   "cell_type": "markdown",
   "metadata": {},
   "source": [
    "## Energy use in the production of IGU"
   ]
  },
  {
   "cell_type": "code",
   "execution_count": null,
   "metadata": {},
   "outputs": [],
   "source": [
    "# Absolute use of energy for IGU production:\n",
    "for energy in energies:\n",
    "    EU_IGU[f\"{energy}, production [PJ]\"] = (\n",
    "        EU_IGU['Production [kt]']\n",
    "        * (EnergyIntensity[f\"{energy}, GJ/t\"]\n",
    "           .interpolate(method='pchip', limit_direction='forward'))/1000\n",
    "    )"
   ]
  },
  {
   "cell_type": "code",
   "execution_count": null,
   "metadata": {},
   "outputs": [],
   "source": [
    "# Plot energy used for EU flat glass production\n",
    "fig, axes = plt.subplots(nrows=1, ncols=3,\n",
    "                         sharex=True, sharey=True,\n",
    "                         figsize=(16, 4))\n",
    "\n",
    "for i, (ax, energy) in enumerate(zip(axes.flatten(), energies)):\n",
    "    sns.lineplot(data=EU_IGU.reset_index(),\n",
    "                 x='year', y=f\"{energy}, production [PJ]\",\n",
    "                 hue='Nbr of countries',\n",
    "                 palette='colorblind',\n",
    "                 ax=ax)\n",
    "    ax.set_title(energy)\n",
    "    ax.get_legend().remove()\n",
    "    ax.set_ylabel(None)\n",
    "    style_ax(ax)\n",
    "\n",
    "ax.set_xlim(1950, 2020)\n",
    "plt.xticks(np.arange(1950, 2021, 10))\n",
    "ax.set_ylim(0, 25)\n",
    "\n",
    "fig.suptitle(\"Energy used in the production of IGU in the EU [PJ]\", y=1.1)\n",
    "fig.subplots_adjust(hspace=0.4)\n",
    "sns.despine(offset=5)\n",
    "plt.show()"
   ]
  },
  {
   "cell_type": "code",
   "execution_count": null,
   "metadata": {},
   "outputs": [],
   "source": [
    "# Plot raw energy flows for IGU production:\n",
    "fig, axes = plt.subplots(nrows=1, ncols=3,\n",
    "                         sharex=True, sharey=True,\n",
    "                         figsize=(16, 4))\n",
    "\n",
    "for i, (ax, energy) in enumerate(zip(axes.flatten(), energies)):\n",
    "    for a, b in EU_list:\n",
    "        ax.plot(EU_IGU.interpolate()\n",
    "                .rolling(5, center=True).mean().loc[a:b]\n",
    "                .reset_index(level='Nbr of countries')\n",
    "                .sort_values(by=['year'])\n",
    "                [f\"{energy}, production [PJ]\"],\n",
    "                linewidth=1.1, c='black', linestyle=':'\n",
    "                )\n",
    "        ax.set_title(energy)\n",
    "        style_ax(ax)\n",
    "\n",
    "ax.set_xlim(1950, 2020)\n",
    "plt.xticks(np.arange(1950, 2021, 10))\n",
    "ax.set_ylim(0, 25)\n",
    "\n",
    "fig.suptitle(\"Raw material flows relating to IGU production in the EU [kt/y]\", \n",
    "             y=1.1)\n",
    "fig.subplots_adjust(hspace=0.4)\n",
    "sns.despine(offset=5)\n",
    "plt.show()"
   ]
  },
  {
   "cell_type": "code",
   "execution_count": null,
   "metadata": {},
   "outputs": [],
   "source": [
    "EU_IGU['Total energy, production [PJ]'] = 0\n",
    "\n",
    "for energy in energies:\n",
    "    EU_IGU['Total energy, production [PJ]'] = (\n",
    "        EU_IGU[f\"{energy}, production [PJ]\"]\n",
    "        + EU_IGU['Total energy, production [PJ]']\n",
    "    )"
   ]
  },
  {
   "cell_type": "code",
   "execution_count": null,
   "metadata": {},
   "outputs": [],
   "source": [
    "# Plot total energy use for EU flat glass production\n",
    "fig, ax = plt.subplots(figsize=(8, 5))\n",
    "\n",
    "sns.lineplot(data=EU_IGU.reset_index(),\n",
    "             x='year', y='Total energy, production [PJ]',\n",
    "             hue='Nbr of countries',\n",
    "             palette='colorblind',\n",
    "             ax=ax)\n",
    "\n",
    "ax.set_xlim(1950, 2020)\n",
    "plt.xticks(np.arange(1950, 2021, 10))\n",
    "ax.set_ylim(0, 40)\n",
    "ax.get_legend().remove()\n",
    "ax.set_ylabel(None)\n",
    "style_ax(ax)\n",
    "\n",
    "fig.suptitle(\"Total use of energy for IGU production in the EU [PJ]\")\n",
    "fig.subplots_adjust(hspace=0.4)\n",
    "sns.despine(offset=5)\n",
    "plt.show()"
   ]
  },
  {
   "cell_type": "code",
   "execution_count": null,
   "metadata": {},
   "outputs": [],
   "source": [
    "# Plot total energy use for IGU production in the EU:\n",
    "fig, ax = plt.subplots(figsize=(8, 5))\n",
    "\n",
    "for a, b in EU_list:\n",
    "    ax.plot(EU_IGU.interpolate().rolling(5, center=True).mean()\n",
    "            .loc[a:b]\n",
    "            .reset_index(level='Nbr of countries')\n",
    "            .sort_values(by=['year'])\n",
    "            ['Total energy, production [PJ]'],\n",
    "            linewidth=1.1, c='black', linestyle=':'\n",
    "            )\n",
    "\n",
    "ax.set_xlim(1950, 2020)\n",
    "ax.set_ylim(0, 40)\n",
    "style_ax(ax)\n",
    "\n",
    "fig.suptitle(\"Total use of energy for IGU production in the EU [PJ]\")\n",
    "fig.subplots_adjust(hspace=0.4)\n",
    "sns.despine(offset=5)\n",
    "plt.show()"
   ]
  },
  {
   "cell_type": "markdown",
   "metadata": {},
   "source": [
    "## Absolute CO2 Emissions relating to the production of IGU, EU"
   ]
  },
  {
   "cell_type": "code",
   "execution_count": null,
   "metadata": {},
   "outputs": [],
   "source": [
    "# Estimating the CO2 emission related to IGU production\n",
    "EU_IGU['CO2, production [kt]'] = (\n",
    "    EU_IGU['Production [kt]']\n",
    "    * CO2_Intensity['CO2 interpolated [kg/t]'] / 1000\n",
    ")"
   ]
  },
  {
   "cell_type": "code",
   "execution_count": null,
   "metadata": {},
   "outputs": [],
   "source": [
    "fig, ax = plt.subplots(figsize=(8, 5))\n",
    "\n",
    "sns.lineplot(data=EU_IGU.reset_index(),\n",
    "             x='year', y='CO2, production [kt]',\n",
    "             hue='Nbr of countries',\n",
    "             palette='colorblind',\n",
    "             ax=ax)\n",
    "ax.set_xlim(1980, 2020)\n",
    "ax.set_ylim(0, 2000)\n",
    "ax.get_legend().remove()\n",
    "\n",
    "fig.suptitle(\"CO2 emissions for EU IGU production [kt]\")\n",
    "fig.subplots_adjust(hspace=0.4)\n",
    "sns.despine(offset=5)\n",
    "plt.show()"
   ]
  },
  {
   "cell_type": "code",
   "execution_count": null,
   "metadata": {},
   "outputs": [],
   "source": [
    "# Estimating the CO2 emission related to IGU production\n",
    "EU_IGU['CO2, production [kt]'] = (\n",
    "    EU_IGU['Production [kt]'].interpolate()\n",
    "    * CO2_Intensity['CO2 interpolated [kg/t]'] / 1000\n",
    ")"
   ]
  },
  {
   "cell_type": "code",
   "execution_count": null,
   "metadata": {},
   "outputs": [],
   "source": [
    "# Plot total energy use for EU flat glass production\n",
    "fig, ax = plt.subplots(figsize=(8, 5))\n",
    "\n",
    "for a, b in EU_list:\n",
    "    ax.plot(EU_IGU.rolling(5, center=True).mean().loc[a:b]\n",
    "            .reset_index(level='Nbr of countries')\n",
    "            .sort_values(by=['year'])\n",
    "            ['CO2, production [kt]'],\n",
    "            linewidth=1.1, c='black', linestyle=':'\n",
    "            )\n",
    "\n",
    "ax.set_xlim(1945, 2020)\n",
    "ax.set_ylim(ymin=0)\n",
    "\n",
    "fig.suptitle(\"CO2 emissions for EU IGU production [kt]\")\n",
    "fig.subplots_adjust(hspace=0.4)\n",
    "sns.despine(offset=5, trim=True)\n",
    "plt.show()"
   ]
  },
  {
   "cell_type": "markdown",
   "metadata": {},
   "source": [
    "# Materials, Energy and Carbon footprint of IGU used in BE and FR"
   ]
  },
  {
   "cell_type": "markdown",
   "metadata": {},
   "source": [
    "## Raw Material Use for IGU Production"
   ]
  },
  {
   "cell_type": "code",
   "execution_count": null,
   "metadata": {},
   "outputs": [],
   "source": [
    "# Absolute use of raw materials for IGU production:\n",
    "for mat in materials:\n",
    "    for country in BE_FR_IGU['Production [kt]'].columns:\n",
    "        BE_FR_IGU[(f\"{mat}, production [kt]\", country)] = (\n",
    "            BE_FR_IGU[('Production [kt]', country)]\n",
    "            * MatIntensity[(f\"{mat}, kg/kg\")]\n",
    "        )"
   ]
  },
  {
   "cell_type": "code",
   "execution_count": null,
   "metadata": {},
   "outputs": [],
   "source": [
    "nrows = len(materials)\n",
    "ncols = len(countries)\n",
    "\n",
    "fig, axes = plt.subplots(nrows=nrows, ncols=ncols,\n",
    "                         sharex=True, sharey=True,\n",
    "                         figsize=(8, 16))\n",
    "\n",
    "for row, material in enumerate(materials):\n",
    "    for col, country in enumerate(countries):\n",
    "        ax = axes[row][col]\n",
    "        if row == 0:\n",
    "            ax.set_title(country)\n",
    "        if col == 0:\n",
    "            ax.set_ylabel(material)\n",
    "        BE_FR_IGU[(f\"{material}, production [kt]\", country)].plot(ax=ax)\n",
    "\n",
    "ax.set_xlim(1945, 2020)\n",
    "\n",
    "sns.despine()\n",
    "plt.show()"
   ]
  },
  {
   "cell_type": "code",
   "execution_count": null,
   "metadata": {},
   "outputs": [],
   "source": [
    "for country in countries:\n",
    "    BE_FR_IGU[('Total raw material use, production [kt]', country)] = 0\n",
    "\n",
    "for material in materials:\n",
    "    BE_FR_IGU['Total raw material use, production [kt]'] = (\n",
    "        BE_FR_IGU[f\"{material}, production [kt]\"]\n",
    "        + BE_FR_IGU['Total raw material use, production [kt]']\n",
    "    )"
   ]
  },
  {
   "cell_type": "code",
   "execution_count": null,
   "metadata": {},
   "outputs": [],
   "source": [
    "ncols = len(countries)\n",
    "\n",
    "fig, axes = plt.subplots(nrows=1, ncols=ncols,\n",
    "                         sharex=True, sharey=True,\n",
    "                         figsize=(16, 5))\n",
    "\n",
    "for col, country in enumerate(countries):\n",
    "    ax = axes[col]\n",
    "    (BE_FR_IGU[('Total raw material use, production [kt]', country)]\n",
    "     .plot(ax=ax))\n",
    "\n",
    "ax.set_xlim(1945, 2020)\n",
    "sns.despine()\n",
    "plt.show()"
   ]
  },
  {
   "cell_type": "code",
   "execution_count": null,
   "metadata": {},
   "outputs": [],
   "source": [
    "ncols = len(countries)\n",
    "\n",
    "fig, axes = plt.subplots(nrows=1, ncols=ncols,\n",
    "                         sharex=True, sharey=True,\n",
    "                         figsize=(16, 5))\n",
    "\n",
    "for col, country in enumerate(countries):\n",
    "    ax = axes[col]\n",
    "    (BE_FR_IGU[('Total raw material use, production [kt]', country)]\n",
    "     .rolling(5, center=True).mean()\n",
    "     .plot(ax=ax))\n",
    "\n",
    "ax.set_xlim(1945, 2020)\n",
    "sns.despine()\n",
    "plt.show()"
   ]
  },
  {
   "cell_type": "markdown",
   "metadata": {},
   "source": [
    "## Energy use for IGU Production"
   ]
  },
  {
   "cell_type": "code",
   "execution_count": null,
   "metadata": {},
   "outputs": [],
   "source": [
    "# Absolute use of energy for flat glass production:\n",
    "for energy in energies:\n",
    "    for country in countries:\n",
    "        BE_FR_IGU[(f\"{energy}, production [TJ]\", country)] = (\n",
    "            BE_FR_IGU[('Production [kt]', country)]\n",
    "            * EnergyIntensity[(f\"{energy}, GJ/t\")]\n",
    "        )"
   ]
  },
  {
   "cell_type": "code",
   "execution_count": null,
   "metadata": {},
   "outputs": [],
   "source": [
    "nrows = len(energies)\n",
    "ncols = len(countries)\n",
    "\n",
    "fig, axes = plt.subplots(nrows=nrows, ncols=ncols,\n",
    "                         sharex=True, sharey=True,\n",
    "                         figsize=(16, 10))\n",
    "for row, energy in enumerate(energies):\n",
    "    for col, country in enumerate(countries):\n",
    "        ax = axes[row][col]\n",
    "        if row == 0:\n",
    "            ax.set_title(country)\n",
    "        if col == 0:\n",
    "            ax.set_ylabel(energy)\n",
    "        BE_FR_IGU[(f\"{energy}, production [TJ]\", country)].plot(ax=ax)\n",
    "\n",
    "ax.set_xlim(1945, 2020)\n",
    "ax.set_ylim(ymin=0)\n",
    "\n",
    "sns.despine()\n",
    "plt.show()"
   ]
  },
  {
   "cell_type": "code",
   "execution_count": null,
   "metadata": {},
   "outputs": [],
   "source": [
    "for country in countries:\n",
    "    BE_FR_IGU[('Total energy use, production [TJ]', country)] = 0\n",
    "\n",
    "for energy in energies:\n",
    "    BE_FR_IGU['Total energy use, production [TJ]'] = (\n",
    "        BE_FR_IGU[f\"{energy}, production [TJ]\"]\n",
    "        + BE_FR_IGU['Total energy use, production [TJ]']\n",
    "    )"
   ]
  },
  {
   "cell_type": "code",
   "execution_count": null,
   "metadata": {},
   "outputs": [],
   "source": [
    "ncols = len(countries)\n",
    "\n",
    "fig, axes = plt.subplots(nrows=1, ncols=ncols,\n",
    "                         sharex=True, sharey=True,\n",
    "                         figsize=(16, 5))\n",
    "\n",
    "for col, country in enumerate(countries):\n",
    "    ax = axes[col]\n",
    "    (BE_FR_IGU[('Total energy use, production [TJ]', country)]\n",
    "     .plot(ax=ax))\n",
    "\n",
    "ax.set_xlim(1945, 2020)\n",
    "sns.despine()\n",
    "plt.show()"
   ]
  },
  {
   "cell_type": "code",
   "execution_count": null,
   "metadata": {},
   "outputs": [],
   "source": [
    "ncols = len(countries)\n",
    "\n",
    "fig, axes = plt.subplots(nrows=1, ncols=ncols,\n",
    "                         sharex=True, sharey=True,\n",
    "                         figsize=(16, 5))\n",
    "\n",
    "for col, country in enumerate(countries):\n",
    "    ax = axes[col]\n",
    "    (BE_FR_IGU[('Total energy use, production [TJ]', country)]\n",
    "     .rolling(5, center=True).mean()\n",
    "     .plot(ax=ax))\n",
    "\n",
    "ax.set_xlim(1945, 2020)\n",
    "sns.despine()\n",
    "plt.show()"
   ]
  },
  {
   "cell_type": "markdown",
   "metadata": {},
   "source": [
    "## CO2 Emissions Relating to IGU Production and Consumption in France and Belgium"
   ]
  },
  {
   "cell_type": "code",
   "execution_count": null,
   "metadata": {},
   "outputs": [],
   "source": [
    "# Estimating the CO2 emission related to IGU production\n",
    "for country in BE_FR_IGU['Production [kt]'].columns:\n",
    "    BE_FR_IGU[('CO2, IGU production [ktCO2]', country)] = (\n",
    "        BE_FR_IGU[('Production [kt]', country)]\n",
    "        * CO2_Intensity['CO2 interpolated [kg/t]'] / 1000\n",
    "    )"
   ]
  },
  {
   "cell_type": "code",
   "execution_count": null,
   "metadata": {},
   "outputs": [],
   "source": [
    "# Estimating the CO2 emission related to IGU consumption\n",
    "for country in BE_FR_IGU['Consumption [kt]'].columns:\n",
    "    BE_FR_IGU[('CO2, IGU consumption [ktCO2]', country)] = (\n",
    "        BE_FR_IGU[('Consumption [kt]', country)]\n",
    "        * CO2_Intensity['CO2 interpolated [kg/t]'] / 1000\n",
    "    )"
   ]
  },
  {
   "cell_type": "code",
   "execution_count": null,
   "metadata": {},
   "outputs": [],
   "source": [
    "CO2_IGU = ['production', 'consumption']"
   ]
  },
  {
   "cell_type": "code",
   "execution_count": null,
   "metadata": {},
   "outputs": [],
   "source": [
    "nrows = len(CO2_IGU)\n",
    "\n",
    "fig, axes = plt.subplots(nrows=nrows, ncols=ncols,\n",
    "                         sharex=True, sharey=True,\n",
    "                         figsize=(8, 8))\n",
    "\n",
    "for row, CO2 in enumerate(CO2_IGU):\n",
    "    for col, country in enumerate(countries):\n",
    "        ax = axes[row][col]\n",
    "        if row == 0:\n",
    "            ax.set_title(country)\n",
    "        if col == 0:\n",
    "            ax.set_ylabel(CO2)\n",
    "        BE_FR_IGU[(f\"CO2, IGU {CO2} [ktCO2]\", country)].plot(ax=ax)\n",
    "\n",
    "ax.set_xlim(1945, 2020)\n",
    "\n",
    "sns.despine()\n",
    "plt.show()"
   ]
  },
  {
   "cell_type": "code",
   "execution_count": null,
   "metadata": {},
   "outputs": [],
   "source": [
    "nrows = len(CO2_IGU)\n",
    "\n",
    "fig, axes = plt.subplots(nrows=nrows, ncols=ncols,\n",
    "                         sharex=True, sharey=True,\n",
    "                         figsize=(8, 8))\n",
    "\n",
    "for row, CO2 in enumerate(CO2_IGU):\n",
    "    for col, country in enumerate(countries):\n",
    "        ax = axes[row][col]\n",
    "        if row == 0:\n",
    "            ax.set_title(country)\n",
    "        if col == 0:\n",
    "            ax.set_ylabel(CO2)\n",
    "        (BE_FR_IGU[(f\"CO2, IGU {CO2} [ktCO2]\", country)]\n",
    "         .rolling(5, center=True).mean().\n",
    "         plot(ax=ax)\n",
    "         )\n",
    "\n",
    "ax.set_xlim(1945, 2020)\n",
    "\n",
    "sns.despine()\n",
    "plt.show()"
   ]
  },
  {
   "cell_type": "markdown",
   "metadata": {},
   "source": [
    "## CO2 Emissions: Base 100 Analysis"
   ]
  },
  {
   "cell_type": "code",
   "execution_count": null,
   "metadata": {},
   "outputs": [],
   "source": [
    "# Base 100 = 1980\n",
    "IGUProd_diff = (100 * BE_FR_IGU['Production [kt]']\n",
    "                / BE_FR_IGU['Production [kt]'].loc[1980]\n",
    "                )\n",
    "\n",
    "CO2Intensity_diff = 100 * CO2_Intensity / CO2_Intensity.loc[1980]\n",
    "\n",
    "CO2ABS_IGUdiff = (100 * BE_FR_IGU['CO2, IGU production [ktCO2]']\n",
    "                  / BE_FR_IGU['CO2, IGU production [ktCO2]'].loc[1980]\n",
    "                  )\n",
    "\n",
    "# Plotting production, carbon intensity, CO2 absolute emissions for France\n",
    "fig, ax = plt.subplots(figsize=(8, 5))\n",
    "sns.lineplot(data=IGUProd_diff,\n",
    "             x=IGUProd_diff.index,\n",
    "             y='France',\n",
    "             ax=ax)\n",
    "\n",
    "ax.plot(CO2Intensity_diff.index,\n",
    "        CO2Intensity_diff['CO2 interpolated [kg/t]'])\n",
    "ax.plot(CO2ABS_IGUdiff.index,\n",
    "        CO2ABS_IGUdiff['France'])\n",
    "\n",
    "ax.plot([1980, 2015], [100, 100], '--')\n",
    "\n",
    "ax.set_xlim(1980, 2015)\n",
    "ax.set_ylim(ymin=0)\n",
    "sns.despine()\n",
    "plt.show()"
   ]
  },
  {
   "cell_type": "code",
   "execution_count": null,
   "metadata": {},
   "outputs": [],
   "source": [
    "# Base 100 = 1980\n",
    "IGUProd_diff = (100 * BE_FR_IGU['Production [kt]']\n",
    "                .rolling(5, center=True).mean()\n",
    "                / BE_FR_IGU['Production [kt]']\n",
    "                .rolling(5, center=True).mean()\n",
    "                .loc[1980]\n",
    "                )\n",
    "\n",
    "CO2Intensity_diff = 100 * CO2_Intensity / CO2_Intensity.loc[1980]\n",
    "\n",
    "CO2ABS_IGUdiff = (100 * BE_FR_IGU['CO2, IGU production [ktCO2]']\n",
    "                  .rolling(5, center=True).mean()\n",
    "                  / BE_FR_IGU['CO2, IGU production [ktCO2]']\n",
    "                  .rolling(5, center=True).mean()\n",
    "                  .loc[1980]\n",
    "                  )\n",
    "\n",
    "# Plotting production, carbon intensity, CO2 absolute emissions for France\n",
    "fig, ax = plt.subplots(figsize=(8, 5))\n",
    "sns.lineplot(data=IGUProd_diff,\n",
    "             x=IGUProd_diff.index,\n",
    "             y='France',\n",
    "             ax=ax)\n",
    "\n",
    "ax.plot(CO2Intensity_diff.index,\n",
    "        CO2Intensity_diff['CO2 interpolated [kg/t]'])\n",
    "ax.plot(CO2ABS_IGUdiff.index,\n",
    "        CO2ABS_IGUdiff['France'])\n",
    "\n",
    "ax.plot([1980, 2015], [100, 100], '--')\n",
    "\n",
    "ax.set_xlim(1980, 2015)\n",
    "ax.set_ylim(ymin=0)\n",
    "sns.despine()\n",
    "plt.show()"
   ]
  },
  {
   "cell_type": "markdown",
   "metadata": {},
   "source": [
    "## Summary"
   ]
  },
  {
   "cell_type": "code",
   "execution_count": null,
   "metadata": {},
   "outputs": [],
   "source": []
  },
  {
   "cell_type": "code",
   "execution_count": null,
   "metadata": {},
   "outputs": [],
   "source": []
  },
  {
   "cell_type": "code",
   "execution_count": null,
   "metadata": {},
   "outputs": [],
   "source": []
  },
  {
   "cell_type": "markdown",
   "metadata": {},
   "source": [
    "# Dynamic Stock Modelling"
   ]
  },
  {
   "cell_type": "markdown",
   "metadata": {},
   "source": [
    "Pauliuk and Heeren, + github and notebook"
   ]
  },
  {
   "cell_type": "markdown",
   "metadata": {},
   "source": [
    "## Define System"
   ]
  },
  {
   "cell_type": "code",
   "execution_count": null,
   "metadata": {},
   "outputs": [],
   "source": [
    "# Create dictionary of model classifications\n",
    "ModelClassification = {}\n",
    "\n",
    "# Retrospective MFA from 1945 to 2020\n",
    "MyYears = list(np.arange(1945, 2020))"
   ]
  },
  {
   "cell_type": "code",
   "execution_count": null,
   "metadata": {},
   "outputs": [],
   "source": [
    "# Classification for time labelled 'Time' must always be present,\n",
    "# with Items containing a list of odered integers representing years, months,\n",
    "# or other discrete time intervals\n",
    "ModelClassification['Time'] = msc.Classification(Name='Time',\n",
    "                                                 Dimension='Time',\n",
    "                                                 ID=1, Items=MyYears)"
   ]
  },
  {
   "cell_type": "code",
   "execution_count": null,
   "metadata": {},
   "outputs": [],
   "source": [
    "# Classification for cohort is used to track age-cohorts in the stock.\n",
    "ModelClassification['Cohort'] = msc.Classification(Name='Age-cohort',\n",
    "                                                   Dimension='Time',\n",
    "                                                   ID=1, Items=MyYears)"
   ]
  },
  {
   "cell_type": "code",
   "execution_count": null,
   "metadata": {},
   "outputs": [],
   "source": [
    "# Classification for elements labelled 'Element',\n",
    "# with Items containing a list of the symbols of the elements covered.\n",
    "ModelClassification['Element'] = msc.Classification(Name='Elements',\n",
    "                                                    Dimension='Element',\n",
    "                                                    ID=2, Items=['IGU'])"
   ]
  },
  {
   "cell_type": "code",
   "execution_count": null,
   "metadata": {},
   "outputs": [],
   "source": [
    "# Classification for regions including Belgium and France.\n",
    "MyRegions = countries + ['Europe']\n",
    "\n",
    "ModelClassification['Region'] = msc.Classification(Name='Regions',\n",
    "                                                   Dimension='Region',\n",
    "                                                   ID=3, Items=MyRegions)"
   ]
  },
  {
   "cell_type": "code",
   "execution_count": null,
   "metadata": {},
   "outputs": [],
   "source": [
    "# Get model time start, end, and duration:\n",
    "Model_Time_Start = int(min(ModelClassification['Time'].Items))\n",
    "Model_Time_End = int(max(ModelClassification['Time'].Items))\n",
    "Model_Duration = Model_Time_End - Model_Time_Start"
   ]
  },
  {
   "cell_type": "code",
   "execution_count": null,
   "metadata": {},
   "outputs": [],
   "source": [
    "# The indext table lists all aspects needed\n",
    "# and assigns a classification and index letter to each aspect.\n",
    "IndexTable = (\n",
    "    pd.DataFrame({'Aspect': ['Time', 'Age-cohort',\n",
    "                             'Element', 'Region'],\n",
    "                  'Description': ['Model aspect \"time\"',\n",
    "                                  'Model aspect \"age-cohort\"',\n",
    "                                  'Model aspect \"Element\"',\n",
    "                                  'Model aspect \"Region where flow is\"'],\n",
    "                  'Dimension': ['Time', 'Time', 'Element', 'Region'],\n",
    "                  'Classification': ([ModelClassification[Aspect]\n",
    "                                      for Aspect in ['Time',\n",
    "                                                     'Cohort',\n",
    "                                                     'Element',\n",
    "                                                     'Region']]\n",
    "                                     ),\n",
    "                  'IndexLetter': ['t', 'c', 'e', 'r']}\n",
    "                 )\n",
    ")\n",
    "\n",
    "# Default indexing of IndexTable:\n",
    "IndexTable.set_index('Aspect', inplace=True)\n",
    "\n",
    "IndexTable"
   ]
  },
  {
   "cell_type": "code",
   "execution_count": null,
   "metadata": {},
   "outputs": [],
   "source": [
    "Dyn_MFA_System = msc.MFAsystem(Name='StockAccumulationSystem',\n",
    "                               Geogr_Scope='3SelectedRegions',\n",
    "                               Unit='10^6 m²',\n",
    "                               ProcessList=[],\n",
    "                               FlowDict={},\n",
    "                               StockDict={},\n",
    "                               ParameterDict={},\n",
    "                               Time_Start=Model_Time_Start,\n",
    "                               Time_End=Model_Time_End,\n",
    "                               IndexTable=IndexTable,\n",
    "                               # Initialize MFA system:\n",
    "                               Elements=(IndexTable.loc['Element']\n",
    "                                         .Classification.Items)\n",
    "                               )"
   ]
  },
  {
   "cell_type": "markdown",
   "metadata": {},
   "source": [
    "## Creating a DataFrame gathering EU, BE and FR IGU consumption flows"
   ]
  },
  {
   "cell_type": "code",
   "execution_count": null,
   "metadata": {},
   "outputs": [],
   "source": [
    "IGU_Use = (pd.DataFrame({'Year': list(np.arange(1945, 2021))})\n",
    "           .set_index('Year'))"
   ]
  },
  {
   "cell_type": "code",
   "execution_count": null,
   "metadata": {},
   "outputs": [],
   "source": [
    "units = ['kt', '10^6 m²']"
   ]
  },
  {
   "cell_type": "code",
   "execution_count": null,
   "metadata": {},
   "outputs": [],
   "source": [
    "# Create a unique DataFrame for EU, FR and BE IGU consumption flows:\n",
    "for unit in units:\n",
    "    IGU_Use[f'EU [{unit}]'] = (EU_IGU.interpolate().reset_index()\n",
    "                               .drop_duplicates(subset=['year'],\n",
    "                                                keep='last')\n",
    "                               .set_index(['year'])[f'Consumption [{unit}]'])\n",
    "    for i in IGU_Use.index:\n",
    "        if (i != 2020 and IGU_Use[f'EU [{unit}]'].isna().loc[i]):\n",
    "            IGU_Use[f'EU [{unit}]'].loc[i] = (EU_IGU.interpolate().reset_index()\n",
    "                                              .drop_duplicates(subset=['year'],\n",
    "                                                               keep='last')\n",
    "                                              .set_index(['year'])[f'Production [{unit}]']\n",
    "                                              .loc[i])"
   ]
  },
  {
   "cell_type": "code",
   "execution_count": null,
   "metadata": {},
   "outputs": [],
   "source": [
    "IGU_Use = pd.concat([IGU_Use['EU [kt]'], IGU_Use['EU [10^6 m²]']],\n",
    "                    axis=1, keys=[('Europe', '[kt]'),\n",
    "                                  ('Europe', '[10^6 m²]')],\n",
    "                    names=['Region', 'Unit']).stack()\n",
    "\n",
    "IGU_Use = IGU_Use.unstack()"
   ]
  },
  {
   "cell_type": "markdown",
   "metadata": {},
   "source": [
    "## Formatting Data"
   ]
  },
  {
   "cell_type": "code",
   "execution_count": null,
   "metadata": {},
   "outputs": [],
   "source": [
    "LifetimeFile = xlrd.open_workbook(\n",
    "    os.path.join(ROOT_DIR, 'IGU_Lifetime_EU_BE_FR.xlsx'))\n",
    "\n",
    "Datasheet = LifetimeFile.sheet_by_name('Average_Lifetime')\n",
    "\n",
    "Lifetimes = []\n",
    "\n",
    "# Add lifetime values to list\n",
    "for m in range(1, 4):\n",
    "    Lifetimes.append(Datasheet.cell_value(m, 1))\n",
    "print(Lifetimes)"
   ]
  },
  {
   "cell_type": "code",
   "execution_count": null,
   "metadata": {},
   "outputs": [],
   "source": [
    "InflowFile = xlrd.open_workbook(os.path.join(\n",
    "    DataPath, 'Steel_Consumption_Final_9Countries.xlsx'))\n",
    "Datasheet = InflowFile.sheet_by_name('FinalSteelConsumption')\n",
    "\n",
    "# OriginRegion x DestinationRegion x Year\n",
    "InflowArray = np.zeros((len(MyRegions), len(MyYears)))\n",
    "print(InflowArray.shape)\n",
    "\n",
    "OriginCountryPosition = len(MyRegions)\n",
    "YearPosition = len(MyYears)\n",
    "\n",
    "for m in range(1, 982):\n",
    "    InflowArray[0, YearPosition] = Datasheet.cell_value(m, 13)"
   ]
  },
  {
   "cell_type": "code",
   "execution_count": null,
   "metadata": {},
   "outputs": [],
   "source": []
  },
  {
   "cell_type": "code",
   "execution_count": null,
   "metadata": {},
   "outputs": [],
   "source": []
  },
  {
   "cell_type": "code",
   "execution_count": null,
   "metadata": {},
   "outputs": [],
   "source": []
  },
  {
   "cell_type": "code",
   "execution_count": null,
   "metadata": {},
   "outputs": [],
   "source": []
  },
  {
   "cell_type": "code",
   "execution_count": null,
   "metadata": {},
   "outputs": [],
   "source": []
  }
 ],
 "metadata": {
  "kernelspec": {
   "display_name": "Python 3",
   "language": "python",
   "name": "python3"
  },
  "language_info": {
   "codemirror_mode": {
    "name": "ipython",
    "version": 3
   },
   "file_extension": ".py",
   "mimetype": "text/x-python",
   "name": "python",
   "nbconvert_exporter": "python",
   "pygments_lexer": "ipython3",
   "version": "3.9.2"
  },
  "toc": {
   "base_numbering": 1,
   "nav_menu": {},
   "number_sections": true,
   "sideBar": true,
   "skip_h1_title": false,
   "title_cell": "Table of Contents",
   "title_sidebar": "Contents",
   "toc_cell": false,
   "toc_position": {
    "height": "calc(100% - 180px)",
    "left": "10px",
    "top": "150px",
    "width": "165px"
   },
   "toc_section_display": true,
   "toc_window_display": false
  },
  "varInspector": {
   "cols": {
    "lenName": 16,
    "lenType": 16,
    "lenVar": 40
   },
   "kernels_config": {
    "python": {
     "delete_cmd_postfix": "",
     "delete_cmd_prefix": "del ",
     "library": "var_list.py",
     "varRefreshCmd": "print(var_dic_list())"
    },
    "r": {
     "delete_cmd_postfix": ") ",
     "delete_cmd_prefix": "rm(",
     "library": "var_list.r",
     "varRefreshCmd": "cat(var_dic_list()) "
    }
   },
   "types_to_exclude": [
    "module",
    "function",
    "builtin_function_or_method",
    "instance",
    "_Feature"
   ],
   "window_display": false
  }
 },
 "nbformat": 4,
 "nbformat_minor": 4
}
